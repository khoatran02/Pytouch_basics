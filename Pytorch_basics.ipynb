{
  "nbformat": 4,
  "nbformat_minor": 0,
  "metadata": {
    "colab": {
      "provenance": [],
      "toc_visible": true,
      "machine_shape": "hm",
      "authorship_tag": "ABX9TyNmi3jlGnjg2CxiipD4tU2T",
      "include_colab_link": true
    },
    "kernelspec": {
      "name": "python3",
      "display_name": "Python 3"
    },
    "language_info": {
      "name": "python"
    },
    "accelerator": "GPU",
    "widgets": {
      "application/vnd.jupyter.widget-state+json": {
        "10df340153294c11ab83185e25c3a16f": {
          "model_module": "@jupyter-widgets/controls",
          "model_name": "HBoxModel",
          "model_module_version": "1.5.0",
          "state": {
            "_dom_classes": [],
            "_model_module": "@jupyter-widgets/controls",
            "_model_module_version": "1.5.0",
            "_model_name": "HBoxModel",
            "_view_count": null,
            "_view_module": "@jupyter-widgets/controls",
            "_view_module_version": "1.5.0",
            "_view_name": "HBoxView",
            "box_style": "",
            "children": [
              "IPY_MODEL_9c7d67e0f59942cda14bbc1b4c279f9a",
              "IPY_MODEL_55b65c27e1824e65bf55b7739bcb1618",
              "IPY_MODEL_42adeef1f78e4c7db70c7ffe2f3b79fe"
            ],
            "layout": "IPY_MODEL_b2d88d2c52b94b308c09f69b71d6a620"
          }
        },
        "9c7d67e0f59942cda14bbc1b4c279f9a": {
          "model_module": "@jupyter-widgets/controls",
          "model_name": "HTMLModel",
          "model_module_version": "1.5.0",
          "state": {
            "_dom_classes": [],
            "_model_module": "@jupyter-widgets/controls",
            "_model_module_version": "1.5.0",
            "_model_name": "HTMLModel",
            "_view_count": null,
            "_view_module": "@jupyter-widgets/controls",
            "_view_module_version": "1.5.0",
            "_view_name": "HTMLView",
            "description": "",
            "description_tooltip": null,
            "layout": "IPY_MODEL_36a309f9e13c46529ebfcddc458d47cf",
            "placeholder": "​",
            "style": "IPY_MODEL_ae70f1d576b4406ebebc5d0a9019e55a",
            "value": "100%"
          }
        },
        "55b65c27e1824e65bf55b7739bcb1618": {
          "model_module": "@jupyter-widgets/controls",
          "model_name": "FloatProgressModel",
          "model_module_version": "1.5.0",
          "state": {
            "_dom_classes": [],
            "_model_module": "@jupyter-widgets/controls",
            "_model_module_version": "1.5.0",
            "_model_name": "FloatProgressModel",
            "_view_count": null,
            "_view_module": "@jupyter-widgets/controls",
            "_view_module_version": "1.5.0",
            "_view_name": "ProgressView",
            "bar_style": "success",
            "description": "",
            "description_tooltip": null,
            "layout": "IPY_MODEL_73bfd4a3d0cc41599ff1fbf5202d007a",
            "max": 170498071,
            "min": 0,
            "orientation": "horizontal",
            "style": "IPY_MODEL_b6e62a3d65274e9887382089f4f81533",
            "value": 170498071
          }
        },
        "42adeef1f78e4c7db70c7ffe2f3b79fe": {
          "model_module": "@jupyter-widgets/controls",
          "model_name": "HTMLModel",
          "model_module_version": "1.5.0",
          "state": {
            "_dom_classes": [],
            "_model_module": "@jupyter-widgets/controls",
            "_model_module_version": "1.5.0",
            "_model_name": "HTMLModel",
            "_view_count": null,
            "_view_module": "@jupyter-widgets/controls",
            "_view_module_version": "1.5.0",
            "_view_name": "HTMLView",
            "description": "",
            "description_tooltip": null,
            "layout": "IPY_MODEL_10d6e706090a478c9ccbacccfa68b375",
            "placeholder": "​",
            "style": "IPY_MODEL_5e3641e9868b4c50bde93a830884886d",
            "value": " 170498071/170498071 [00:12&lt;00:00, 16152984.82it/s]"
          }
        },
        "b2d88d2c52b94b308c09f69b71d6a620": {
          "model_module": "@jupyter-widgets/base",
          "model_name": "LayoutModel",
          "model_module_version": "1.2.0",
          "state": {
            "_model_module": "@jupyter-widgets/base",
            "_model_module_version": "1.2.0",
            "_model_name": "LayoutModel",
            "_view_count": null,
            "_view_module": "@jupyter-widgets/base",
            "_view_module_version": "1.2.0",
            "_view_name": "LayoutView",
            "align_content": null,
            "align_items": null,
            "align_self": null,
            "border": null,
            "bottom": null,
            "display": null,
            "flex": null,
            "flex_flow": null,
            "grid_area": null,
            "grid_auto_columns": null,
            "grid_auto_flow": null,
            "grid_auto_rows": null,
            "grid_column": null,
            "grid_gap": null,
            "grid_row": null,
            "grid_template_areas": null,
            "grid_template_columns": null,
            "grid_template_rows": null,
            "height": null,
            "justify_content": null,
            "justify_items": null,
            "left": null,
            "margin": null,
            "max_height": null,
            "max_width": null,
            "min_height": null,
            "min_width": null,
            "object_fit": null,
            "object_position": null,
            "order": null,
            "overflow": null,
            "overflow_x": null,
            "overflow_y": null,
            "padding": null,
            "right": null,
            "top": null,
            "visibility": null,
            "width": null
          }
        },
        "36a309f9e13c46529ebfcddc458d47cf": {
          "model_module": "@jupyter-widgets/base",
          "model_name": "LayoutModel",
          "model_module_version": "1.2.0",
          "state": {
            "_model_module": "@jupyter-widgets/base",
            "_model_module_version": "1.2.0",
            "_model_name": "LayoutModel",
            "_view_count": null,
            "_view_module": "@jupyter-widgets/base",
            "_view_module_version": "1.2.0",
            "_view_name": "LayoutView",
            "align_content": null,
            "align_items": null,
            "align_self": null,
            "border": null,
            "bottom": null,
            "display": null,
            "flex": null,
            "flex_flow": null,
            "grid_area": null,
            "grid_auto_columns": null,
            "grid_auto_flow": null,
            "grid_auto_rows": null,
            "grid_column": null,
            "grid_gap": null,
            "grid_row": null,
            "grid_template_areas": null,
            "grid_template_columns": null,
            "grid_template_rows": null,
            "height": null,
            "justify_content": null,
            "justify_items": null,
            "left": null,
            "margin": null,
            "max_height": null,
            "max_width": null,
            "min_height": null,
            "min_width": null,
            "object_fit": null,
            "object_position": null,
            "order": null,
            "overflow": null,
            "overflow_x": null,
            "overflow_y": null,
            "padding": null,
            "right": null,
            "top": null,
            "visibility": null,
            "width": null
          }
        },
        "ae70f1d576b4406ebebc5d0a9019e55a": {
          "model_module": "@jupyter-widgets/controls",
          "model_name": "DescriptionStyleModel",
          "model_module_version": "1.5.0",
          "state": {
            "_model_module": "@jupyter-widgets/controls",
            "_model_module_version": "1.5.0",
            "_model_name": "DescriptionStyleModel",
            "_view_count": null,
            "_view_module": "@jupyter-widgets/base",
            "_view_module_version": "1.2.0",
            "_view_name": "StyleView",
            "description_width": ""
          }
        },
        "73bfd4a3d0cc41599ff1fbf5202d007a": {
          "model_module": "@jupyter-widgets/base",
          "model_name": "LayoutModel",
          "model_module_version": "1.2.0",
          "state": {
            "_model_module": "@jupyter-widgets/base",
            "_model_module_version": "1.2.0",
            "_model_name": "LayoutModel",
            "_view_count": null,
            "_view_module": "@jupyter-widgets/base",
            "_view_module_version": "1.2.0",
            "_view_name": "LayoutView",
            "align_content": null,
            "align_items": null,
            "align_self": null,
            "border": null,
            "bottom": null,
            "display": null,
            "flex": null,
            "flex_flow": null,
            "grid_area": null,
            "grid_auto_columns": null,
            "grid_auto_flow": null,
            "grid_auto_rows": null,
            "grid_column": null,
            "grid_gap": null,
            "grid_row": null,
            "grid_template_areas": null,
            "grid_template_columns": null,
            "grid_template_rows": null,
            "height": null,
            "justify_content": null,
            "justify_items": null,
            "left": null,
            "margin": null,
            "max_height": null,
            "max_width": null,
            "min_height": null,
            "min_width": null,
            "object_fit": null,
            "object_position": null,
            "order": null,
            "overflow": null,
            "overflow_x": null,
            "overflow_y": null,
            "padding": null,
            "right": null,
            "top": null,
            "visibility": null,
            "width": null
          }
        },
        "b6e62a3d65274e9887382089f4f81533": {
          "model_module": "@jupyter-widgets/controls",
          "model_name": "ProgressStyleModel",
          "model_module_version": "1.5.0",
          "state": {
            "_model_module": "@jupyter-widgets/controls",
            "_model_module_version": "1.5.0",
            "_model_name": "ProgressStyleModel",
            "_view_count": null,
            "_view_module": "@jupyter-widgets/base",
            "_view_module_version": "1.2.0",
            "_view_name": "StyleView",
            "bar_color": null,
            "description_width": ""
          }
        },
        "10d6e706090a478c9ccbacccfa68b375": {
          "model_module": "@jupyter-widgets/base",
          "model_name": "LayoutModel",
          "model_module_version": "1.2.0",
          "state": {
            "_model_module": "@jupyter-widgets/base",
            "_model_module_version": "1.2.0",
            "_model_name": "LayoutModel",
            "_view_count": null,
            "_view_module": "@jupyter-widgets/base",
            "_view_module_version": "1.2.0",
            "_view_name": "LayoutView",
            "align_content": null,
            "align_items": null,
            "align_self": null,
            "border": null,
            "bottom": null,
            "display": null,
            "flex": null,
            "flex_flow": null,
            "grid_area": null,
            "grid_auto_columns": null,
            "grid_auto_flow": null,
            "grid_auto_rows": null,
            "grid_column": null,
            "grid_gap": null,
            "grid_row": null,
            "grid_template_areas": null,
            "grid_template_columns": null,
            "grid_template_rows": null,
            "height": null,
            "justify_content": null,
            "justify_items": null,
            "left": null,
            "margin": null,
            "max_height": null,
            "max_width": null,
            "min_height": null,
            "min_width": null,
            "object_fit": null,
            "object_position": null,
            "order": null,
            "overflow": null,
            "overflow_x": null,
            "overflow_y": null,
            "padding": null,
            "right": null,
            "top": null,
            "visibility": null,
            "width": null
          }
        },
        "5e3641e9868b4c50bde93a830884886d": {
          "model_module": "@jupyter-widgets/controls",
          "model_name": "DescriptionStyleModel",
          "model_module_version": "1.5.0",
          "state": {
            "_model_module": "@jupyter-widgets/controls",
            "_model_module_version": "1.5.0",
            "_model_name": "DescriptionStyleModel",
            "_view_count": null,
            "_view_module": "@jupyter-widgets/base",
            "_view_module_version": "1.2.0",
            "_view_name": "StyleView",
            "description_width": ""
          }
        }
      }
    }
  },
  "cells": [
    {
      "cell_type": "markdown",
      "metadata": {
        "id": "view-in-github",
        "colab_type": "text"
      },
      "source": [
        "<a href=\"https://colab.research.google.com/github/khoatran02/Pytouch_basics/blob/main/Pytorch_basics.ipynb\" target=\"_parent\"><img src=\"https://colab.research.google.com/assets/colab-badge.svg\" alt=\"Open In Colab\"/></a>"
      ]
    },
    {
      "cell_type": "markdown",
      "source": [
        "#What is Pytoch?\n",
        "Trong số những framework hỗ trợ deeplearning thì pytorch là một trong những framework được ưa chuộng nhiều nhất (cùng với tensorflow và keras), có lượng người dùng đông đảo, cộng đồng lớn mạnh. Vào năm 2019 framework này đã vươn lên vị trí thứ 2 về số lượng người dùng trong những framework hỗ trợ deeplearning (chỉ sau tensorflow). Đây là package sử dụng các thư viện của CUDA và C/C++ hỗ trợ các tính toán trên GPU nhằm gia tăng tốc độ xử lý của mô hình. 2 mục tiêu chủ đạo của package này hướng tới là:\n",
        "\n",
        "* Thay thế kiến trúc của numpy để tính toán được trên GPU.\n",
        "* Deep learning platform cung cấp các xử lý tốc độ và linh hoạt.\n",
        "\n",
        "Trước khi đọc bài viết này, bạn đọc có thể ôn lại bài hướng dẫn về tensorflow deeplearning framework để tự rút ra được những so sánh về các đặc điểm chung và các ưu nhược điểm của 2 framework này.\n",
        "\n",
        "Để sử dụng pytorch trên GPU bắt buộc các bạn phải cài CUDA và tất nhiên phải có GPU. Hướng dẫn cài đặt pytorch có thể xem tại pytorch install. Trên google colab thì thư viện này và tensorflow đã được tích hợp sẵn cho người dùng.\n",
        "\n",
        "Bên dưới chúng ta cùng tìm hiểu:\n",
        "\n",
        "* Định dạng tensor trên pytorch.\n",
        "* Các toán tử trên torch tensor.\n",
        "* Xây dựng một mô hình mạng nơ ron trên pytorch.\n",
        "\n",
        "Bài viết này được mình tổng hợp và lược dịch từ bài viết Deeplearning with Pytorch: A 60 Minute Blitz có sự hiệu chỉnh và bổ sung về nội dung dựa trên kiến thức của mình."
      ],
      "metadata": {
        "id": "6joac_nbKrv_"
      }
    },
    {
      "cell_type": "markdown",
      "source": [
        "##Tensor\n",
        "Là dữ liệu nhiều chiều tương tự như ma trận trong numpy nhưng được thêm các tính chất để có thể hoạt động trên GPU nhằm gia tăng tốc độ tính toán. Các định dạng dữ liệu tensor của pytorch khá giống với tensorflow. Tuy nhiên trong quá trình khởi tạo chúng trên pytorch chúng ta không cần phải truyền code vào trong 1 session để tạo tensor như tensorflow. Qua các ví dụ bên dưới chúng ta sẽ cùng làm quen với các dạng tensor chính của pytorch."
      ],
      "metadata": {
        "id": "mXiJRVrQIywR"
      }
    },
    {
      "cell_type": "code",
      "execution_count": null,
      "metadata": {
        "id": "dGrm4mnOIj6d"
      },
      "outputs": [],
      "source": [
        "from __future__ import print_function\n",
        "import torch"
      ]
    },
    {
      "cell_type": "code",
      "source": [
        "# Create a empty matrix\n",
        "\n",
        "x = torch.empty(5, 3)\n",
        "print(x)"
      ],
      "metadata": {
        "colab": {
          "base_uri": "https://localhost:8080/"
        },
        "id": "sHiLWNVeIvqi",
        "outputId": "5128a344-6c31-4b55-98e4-d27d59459875"
      },
      "execution_count": null,
      "outputs": [
        {
          "output_type": "stream",
          "name": "stdout",
          "text": [
            "tensor([[2.5235e-35, 0.0000e+00, 3.3631e-44],\n",
            "        [0.0000e+00,        nan, 0.0000e+00],\n",
            "        [1.1578e+27, 1.1362e+30, 7.1547e+22],\n",
            "        [4.5828e+30, 1.2121e+04, 7.1846e+22],\n",
            "        [9.2198e-39, 7.0374e+22, 0.0000e+00]])\n"
          ]
        }
      ]
    },
    {
      "cell_type": "code",
      "source": [
        "# Create a ramdom matrix\n",
        "x = torch.rand(5, 3)\n",
        "print(x)"
      ],
      "metadata": {
        "colab": {
          "base_uri": "https://localhost:8080/"
        },
        "id": "Va3axE9lIvs4",
        "outputId": "acde736b-16a5-4f15-eda8-ccea3d6636a8"
      },
      "execution_count": null,
      "outputs": [
        {
          "output_type": "stream",
          "name": "stdout",
          "text": [
            "tensor([[0.7081, 0.0902, 0.2215],\n",
            "        [0.8790, 0.2310, 0.4982],\n",
            "        [0.7541, 0.2334, 0.9028],\n",
            "        [0.1472, 0.3116, 0.9310],\n",
            "        [0.8602, 0.6816, 0.9123]])\n"
          ]
        }
      ]
    },
    {
      "cell_type": "code",
      "source": [
        "# Initialize matrix 0 with data type long\n",
        "\n",
        "x = torch.zeros(5, 3, dtype = torch.long)\n",
        "print(x)"
      ],
      "metadata": {
        "colab": {
          "base_uri": "https://localhost:8080/"
        },
        "id": "Nn_fGwX1IvvX",
        "outputId": "7ad2041e-9b85-46d1-826f-f80eb4102904"
      },
      "execution_count": null,
      "outputs": [
        {
          "output_type": "stream",
          "name": "stdout",
          "text": [
            "tensor([[0, 0, 0],\n",
            "        [0, 0, 0],\n",
            "        [0, 0, 0],\n",
            "        [0, 0, 0],\n",
            "        [0, 0, 0]])\n"
          ]
        }
      ]
    },
    {
      "cell_type": "code",
      "source": [
        "# Create matrix from list\n",
        "x = torch.tensor([[5, 3.5]])\n",
        "print(x)"
      ],
      "metadata": {
        "colab": {
          "base_uri": "https://localhost:8080/"
        },
        "id": "G6a6KaMyIvx0",
        "outputId": "8956d296-4f26-47c8-d2bd-e061dbb51745"
      },
      "execution_count": null,
      "outputs": [
        {
          "output_type": "stream",
          "name": "stdout",
          "text": [
            "tensor([[5.0000, 3.5000]])\n"
          ]
        }
      ]
    },
    {
      "cell_type": "code",
      "source": [
        "# Initialize a matrix that has the same properties as an existing matrix.\n",
        "# Such as shape. Unless the new attribute is included overriding the old one.\n",
        "x = x.new_ones(5, 3, dtype = torch.double)\n",
        "print(x)\n",
        "\n",
        "x = torch.randn_like(x, dtype = torch.float) #override dtype\n",
        "# The new matrix is randomly initialized with the same shape as the old one, the dtype is overridden.\n",
        "print(x)"
      ],
      "metadata": {
        "colab": {
          "base_uri": "https://localhost:8080/"
        },
        "id": "oSrueuzYIv0Y",
        "outputId": "9634a7bd-9562-48ff-dd66-6d5905a68d3c"
      },
      "execution_count": null,
      "outputs": [
        {
          "output_type": "stream",
          "name": "stdout",
          "text": [
            "tensor([[1., 1., 1.],\n",
            "        [1., 1., 1.],\n",
            "        [1., 1., 1.],\n",
            "        [1., 1., 1.],\n",
            "        [1., 1., 1.]], dtype=torch.float64)\n",
            "tensor([[ 0.0153, -0.9495, -0.0872],\n",
            "        [ 1.8746, -1.5209, -0.2936],\n",
            "        [ 0.2875, -0.4491,  0.0966],\n",
            "        [ 1.4317, -1.5608, -0.3803],\n",
            "        [-0.0740, -0.6192, -0.3721]])\n"
          ]
        }
      ]
    },
    {
      "cell_type": "code",
      "source": [
        "# get size\n",
        "print(x.size())"
      ],
      "metadata": {
        "colab": {
          "base_uri": "https://localhost:8080/"
        },
        "id": "4H5eeYEQIv25",
        "outputId": "1d704ea0-28e7-4664-e3cb-da0fb0f607f7"
      },
      "execution_count": null,
      "outputs": [
        {
          "output_type": "stream",
          "name": "stdout",
          "text": [
            "torch.Size([5, 3])\n"
          ]
        }
      ]
    },
    {
      "cell_type": "markdown",
      "source": [
        "##Operations\n",
        "Có rất nhiều các operation trên pytorch như: cộng, trừ, nhân, chia, reshape, khởi tạo ngẫu nhiên. Chúng ta sẽ lần lượt tìm hiểu:"
      ],
      "metadata": {
        "id": "hDpG40-pKx2z"
      }
    },
    {
      "cell_type": "code",
      "source": [
        "# Khởi tạo ngẫu nhiên\n",
        "x = torch.randn(3, 3)\n",
        "print(x)\n",
        "y = torch.ones(3, 3)\n",
        "print(y)\n",
        "print(x+y)"
      ],
      "metadata": {
        "colab": {
          "base_uri": "https://localhost:8080/"
        },
        "id": "Q9LGvsE6Iv5Y",
        "outputId": "3265f273-707a-41bc-cab6-b84f374f36e7"
      },
      "execution_count": null,
      "outputs": [
        {
          "output_type": "stream",
          "name": "stdout",
          "text": [
            "tensor([[ 0.3263,  2.7792,  0.5622],\n",
            "        [-0.2882, -0.7631,  0.4283],\n",
            "        [ 1.3758,  1.7474,  0.4240]])\n",
            "tensor([[1., 1., 1.],\n",
            "        [1., 1., 1.],\n",
            "        [1., 1., 1.]])\n",
            "tensor([[1.3263, 3.7792, 1.5622],\n",
            "        [0.7118, 0.2369, 1.4283],\n",
            "        [2.3758, 2.7474, 1.4240]])\n"
          ]
        }
      ]
    },
    {
      "cell_type": "code",
      "source": [
        "#Phép cộng\n",
        "print(torch.add(x, y))\n"
      ],
      "metadata": {
        "colab": {
          "base_uri": "https://localhost:8080/"
        },
        "id": "Ys2kmnjkIv7n",
        "outputId": "76c90cb8-dfea-433d-f743-b7c5e6b15a92"
      },
      "execution_count": null,
      "outputs": [
        {
          "output_type": "stream",
          "name": "stdout",
          "text": [
            "tensor([[1.3263, 3.7792, 1.5622],\n",
            "        [0.7118, 0.2369, 1.4283],\n",
            "        [2.3758, 2.7474, 1.4240]])\n"
          ]
        }
      ]
    },
    {
      "cell_type": "code",
      "source": [
        "#hoặc cũng có thể đưa kết quả vào một giá trị khởi tạo rỗng.\n",
        "z = torch.empty(3,3)\n",
        "torch.add(x, y, out = z)\n",
        "print(z)"
      ],
      "metadata": {
        "colab": {
          "base_uri": "https://localhost:8080/"
        },
        "id": "LEoV9HvoIv9p",
        "outputId": "1802f20b-4b45-4707-db88-30b482e76c2a"
      },
      "execution_count": null,
      "outputs": [
        {
          "output_type": "stream",
          "name": "stdout",
          "text": [
            "tensor([[1.3263, 3.7792, 1.5622],\n",
            "        [0.7118, 0.2369, 1.4283],\n",
            "        [2.3758, 2.7474, 1.4240]])\n"
          ]
        }
      ]
    },
    {
      "cell_type": "code",
      "source": [
        "#Phép trừ\n",
        "print(torch.sub(x, y))"
      ],
      "metadata": {
        "colab": {
          "base_uri": "https://localhost:8080/"
        },
        "id": "SUDq3JFyO0ik",
        "outputId": "6083f94f-f8b6-4021-85f6-cbcc615cf284"
      },
      "execution_count": null,
      "outputs": [
        {
          "output_type": "stream",
          "name": "stdout",
          "text": [
            "tensor([[-0.6737,  1.7792, -0.4378],\n",
            "        [-1.2882, -1.7631, -0.5717],\n",
            "        [ 0.3758,  0.7474, -0.5760]])\n"
          ]
        }
      ]
    },
    {
      "cell_type": "code",
      "source": [
        "x"
      ],
      "metadata": {
        "id": "FsbRqGq8Ra-w",
        "outputId": "5ebc1f31-33fd-4a11-b366-f50edbebfd36",
        "colab": {
          "base_uri": "https://localhost:8080/"
        }
      },
      "execution_count": null,
      "outputs": [
        {
          "output_type": "execute_result",
          "data": {
            "text/plain": [
              "tensor([[ 0.3263,  2.7792,  0.5622],\n",
              "        [-0.2882, -0.7631,  0.4283],\n",
              "        [ 1.3758,  1.7474,  0.4240]])"
            ]
          },
          "metadata": {},
          "execution_count": 12
        }
      ]
    },
    {
      "cell_type": "code",
      "source": [
        "#Truy cập index\n",
        "# Truy cập cột thứ 2 của x\n",
        "print(x[:, 1])"
      ],
      "metadata": {
        "colab": {
          "base_uri": "https://localhost:8080/"
        },
        "id": "fQNcYWg3O0gQ",
        "outputId": "bde08dd2-be68-4251-ae5a-b2ad8a329f8b"
      },
      "execution_count": null,
      "outputs": [
        {
          "output_type": "stream",
          "name": "stdout",
          "text": [
            "tensor([ 2.7792, -0.7631,  1.7474])\n"
          ]
        }
      ]
    },
    {
      "cell_type": "code",
      "source": [
        "#reshape tensor\n",
        "#Để resize/reshape tensor ta sử dụng hàm view\n",
        "x = torch.randn(4, 4)\n",
        "y = x.view(16)\n",
        "z = x.view(-1, 8) # Giá trị -1 cho biết kích thước của chiều này được tính theo các chiều còn lại\n",
        "\n",
        "print(x.size(), y.size(), z.size())\n"
      ],
      "metadata": {
        "id": "tW3FnWhLO0dx",
        "colab": {
          "base_uri": "https://localhost:8080/"
        },
        "outputId": "a5a20c91-0059-4edc-ee84-f3aa5f37cc3a"
      },
      "execution_count": null,
      "outputs": [
        {
          "output_type": "stream",
          "name": "stdout",
          "text": [
            "torch.Size([4, 4]) torch.Size([16]) torch.Size([2, 8])\n"
          ]
        }
      ]
    },
    {
      "cell_type": "code",
      "source": [
        "x, y, z"
      ],
      "metadata": {
        "id": "HykqII8_O0bL",
        "colab": {
          "base_uri": "https://localhost:8080/"
        },
        "outputId": "37680bfc-4df3-42f7-f3a6-636cde652a89"
      },
      "execution_count": null,
      "outputs": [
        {
          "output_type": "execute_result",
          "data": {
            "text/plain": [
              "(tensor([[-0.6312, -0.3604, -1.3026,  0.2811],\n",
              "         [ 0.3489,  0.9498,  0.0349, -1.4136],\n",
              "         [ 0.1149,  0.6726,  0.5205, -1.0145],\n",
              "         [-1.4706, -0.8663, -1.3229,  2.4274]]),\n",
              " tensor([-0.6312, -0.3604, -1.3026,  0.2811,  0.3489,  0.9498,  0.0349, -1.4136,\n",
              "          0.1149,  0.6726,  0.5205, -1.0145, -1.4706, -0.8663, -1.3229,  2.4274]),\n",
              " tensor([[-0.6312, -0.3604, -1.3026,  0.2811,  0.3489,  0.9498,  0.0349, -1.4136],\n",
              "         [ 0.1149,  0.6726,  0.5205, -1.0145, -1.4706, -0.8663, -1.3229,  2.4274]]))"
            ]
          },
          "metadata": {},
          "execution_count": 15
        }
      ]
    },
    {
      "cell_type": "code",
      "source": [
        "# Chúng ta có thể chuyển tensor x có 1 phần tử sang 1 numeric python bằng hàm item().\n",
        "x = torch.tensor([1.5])\n",
        "i = x.item()\n",
        "print(i)\n"
      ],
      "metadata": {
        "id": "9CHFWsxDO0Yk",
        "colab": {
          "base_uri": "https://localhost:8080/"
        },
        "outputId": "b4f3932c-7d47-49a3-d5df-d15bca0c525e"
      },
      "execution_count": null,
      "outputs": [
        {
          "output_type": "stream",
          "name": "stdout",
          "text": [
            "1.5\n"
          ]
        }
      ]
    },
    {
      "cell_type": "markdown",
      "source": [
        "##Connections with numpy\n",
        "Chuyển đổi Torch tensor sang numpy array khá dễ dàng.\n",
        "\n",
        "Torch tensor và numpy array sẽ sử dụng chung các địa chỉ ô nhớ khi torch tensor hoạt động trên CPU, do đó khi thay đổi giá trị này sẽ thay đổi giá trị kia. Gần giống như phép gán trong pandas nếu không sử dụng copy(). Bên dưới ta sẽ thử nghiệm khởi tạo a trên pytorch và b là giá trị numpy của tensor torch a. Thay đổi a và kiểm tra giá trị của b có bị thay đổi tương ứng không?"
      ],
      "metadata": {
        "id": "o7WpfJRLS22O"
      }
    },
    {
      "cell_type": "code",
      "source": [
        "# Chuyển đổi torch tensor sang numpy array\n",
        "a = torch.ones(5)\n",
        "print(a)\n",
        "print(type(a))\n",
        "\n",
        "b = a.numpy()\n",
        "print(type(b))"
      ],
      "metadata": {
        "id": "qWgSEAG-O0Te",
        "colab": {
          "base_uri": "https://localhost:8080/"
        },
        "outputId": "9f1628ad-31fd-4310-9281-178a881066a6"
      },
      "execution_count": null,
      "outputs": [
        {
          "output_type": "stream",
          "name": "stdout",
          "text": [
            "tensor([1., 1., 1., 1., 1.])\n",
            "<class 'torch.Tensor'>\n",
            "<class 'numpy.ndarray'>\n"
          ]
        }
      ]
    },
    {
      "cell_type": "code",
      "source": [
        "# Thêm 1 phần tử 1 vào a\n",
        "a.add_(1)\n",
        "print(a)\n",
        "print(b)"
      ],
      "metadata": {
        "id": "Ftc-vM4xO0Qw",
        "colab": {
          "base_uri": "https://localhost:8080/"
        },
        "outputId": "fae528a6-1788-4831-da30-af22ca57071d"
      },
      "execution_count": null,
      "outputs": [
        {
          "output_type": "stream",
          "name": "stdout",
          "text": [
            "tensor([2., 2., 2., 2., 2.])\n",
            "[2. 2. 2. 2. 2.]\n"
          ]
        }
      ]
    },
    {
      "cell_type": "code",
      "source": [
        "# chuyển đổi numpy array sang torch tensor\n",
        "import numpy as np\n",
        "\n",
        "a = np.ones(5)\n",
        "b = torch.from_numpy(a)\n",
        "\n",
        "print(a)\n",
        "print(b)\n",
        "print(type(a))\n",
        "print(type(b))"
      ],
      "metadata": {
        "id": "b1INM6jsO0OP",
        "colab": {
          "base_uri": "https://localhost:8080/"
        },
        "outputId": "7515fdc5-ccbd-4cd2-f21e-088e58ecf632"
      },
      "execution_count": null,
      "outputs": [
        {
          "output_type": "stream",
          "name": "stdout",
          "text": [
            "[1. 1. 1. 1. 1.]\n",
            "tensor([1., 1., 1., 1., 1.], dtype=torch.float64)\n",
            "<class 'numpy.ndarray'>\n",
            "<class 'torch.Tensor'>\n"
          ]
        }
      ]
    },
    {
      "cell_type": "markdown",
      "source": [
        "#CUDA tensor\n",
        "là định dạng tensor nhưng được đưa lên device (có thể là cpu, cuda, mkldnn, opengl, …). Hỗ trợ các tính toán nhanh hơn nhờ kiến trúc CUDA. Để đưa 1 tensor lên một thiết bị bất kì ta sử dụng hàm to()."
      ],
      "metadata": {
        "id": "IXMCQBqiV8XG"
      }
    },
    {
      "cell_type": "code",
      "source": [
        "# kiểm tra xem có tồn tại CUDA trên máy không. Lưu ý nếu đang sử dụng google colab, bạn phải bật GPU tại Runtime>change runtime type để enable CUDA.\n",
        "if torch.cuda.is_available():\n",
        "  device = torch.device(\"cuda\") # Khởi tạo một cuda device object\n",
        "  y = torch.ones_like(x, device = device) # Trực tiếp khởi tạo một tensor trên GPU\n",
        "  x = x.to(device) # Truyền giá trị tensor vào thiết bị. Có thể truyền vào tên thiết bị: .to(\"cuda\")\n",
        "  z = x + y\n",
        "  print(z)\n",
        "  print(z.to(\"cpu\", torch.double)) # Trong hàm .to() ta có thể thay định dạng dữ liệu."
      ],
      "metadata": {
        "id": "eUsvgkrrO0Lo",
        "colab": {
          "base_uri": "https://localhost:8080/"
        },
        "outputId": "9636807a-661b-4734-e1b9-d93fd5125c38"
      },
      "execution_count": null,
      "outputs": [
        {
          "output_type": "stream",
          "name": "stdout",
          "text": [
            "tensor([2.5000], device='cuda:0')\n",
            "tensor([2.5000], dtype=torch.float64)\n"
          ]
        }
      ]
    },
    {
      "cell_type": "markdown",
      "source": [
        "##Autograd: Automatically calculate the derivative\n",
        "Trung tâm của toàn bộ các mạng nơ ron hoạt động trên pytorch là autograd package. Hãy tìm hiểu về autograd trước khi thực sự xây dựng một mạng nơ ron trên pytorch.\n",
        "\n",
        "Chức năng của autograd: Tự động tính toán đạo hàm trên toàn bộ các toán tử của tensors. Nó là một framework được định nghĩa trong quá trình chạy, có nghĩa rằng quá trình lan truyền ngược được xác định khi mà code được chạy, và do đó mỗi vòng lặp có thể có kết quả thay đổi tham số theo lan truyền ngược khác nhau.\n",
        "\n",
        "Theo dõi lịch sử của tensor torch: torch.tensor là package khởi tạo các tensor torch. Mỗi một tensor torch sẽ có 1 thuộc tính là .requires_grad, nếu bạn set thuộc tính này về True, các toán tử triển khai trên tensor sẽ được theo dõi. Khi kết thúc quá trình lan truyền thuận (hoặc quá trình tính toán output) bạn có thể gọi .backward() và mọi tính toán gradient sẽ được tự động thực hiện dựa trên lịch sử đã được lưu lại. Các gradient cho tensor này sẽ được tích lũy và xem tại thuộc tính .grad.\n",
        "\n",
        "Để dừng theo dõi một tensor chúng ta gọi vào hàm .detach(). Khi đó các hoạt động trên tensor sẽ không còn được lưu vết nữa.\n",
        "\n",
        "Ngoài ra để ngăn tensor lưu lại lịch sử (và sử dụng memory), chúng ta cũng có thể bao quanh code block triển khai tensor với hàm with torch.no_grad(): nó rất hữu ích trong trường hợp đánh giá model bởi vì khi thuộc tính requires_grad = True thì model sẽ có thể được cập nhật tham số. Nhưng quá trình đánh giá model sẽ không cần cập nhật tham số nên chúng ta không cần áp dụng gradient lên chúng. Đơn giản là set requires_grad = False.\n",
        "\n",
        "Bạn đọc tạm chấp nhận lý thuyết nêu trên, phần thực hành bên dưới sẽ giúp giải thích sáng tỏ.\n",
        "\n",
        "Ngoài ra class Function cũng rất quan trọng trong thực hiện autograd.\n",
        "\n",
        "Lưu trữ đồ thị tính toán:\n",
        "\n",
        "2 class Tensor và Function cùng tương tác và xây dựng một đồ thị chu trình mà đồ thị này mã hóa lại toàn bộ lịch sử tính toán. Mỗi một tensor đều có 1 thuộc tính grad_fn trích dẫn đến một Function đã tạo ra Tensor (trừ trường hợp tensor được tạo ra bởi user được set thuộc tính grad_fn là None).\n",
        "\n",
        "Nếu muốn tính toán đạo hàm chúng ta gọi vào hàm .backward() của Tensor. Nếu Tensor là một scalar sẽ không cần xác định bất kì đối số gradient nào cho .backward(). Tuy nhiên khi Tensor có nhiều hơn 1 phẩn tử cần xác định đối số gradient là một tensor có cùng kích thước. Đối số này sẽ qui định tốc độ thay đổi theo gradient tại mỗi chiều là bao nhiêu.\n",
        "\n",
        "Ví dụ về lưu trữ đồ thị tính toán:\n",
        "\n",
        "Bên dưới ta sẽ khởi tạo một tensor torch có khả năng theo dõi thay đổi theo 2 cách:\n",
        "\n"
      ],
      "metadata": {
        "id": "Azk5VRJ3XK5g"
      }
    },
    {
      "cell_type": "code",
      "source": [
        "# Cách 1: set requires_grad = True.\n",
        "x = torch.ones(2, 2, requires_grad = True)\n",
        "print(x)\n",
        "\n",
        "y = x+2\n",
        "print(y)"
      ],
      "metadata": {
        "colab": {
          "base_uri": "https://localhost:8080/"
        },
        "id": "WZCk9iYGWp8J",
        "outputId": "89c6048a-467d-42a7-cb32-5ed95bfc08c7"
      },
      "execution_count": null,
      "outputs": [
        {
          "output_type": "stream",
          "name": "stdout",
          "text": [
            "tensor([[1., 1.],\n",
            "        [1., 1.]], requires_grad=True)\n",
            "tensor([[3., 3.],\n",
            "        [3., 3.]], grad_fn=<AddBackward0>)\n"
          ]
        }
      ]
    },
    {
      "cell_type": "markdown",
      "source": [
        "Do tại x ta đã theo dõi thay đổi bằng các set tham số requires_grad = True nên các tính toán được thực hiện trên x sẽ được theo dõi lại ở thuộc tính grad_fn"
      ],
      "metadata": {
        "id": "KwvtW15UXI6y"
      }
    },
    {
      "cell_type": "code",
      "source": [
        "print(y.grad_fn)"
      ],
      "metadata": {
        "id": "rm7M2vzWWp4o",
        "colab": {
          "base_uri": "https://localhost:8080/"
        },
        "outputId": "8eb135b0-899d-484f-9c93-3224409ec898"
      },
      "execution_count": null,
      "outputs": [
        {
          "output_type": "stream",
          "name": "stdout",
          "text": [
            "<AddBackward0 object at 0x7efd141984d0>\n"
          ]
        }
      ]
    },
    {
      "cell_type": "markdown",
      "source": [
        "Giá trị của grad_fn cho thấy ta đã thực hiện một phép cộng để thu được y. Thực hiện tiếp 1 biến đổi nữa sử dụng y."
      ],
      "metadata": {
        "id": "KFO0Pvj8Xdyx"
      }
    },
    {
      "cell_type": "code",
      "source": [
        "z = y * y * 3\n",
        "out = z.mean()\n",
        "print(z)\n",
        "print(out)"
      ],
      "metadata": {
        "id": "DRJTMxN3Wp2X",
        "colab": {
          "base_uri": "https://localhost:8080/"
        },
        "outputId": "d1d8f89b-5402-4370-8b34-8635cb3619a9"
      },
      "execution_count": null,
      "outputs": [
        {
          "output_type": "stream",
          "name": "stdout",
          "text": [
            "tensor([[27., 27.],\n",
            "        [27., 27.]], grad_fn=<MulBackward0>)\n",
            "tensor(27., grad_fn=<MeanBackward0>)\n"
          ]
        }
      ]
    },
    {
      "cell_type": "code",
      "source": [
        "# Cách 2: Sử dụng inplace function."
      ],
      "metadata": {
        "id": "0hZTLGNzWpzy"
      },
      "execution_count": null,
      "outputs": []
    },
    {
      "cell_type": "markdown",
      "source": [
        "Hoặc chúng ta có thể thiết lập requires_grad theo cách inplace. Mặc định của requires_grad khi khởi tạo 1 tensor torch là False tức là sẽ không ghi lại lịch sử thay đổi."
      ],
      "metadata": {
        "id": "2KWBQEr6X8NB"
      }
    },
    {
      "cell_type": "code",
      "source": [
        "a = torch.ones(3, 3)\n",
        "print(a)\n",
        "print(a.requires_grad)\n",
        "a.requires_grad_(True)\n",
        "print(a.requires_grad)\n",
        "b = (a*a).sum()\n",
        "print(b)\n",
        "print(b.grad_fn)"
      ],
      "metadata": {
        "colab": {
          "base_uri": "https://localhost:8080/"
        },
        "id": "6tOa_KdlXycn",
        "outputId": "8d7d3cb7-abf1-4baa-e890-ef714ba1dce1"
      },
      "execution_count": null,
      "outputs": [
        {
          "output_type": "stream",
          "name": "stdout",
          "text": [
            "tensor([[1., 1., 1.],\n",
            "        [1., 1., 1.],\n",
            "        [1., 1., 1.]])\n",
            "False\n",
            "True\n",
            "tensor(9., grad_fn=<SumBackward0>)\n",
            "<SumBackward0 object at 0x7efd1419f5d0>\n"
          ]
        }
      ]
    },
    {
      "cell_type": "markdown",
      "source": [
        "##Gradients"
      ],
      "metadata": {
        "id": "SiHrx-eRYg5v"
      }
    },
    {
      "cell_type": "markdown",
      "source": [
        "Bây h ta sẽ thực hiện một lan truyền ngược (backprop) thông qua hàm out.backward().\n",
        "\n"
      ],
      "metadata": {
        "id": "tbq0x_TyYlTp"
      }
    },
    {
      "cell_type": "code",
      "source": [
        "out.backward()"
      ],
      "metadata": {
        "id": "wMqG_PTTXyJ0"
      },
      "execution_count": null,
      "outputs": []
    },
    {
      "cell_type": "markdown",
      "source": [
        "Kết quả của gradient d(out)/dx sẽ được lưu trong phần tử x.grad.\n",
        "\n"
      ],
      "metadata": {
        "id": "G_ySk21TYqhI"
      }
    },
    {
      "cell_type": "code",
      "source": [
        "x"
      ],
      "metadata": {
        "colab": {
          "base_uri": "https://localhost:8080/"
        },
        "id": "3D1q-VDEYuxf",
        "outputId": "658ec3ba-30c3-4e9c-ffc2-1f119183eda2"
      },
      "execution_count": null,
      "outputs": [
        {
          "output_type": "execute_result",
          "data": {
            "text/plain": [
              "tensor([[1., 1.],\n",
              "        [1., 1.]], requires_grad=True)"
            ]
          },
          "metadata": {},
          "execution_count": 10
        }
      ]
    },
    {
      "cell_type": "code",
      "source": [
        "print(x.grad)\n"
      ],
      "metadata": {
        "colab": {
          "base_uri": "https://localhost:8080/"
        },
        "id": "WcpZ5bjoXxfR",
        "outputId": "71893f1b-f7ac-4038-acb5-c27c5e7b112c"
      },
      "execution_count": null,
      "outputs": [
        {
          "output_type": "stream",
          "name": "stdout",
          "text": [
            "tensor([[4.5000, 4.5000],\n",
            "        [4.5000, 4.5000]])\n"
          ]
        }
      ]
    },
    {
      "cell_type": "markdown",
      "source": [
        "Chúng ta nhận được ma trận chỉ gồm các phần tử là 4.5. Đây chính là đạo hàm của mỗi phần tử của x theo y.\n",
        "\n",
        "![image.png](data:image/png;base64,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)\n"
      ],
      "metadata": {
        "id": "mV1nwNylY9EL"
      }
    },
    {
      "cell_type": "markdown",
      "source": [
        "Hàm torch.autograd sẽ là hàm chức năng tính tích giữa vector và ma trận jacobian. Hàm số cho ta biết mức độ thay đổi của các chiều khi đi theo phương gradient.\n",
        "\n",
        "![image.png](data:image/png;base64,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)\n",
        "\n",
        "Cụ thể hơn chúng ta có thể tham khảo ở link sau: [Ma trận jacobian - wiki](https://vi.wikipedia.org/wiki/Ma_tr%E1%BA%ADn_Jacobi)\n",
        "\n",
        "![image.png](data:image/png;base64,iVBORw0KGgoAAAANSUhEUgAABFgAAAC8CAYAAABMmRoiAAAAAXNSR0IArs4c6QAAAARnQU1BAACxjwv8YQUAAAAJcEhZcwAAEnQAABJ0Ad5mH3gAAMgWSURBVHhe7P19bFvbe98LfjvpFdHAvCkg/5qKQSEmTSj87khBLuhiSh4EonEDynNLOheikQHpiyuqBUg0ED0zolpEdC4kTX+SAlQ0BqKagML0mp6pKaAQBVRUUVNAYRq5JoNWRBJTaI6ITg4NzKGaWvojppGaKgLOs/bepPYmN8nNF73YZ33OoUVubu691rOe9TzPWnu9/JUqAQ6Hw+FwOBwOh8PhcDgcTs/8H6S/HA6Hw+FwOBwOh8PhcDicHuEdLBwOh8PhcDgcDofD4XA4fcI7WDgcDofD4XA4HA6Hw+Fw+oR3sHA4HA6Hw+FwOBwOh8Ph9AnvYOFwOBwOh8PhcDgcDofD6RO+ixCHw+FwOBwOh8PhcEROYnA+3sKp9LEt4/PYjdlRiqxgK5FF4dMkVl+HMaWXvr9KyikE7z/FG+ljW0Yc2Iwvw1pKIvgshmzuPYbnXiLpHZNO+KFSRip4H0+1CRGOzTiWh9Nchm3gHSwcDofD4XA4HA6Hw5E4QzLwACtZYHrzNQIT0mEFJTpnAQUfNbitrDdF+k15EfsxFwziSVdMBfnwI8zunMK8+BIbdrW7lpGLzCJmjCLmMYqH8mFYZ9NCZ0FISPsPmwrJ49HsDk7Ni3i5YVctu3IugtmYEdGYB4IUuQxbwqcIcTicL5AKcmtW3LtnxZTHAw+9pqz36LMNLvln5xoyZeknHA6Hw+FwOBwN3IXd58YIvds7yAF6Pf2vfA0VD7ADN7y1xnWlgHwWGLGNX1PnCkOHiRkfLPQuF8uipJJOfSWHRNYCn1PqXCGKhRwuYIJ5gncMMHQTM/CJQkS2pCJDPcXdiSwsPqfYuUJcjQy/jvied7Bwvh4qJ4gHQ0iVpM+cL5gK8rEA1tItCpOcZerAhLmXr5GKxxF/PofJCzo+HkCEfabX/sY0MDwG4yDt/kkMLjL6gUSRUvg1UUY6RA7NRQ7rTDrE4XA4HM4g6TFOq+RjCKylwcO7fqjgJB5EqAvh1xvdh9tIFsVjl1DcEEtjwmuvN7hRyOIAI7CYrq97ReCuHT73CHC6hZ1Mc3R2crCNsssNcz0ePEM+XaCY0Qrev1Kj1qF2iq2dTHOMe3KA7bIL7roQe5XhLY3vBwzvYOF8HVTyCHtmkbXNYeqa7TrnKtBhwu2DLvIIgWSzEa4cp3HsCsI9phMPFHLk1IGRCROGxSPQ6XWKz/1TRGJ9G4alXURcRkrh10MlE0HoxIVoLATrXekgh8PhcG4f1ACJCE9yXbDduwdrJC99ccvpI07TTbjh00XwKJDknSw9wabReDCbtWGuK+FTo9s7jSEU8CzW0Og+SWDr3IUZy2XQIIxoGJqA9dp7LVjM6MU4vTvYSlC0JqOcwnZiAl7H2GXcJo20Gb3WkTa3H1bPvKIQkVAKEantBCa8DtTC7t5leBvj+8HDO1g4XwEVZMJ+JMbWsObkpvKrQTeB4JoPpZUAYifSMYnzigEzDlPdWRYLWVywpyaWy46PUnkYXvsgO0KMcFGAEfkKdUxnDSGTCMqe7nA4nEuoYUgNWWHIsncNyeLXNX6N84WhG4c3ugmf6T0+0UfbxOW0h9tLv3EaNcqCa/CVVhBoDAg4HalkwvAnxrC25uy6Q0Fn9iLY1OhWaXDjDCdsRIPJDNNNxBIGBwLTQ9Qgf4aYbBTLSWIL564ZyPqBpEb7CMzXPdLm1mOAI6DSoabSmdaXDG9dfD94eu9gKZ8gFQnB77JR0CHNjfKHEM8px5efJQP0XQDJWz3snC3SZIXVSi+13nHKa3I5TiHWLeI2pumGqOS3sL5nQtBnA28ffmWMuRGcPsXWekJRLw1WL6bqXl0aptjw1ISd41J9isIWYSObRXVds1kqJRFg9oFeaj3uZ7kYwqn2V9NiC0t0jpUacWsqQ1zbckbpY3bYFUG+xU/zYWanwyo2o4T0skuyfwncrrajVFbhxlSXkQu7KD/ehqcstw8tuqGEPWmkvLHycFF53ary6JWGcsyHqezuoalYB8XA/SMFg0dHODrahU+/h5VwWrvtaIvUcaNVEOUcwi4639vwhPZKENMWuE3BmzC9RBy1wTq7wrkbqBxnOcTCqcvyv2pdVkUHPbm28jl7b4Fl/PZHPoOJ08bgDk7jdGsdCS3DWJrsgMb6dq317Bqo5CmG2oMp6IOtJ+GrNLqpwb3d2OCuFJC70VEhOpi9QeUolnIaL5INo1cIodF+IyNtbj/NHWplpF8kGzrTBiDDK4nvbw89dbCwVYQ9U4/xNHGOUc8iotEooqsBmJHBM/8DuMh4fTkxYQmpoAcrJReiqV0sYh2eYEpR2GfpLawcaNqo7Nq4jWm6Gc5wuL2D00k37F/CQxxOl+iokenDyHEYsVbBdPkYWXLqMFtwJXFmKY3lwApKrihSu4vAeuOwxjxe+LdQZHNE+8TgjGB3yYyD8HZvDev3L7C83Y39ZR0VASzkrZL9C8Oz8CUMwdbDHIzjubuMsLyxc+voVjcqOIn54U8YsLSbQtSawazna+lkuT6uxj+yTqKHWM+PY9plxo3MpNObEYw/h7sc7rLT7uugdPgMz94AtsVNijsjcJmu//ll/oUfW4Mw9v0iDc/HiBmmG1HGbhhcnKazuuAbOUY4luvo53q2A19ZPTs73MbO6STcfQj/stG9jYMSa3DHYHArG9y1EQ1W8w0G4/VRLFuIZ8ifJiI4sbmVo1dIH4WRNlcVM37xXHaobcUzqJwkEDmxwa0Q4iBkeAvi+yuk+w6WUhIh/wsUzUvYT0cRck3BbDbDPOVCKJrC7rwF73f8WEl/KVt3GDAVTuMoEcSE3gBnJIN0eOqGel85XVN6gwRVPovdzEevfK2MWeAaucBB6lg9oCKnfkh/Rs2mq2n0GGxYThwhEZyA3uBEJHO104RYJ0smEcBEj22H9y+WsaN5BDXrqEgo7F8m0v0Q4puBDRlPUHqnbqaxeyXoMOaNIZOJwGnQC/kTyub625FXy0QQR0dHoCr1BXGX6scRjtIxhGw3qHFsaHWCbNDU16P1WjknWw9Y4XJZhbjzVixweFO6LCwmStgmMCYcuMUMNE4bg8U1gouDFI6vsuP5q6lnJbwRhd/nFOBao/sY4QU/Nbhd8DXYwdqIBvNQGqGQ8kH19VEbxXKBvfAsVmIG+NwTdFRGbaQNxYynsQBieb7VZCO1DrWLvTBmV2Iw+NzKOGRQMrzp+P4K6bKDpYJcbB1ZTGJJdR6fDkbPHOZMIzjPF6AQ93keiZBXHNppnYJ3Ldk0FL18kkK4PvzTBlcwjFTH8eq1YaxFFJNr8NrEoaNTgRiE2Url/OWQUpsXa3Se4opsqlM4CJfwu3uwuYIIpy7PYcPqH7BN4LGDWXYN1aGFbAcO+s6jMpxQGrofTNWkUcYJS+cU24LqHqxTXoTiueYnsJViy3S1S9NZLo6QdwpWdpzJORQX5VBDGM4aQDKXQoilgc7xq42xr005aHjVhwtLw2Lrr26mWwyQs1yazL0JtrEfXrD5w8EIk4UM/UEaBemInJN8mv7t7anJaS6GgFAXpbUVThqdxBlycflUSLZtXBCxWqUS6sks1UQgu/KAvu9mOmQF+YiH6qoLa7Wte/ocbm6ZX4J75D22QjFo62Oh/MVa2z/2vfoUnVbHa9TWrGh41c5vsi9qU5da0aFMWlGzfcUikmuXvigQE+1vOR9HULqmrWmdjQqKqTCCHsm2snNc/mZ/IqeVbrSxwZUi84G1LQnpZXPBr/CVNblTmkl3a+llfqRtWmoIfiVQ3/JQ8MNFsSwui4ZNZQsjk4+J/pTSEJb2QuycPhF52pgs06WGJ/6qet7ZN9bSlmPTNGp+vSGe0OazL2nrM2tl1ahaKse1ykadC5QyYckWifWwSZ8pz/GQv15XWVo9QSnOkVDIJyDlSRb3lFI1+cpipK4Q6177+IXqCpVjvX5KclCYVtLD5NplXsS6dKKMGRWI9mSWVaZaubKYQ2P5aNGbGmI5qsWhYt0T0pBdwQP6XoiHVHW5s5y6SZMa4vaogJ0aHredQcdpRjEgAHuA3or2dqBTfZPsbLu49guJkZndSB8DJttY3w1UndkjNroLxeYGN1EpUw3Wj6B8vIeSeezmHtQYHPCxUSzvC6i4fGjqD7+4ENYuMuoLSB6OwHSbt6K5MQxw+FiH2nsUKs2daYOT4dXF9zdNdx0sbOukPTLp0+QMWspyDN54AtGAvKc6h/XZAA6HqSERjWLVZ0RxbwUeChJrfqRCxsj7+CkS51YEN9mUIx/GThN4+shDjquztylSI8G78wn2xSg2l1wYyW3Bv7KMZW8AbyZ8CEdXMW8uY2+FrlcbisRWNPeKU52sQTbkdBW+sVMknj6itInD7I0uSq+bObBJzLOpUC61QtbD4pgGCgnkGvoqzrKHyMIOp7BH/BlSQScerx/DMLMkTK1amjGguOXHQzK+9d5eYaX1R5SuU4z5VmXp8mAhddYyTWz9hof+ZzgZnsESHd9ctEOXeQb/Qwo0FF3JVB6BbQz5NhBd8sGtprh6M3x0jY0ZNiZQYnIevloXuNGF1elRejOC6SVKg+8mRpBUUBDGyJphVCsWNl874IJrygarZ5mCfOn4WQpBFti54gObX1tKU+DqmqLg2gZ//ETSa7YVGWtAW7H8xYzo6ha27V8ALsq7zeqhfNaFTLrOAmwX4n0LWQfjhJkscA7k1xso4vjwlNTQAouxy8f8uXX4A4cYZvVgc5Fq6QFWHnsRqdubCjJrD+HfKmLYJU6F3FxyY7zyBlt+v7gwl1BP5qkmUgDjZnXVp/kpUSm5AP+LEiyrEYQGtXWP3oK5ZTdG3m8h1GkhQLIzMQ/lL/ZJsn+bCFo/ISmzf71jhIvZJrJBFOaIjE5jtWY/mdzmmdQAyxy7t+tym8e2aCiTthSpMePFzic7Fim/S64R5Mj+riwvwxt4gwlfmHzPPMzlPax4qPEjCaGY8OPR0yQ+meewwfK1ukg+MC/4k5ajNdvqhooNLibgf/QUyU9mzG3QPcjuL5KjzTNfuZJWNj4z1IANZmHwrpHuLsFlLCp9myolJBc8gr8zz1F6NoOYeB8WGunNVTSBhUAaZuZPSV52NtdZY/rK6RD5oS3k7nqxSrJatH/C9sI6DoX1Ilqh0TcKZLDmDyJr8FI8wcpQGU9o89kiNZ+Z0ZE+UNxR95n+1msZqdJN2amRCMCzdQ7LfESwRTZdlvR54XKdiQrl+SGbmjIMF5UJq6tL7nFU3lCc42/sTJXkY2S6Wot7AqTjdI8XF3AuRS5jpAXl3Pf2sLXqqO49O8GwUEabVLY6ZJ4py+iM7NqjlRzu2ILYZPUzaEXlYAWPA7V7UeN14RFWcndgq9udCg5WHiPQcmEN0Z6IJkMq165jjvZ6w2BxqIfKMXE6Bt8q3aMWh3oWkDrTw+yT0mByC7pdj4cUaJOTSOc0qSOtSwATzLehcSh0/nkxNeWheGsKoUQOmUQECeGptvY4TeyMlY4LlJBe8yNYj6lEdMYJutoFcs0BQZ22dqBTfdPCFxEjk3gLeWqDkPRVhd8tRjgWlzBDej2nMopvzE313ce8rA8bbezu1aOD1buB+Zl5BBtHrzD0Nsw/X4K5VIZ5LQihecZpQmf1YmN+BvPB5s60wcnwiuL720C1G77fr/rM5qpv/3vpQGc+7M9VzfSbmd3vpCOMz9WjVQsd36geCZ+/rT53mKvmuf2q8srfVV/O0PGZ3Ybjct5VN+j6Zgdd67N0iPhu1y3cd06e1s9vq6t0zLL5Tvj47XMHnTNXbczOdy9n6PhMdVc6LuZhg+7Uhs9H1VWLuepW5PNDdX+O0rb6lnLMTlmtWui6L+WnML7brc6YLdVVKQPf70r3V5z3ufp2dbJq9+2SVFTS9PFVdZ7y5tg4Eu5V5yPlmdJlWZWOv9ug31E6mxLRAum67Ddmy6pMxt9VdzuWjQTlb87trrq7fc2JeW2NJF/Hc9KgRj5UX81NiuV/JOa5Vu5U8NVpIU9U9h/EQ/3w+d1mdXqayuLz99V9n3jdV8J1P1ZfLzI9p2MbbbXni+XDq7nqpFBvj8R6aNmUdJLq9DSTBauD/Qv54+tF4Vp1MZJO+QQ9sVOdYveZrE5r0hmGpDdNdUzSacqPkOIPr6ur00yHGtL/Pauv8nyJNqhTPsU6K+rc96/mq5NU5xX2iSHVz67V5cN+da6eBrKvG8y2TVefyyrGuw2W50ubIdgZqtNvP0oHJD6/Fe2UaP8kWTUlqNXxRiTbLpTRpU0V7RnVDYVNUaPhPprLRAVJtkobSWXuZmlT+gEmAzOVj2gyvq2+JD2bpjQokirZ/PYyUNGNFjb425fuql2wI9IBgUtfKd6lpruNfovu0yEtH0nnmE5sKG5ANmtOtFF1EUs+e+mtsmC0pU8sb0uDL/9MNthB16ynr0HPtfrGWtoa6827DXkaauddflZFKj+L5J/rsHtOkpxYxRDSqeInGo5rk40aUvzC6qH8t5I+12KtD69Xq9OTzekQY4XL46rykeIe9Rip5qvUUOquqD+O6kZDhf0o2ItaGdXqqxjZ1fj8dqlqsc9XX7FkSbZKeQrZgyVL1T7/qm080WjDtJaPNr35vh7TKNSQyW/SXvVJzkJIQ81HMBp0WZuctKapBfUyVYt9GiEbNyeLqzS/5hr8ozofKF/TlK+Z5+8o4iGoXm1INt8hOCBJJzrFaZIc63EaIdphOlYTbo2Pr6uLLP+NxxtotgPa6ls9zfJybsWtjpFrMnAoYgEO5zYx2Pj+9tDdCJbzAtgM2KHLZ5IaMcNlkfdm6jDKeqxQRImNmTvJInEKTLvtDUPKjHC6J4HjBLKtO6pFbDaYZR1cd4bY7thm2M2yK+qMEDrKhNHKJ8iKN4W9YRyb0enGJI6R6HhTGbpxTDmGUEjkLp8GnmVxmB3C9JRZ6EE9Tu/hYtgI3XkOuZzsdV7BMJsvKDyRYE8mjgGLC5OKDmAdrKE0Ui2e9JZzb/AGJnhd4r3q6K1w+UZwsZeqP41lmLVu66e3wcOG2jEu9hA7FAc5VnJxhI8pbwFH52GARhci8Tji3b4inZ5qn7JpyHT94ea90E8OsFUOYNFpkIaYDcFhlYbSjnkRXmRPHYww1DrhK2c4SS7D5dQ6taJGGenYDsyhOUxc5JFmFWTchgnhunrYljbAxGc2sRSy0R5BeDxsGLk4JUX5tOZL4wQHW2UEFp0wnFDe6ciQw0payBiDN7worOZurAu5d/TDYgkXi9IgW9KpqKAnKWSE3T3SSGjSGRlNC+4ZqdqRgcgeikPn79oQSqQRcTak32ACm25/fsEGSHZPORtG4OkbjC3uXtFaLjqY55Y7TBUqIXdIdmZCj4uC0h4dl3UkiWPS5UEMaB6D3Vt7wneM2I40MqZ0gO29C4wHvQq73ZEBlInNJreRdyC6CjuUrkJ8QipObBmDh/SMrcGjSKpuVPAnqJQ7PG1Wp9EGj3niSDWtt1LzlRWU5TdpSC97SmoSXGqRPIgaZeTevAFMHrgUNzDA6XVJ7+VYyGYpC0ZT+orHYA+cHA2+XGd2wSuZXzW0+cYaDX6dGBEzj5p50EQhg4OLIbL5VmW5km2JpRMIdvFIrquyU8M1BauiWER9zhXEYT93bSEk0hE0q72g9VCqfWPcoxfz1xAjGY0sbeTWhX87UdMfL1wNFVYvLDpKZZRioy70MIyQw0tEEMmQLkr51lmXkUmFMcWSpTdAPCWCDBWYeArFN8sZpK50/bsOenNGPkwIvSaVPkRnRSidajsS6hKtcqrRoy6TzRbWX7GYNPg7I1wRWVyl+RVBxywXE1h4sof340EseyfEERo6M1M1AYuJXUBjnJZjEQRbUubypoWskEs4KJ8K9NK1Wtq7DnSob11xq2Nkkr4ofEghFIdz67iS+P4W0F0Hy4iJwi7mkLW55EvI+Ej2R5WLczLBJowZlA6JoTcw01RAseMYW7UbNN5X/vkC5xQImsYMyuCKQQGAcNfON5VBjRqnC0OyaULC9KAhB6bG2R3OUGLHzw+w7vfDr3g9A7lk0q4SnUXOiDXSjcau5ksKcx+pOTsyIn6WM0yBK3Ny591kp87ltmeM7PYBNdjKSMcpIB7xNQURtwaqoPGoC4ZKDoltKuh6OYgYqQHFgpNRknh62QP/yha2KG/vpe+1o4dtOYUgyaF0uCOU47jTculQWafexBBMRgPK6RWsFF3YJEORSkVgP9/DwqNlfLmzhyhwi0fhMlSQS2yThg3BMTV+WZ9IhyfIYpjYKNnbCNmWxiaUwcgCuSJOFXEWNZBKJ9Tgo0Z2ZA1BV0BYV6M7+1Aji2crO4Ke5dP53oJDLVCQ236q0LloZ3IvsNBoj57uCHNhc0WqNwPA4AgInYyM052YoO8nhzEcg+1q0DH0bEEfZaLwCRJy18Bo/CxA9zwrIp/LIBkPI+R9jHUWu5KyDLIKV8pnKOZzyCQpQA958Vi8idJ+q6avHWVxS1ezsTlAGRX9ulbapq9cJN1R8+XUIGoZGWn1jTW6zrwqZ6UCRQFmmFR8Zq9oKjtVNGaoUkbpJIdcKoHIWhCugKD1DfFRK/k0HOxKhqT77B7jI2gWl1S2Qj1g8cIaHMYCXjx5hAffiOsjhZO5yzSSbfKuOWAsvMCTRw/wjbCWTBhJCpw6iqkvWslF4lR8gGg09vNAQKucanRIUwuExUTpr8Vsao5fr40yUpF1suPsWYVdZldOyLexv3ZYm+YVNNAUp03DZal5ZbLvaSGXmBj4blE9CL0lX2iMLEOxVsw1vHpF7VpX/fpaUMvbdb9+aHTXwXKXgjOyS7l8u8X02Bx55jATOOn01OZrY8IB30iBAgU2LOEM2cMsteunIGvXk69YwiuhR07lJe2GIY6wuUUY7GADiQROt5GIJbBDUe+4145bu3q9Tg89yb1CDTC2bNCIz6V4esdGtZhsEyTvu7AtxxFdm+t5+0Cdnj0hLCKbEEINZaOxXEA254DFdIZM4hCFvW28YeqhN8PFHuleHCCRvrJm9hWjg14Usrg2U2MwwUa1mGqjeb4kRN1htuwk7oft3je4//AxAqEXSBx/gsHjpFLulSGYZp7j1ea0sFDisyvsXdOZ57DsHsH7rVDrtUncz9VtEb0yAfZMbwBQg4qNohN5g51ETAimh6Y9bdbyasVVlElnSulleKx0zwePMEuNwZ2DEu7Y3XC0GZXRNWw7cI8V39x/gEez1CjdOUDpDtnegdzkAhf9qlpf6RvC0B3pbSs0+MaBMkg/e6VlR7B1Kvw23PvmPh4+DiD0IoHjTwZ4nFep9T3Cdl2LZ/B6l62jY4OR/MPOih+Ppi7XgjPYlhHPvMZudAkzNiO5kB2s+B9hKnCTW8R3/+jwZpC2R8UNL+5/lsGB0Ptpho2t0VSjRDEP65s3adjlqRanHadwQMIfcjkv4zRpNBwFarc/hvgSY2QZqjb3Cl+9onatq359Lajl7bpfPzS63EWIDLpjCNhLtH7qTs40fXCOAu5AZUCKOkPDGKFfnJSae2TKJeZuzRBmWAyUIQxTzF84KTV3FpVLgpMXp3V0g7h93HEyi5I0PcjlrA1H1wv3QzaPQtuOpxGMs8eJKkMfz1IB2FxhSBs6KGCNfDYE/1TlofP5OXs8KJsO0zV62Lxu6YnMBfa2tnA8NI2AQ+PT52ICAY9HmBrT1SugsiuTAj2EAQfkmFsFRsfZPfp3CDaz3M2x6WHDDdPW+qSUxyGLeSw2xSKn5UwS6ekpChruYsw2CdPkhDA8miFOY6OflnubanJrOM5CkLLNrAgmTrIJDLsswpOtUiqEgNcLqyeGVIot0Lkm7tTgjSPHdm8JLGONPls9LRaXlAp4ZLjrFnlrzptHHpSKrBCl4bQnO1h4lsPE/Eu8JueQScURj64h6LA0D3XWjBlu9wTuWn1Yonp+GIogc2Ud0cqpQuzp7CVS3ckVOtQxiSZZnaKovGBbxhy++iiJY7IfexfjCHobpjNq4UrKpAPlFMILByg7NrD/lgKFdAJxNoLFYxtg8FxGKryAg7IDG/tvKRgRh8SGQx5qREmn9IX09DxXbC5v6cl9ezSmT2+kKEHNl5/ilPU/q6LVNw6Wu1QBhijnhSafmUfEJt9dr8jUX8GZMOSmxlWXHVP7BTzLTWD+5Wu6fgYpun50LQiH5cq0vgHWmU5/jqkcxQMyziGGGAZFJ5jeaIYzsIZoIo23u4uwXGSxfSjv6SUbZHYisBZFIv0Wu4sWXGS3oThFE53KRyMj44KNqg9Tr3OGVMAGVzjT5C+a6V5OXSNtj4ohC0zGCk5SkQ5TjYtIBFTiq46vANQ2mKxDFZolgy1AaVI8U8oK9mTEPi6NaukcpxXSB/Qdxcv2y079MjkY5o0vryOnHhDQ1W8DtzVGZvWwg/DlnMTgVBl5oPqi2K2HWjYgyOYGVdKk+nJiWa3R9IPlFsquXp1vR20eFF12sFDA7mFD4d5gJaT2pOEMmXCYgudRzHht2g2fsA82sLdz2HDNIpKsG3h0EhO9jiRvidgZQjfFYUNGikk21WMUkz3cdMziwshxGjsvDpEd8cFR9xckuym25dUedhpvWGLbvdngFbzZXUzYxinYTOCNwnqVkD3I4pPBBJOKYPXmSUySO4olGlafL2fEp8UOMwW+vaObcKO+lALROCKkLVc2v/QO7rD4khqJ6jNnpaHnDcPAy+kXiFmobDQWb+UkiUgk3n7LcGl9IuXUrhOS/TmCHrEhaXSFEQ8HIW4YU0GBRUlD43CZpcSVMpTnCBJt1744o4AqKYySatcWOTtJIZnMQaXP8pJKCblkEqmT1vfTkvdaMGtWChkvYhb4mJArOcS2h+H1TeCisIXtnA2r4RA1sK34dPwMgW0dAhvLCC16YS68QCLbbNDFewyJI2YGxWFCGZhW8tiJUSlOTgqdZGeFHAXJZtiplSSvcuVcWpz/3hd3MbXIGh17WN/qtGNEH8imCm0JW5zWYOvNUIUuxEjflHev5MJwWqewJjhWqcGQLypscyV3iEMtAVuNu3Z4a/OEGGz9mx5s+tWWSQuKx8I0FduUTfnQoJhBkrUABkIRx+JNYFPeBJmB3EQPM+k1CnEkFD2YFbp+QkPsrTF91Kh2jDb78ko+gXjLbGj1jQPGZIVj6AKJZEZR/wTd/lSGia0fITz8OSX1l9sk0RdfctVld0a+gprrZjtsYwqtR44aptdDTX+a7UU5k8D26RAcbLtgsqERzxRcDUPmdCMj9Q7QSj4Cz5SrYVSdDiPUWO4aTeWjkbsTEEOvN1RyMkpZHGQ/wWAyaYhpNcqpH2rrrwgxXQEHK6QbbRN2RWuwCJ2phGJtlQry6UP6K3+o1TlOKxaZBZLHaXSdDLsOW5NFpZfyrCSU0ZAwevh2cDtjZJK+KHxoWl5mzAGf9CRkevM1Xr9We73E/PgIHD5nx3trRlPsK0fWoWVexEvVdL7G/sY0hsepXAa2TVAFJ8kIlVWq7VbqlVKO4u8U2oTW7KSO8TejcyxfQobqaoTaftqkd1Oya82VxPe3gC47WAgyBGsbDoxkV/DQ5sdaIiUsRpchpQt5HuLJ3iksSxEEOs29VDAG95obo3TNR94wkhk2xzhO1/Pg2fEo3MtXs7DNmHsN7tEsVh55EaYgi83nj4c88Dw7xqh7ue5cxNEhaewk6JxOc/yFzqIsdnayGHFZFE84dWYvFi1DyK48gmc5gQzJLZVYg9+zguyoE0GHeEODI0jpOsa65zJdMb8HK9lRzPjsQgO+KU36KQSXLDjf8cMTpAaxUCZh+J1PKGy1YNHXRYeXKgbYvbUtVycx5xrQo7m+uEvxPDMT0mLJTdyFSfq+8F6yThSwh5aB5UDDwoYtOcHOwgpevHiGp4Ed+tQC47g4RaFYa4hS8BsOIelcVA1SKvkthA9G4Vhbg2eMpaSM9NYTPHvxAuv+Zy1HiJXTz/D46QpW/H7stEpMOY1nj59iZcUPf8uT2FNR+n5lBU8ft7qftrzfNZkFY10svJcaKiUkRSGLC8nRtY0e0p3THNlQOwIke6bDFWHlx1H45qh+s/POz6mkRmAcadbUU2G4hA1a12bWxGgJMY9frGPM3sySTE8tWApOCXWF5WuUApP1hWUkmE0S7IMXzoVDDMn6CphjYE/gs4kXVO/y7Tu15BicmJsbxenOGrbb7QmbDwtPEwJJrcGHktpUoUZEO3OKHf8U/DFmxzNIRkKYpbI+p9+IjpUaDHZWdlsISXYlFadzgkUYa0NSNEGNaJeP5MkYwZxPlHG3aC+TAWI0w07X3gn6EUuxe5KcwgFMebZR7DTtRbNuGEnOwk2kshDtd2DKg+3ON9GEfiqARTMr71mEKEAU/coUFjS10bWmjxpzy6Iv9/hFX55JLGPWL6471AqtvlErmnw2WwtkkZR478mlz2RpZfpvWcIMezjC/Dkp7ZuVgGgnMkmEyRfHyKdeNpOvuuyYH6NE5NaxIMlGsFdeJxYOu99yoFf0U0EsWc5JfzwICvrD6oEfzid7gGURPjbfT2eCzXIH77fIt6wlBJmy9WKW/Qs4GLJgzjFGp9hgufNe2Fa9Fj+mSO5+UsQhyxzoFO1oKh+tGOAIku4er8NTj0Njkg7OwGcXH50MiRUaL8gW5FUqtCY59cOwQcybTodyagdJhwP1ZUuuE3IArI+exTziaJ0y8jG/ZE9sbLknic5xmpGtPUDf10YinWXCCLNhsbBDtT/qtCg80JIviKtGV7F739zGGJmkS/5LkL668Bu4C7tPbHzvHZCESX76htdQ8QA7GGTDW1vs24huguoki0FyMWRLzenU69nagFlYBtkRxEbQrrzAi2dPEWgZW1PcTLZtZeUpHj9rvUV/5/ib0BDLl9NbePKM0rTu1zzl/EZk14Yrie9vAd13sBBs/mziVRTzVuB4e0VYjO7J+gGKIy6svkz1tDOGbiKI2MtVuIYzCD8hZXq6jZMRHzb34wh21VnTBboJBGMvseoaRib8hPLxFNsnI/Bt7iMu2zFCb5nBvOUC6XU6J5zp0Es4BpuwXcIIXJZGA2uAM7KP6LwNQ9kwnpDcnkZIsexLeBmT7UDA0hXflaVrBTsVO5Z24/WOK7U0GZwR7EfnMXb+QmiAP1k/RMW+iOf7EQxisxK9bR7Po1FEXy5i6iYcugrGCQs5tBwbkavKmDeK1elhHAam4GJDKtfP4d1d62LtByMs7kmMDlMge5prvbK/fgrLz+cxWQrjEQXWbHhtyhRG3KviZEtJLCwU4CRZLttqBaPHuH0a48N3qKGYZgMGVNGbLKB2CIZMFHi0MkZ6EyziSbC3PIlyZrYJDd47k5Oqo6I0533Mi+jqNIYPqdHpYnlfx7l3F2s1Id81w+My4jxXAMwWjEuH2UJ9GDHXhxcXjw9xOiIPzGqc0bkXwDidO0i9s4YQWR5FfmuB7M0WcsMubO7K6grLV3QOlkoa68wmBbfx5o4Tkf1dKjf6Pl+QOtPGYA9S2RV38JTqXaKLh9Zj7mXMjL7Hi+U2nXd9w6YKLdYXmq1TszNuM85iT8nOPMH6QREjvij2I876Qs162xLiS9PQH29R/gJ4dngH7tgGfN06wzE3Is/JftDL3WvsqblMBojehqX4EqaNRWw/pXsGyB6XzHQsiaiXQtFcHrX+22a06oYetqU4lqaNKG6zsghgZacEMx1LRr3kTagx1/omGjHCtUn3cJDF3GL3WEd6NIj4htouQo1oT5/oy5dgrxwKZbSwXcT44ib5K+HrFmj0jRrR6rObfGYkL+l/bc2XMXjJTs9Zykiu0LVCMZQsYUQX7bKn9ldfdsyPRecsqKTXBdkEt9/gDkv77jKFpUztB671KtTKaAznL1jcR/bisAL74nOZvdBhIhDD80UKDnMRQef9TyPID/sQpThkSng6NIFA7DnEU5i8WFnnMayQu1a0lI92mO7Gd2Vx6MoOxVBL2I0H6jo4Zg9ieryIHWYLVCu0Fjn1gcGFtU03JnNUTw7HEQ1qfVg0aAxwbZDsjQdCZ6KLLTRepMYZ+8py6ecZneK0iTlWf4YRm50Spr4sbOfEDtmG69Q4K7IFqsdh7hAQdBe7989tjJFJ+ELMmGsl/Abqje/DbSSb4lC2a2YaE175osb9oi32babWGXSKrR3lKESBkwNsl11wy+fs94vRAvfkKIaHhnCaa7WDlRFmmxBZY3Ky9ai3zvE3oSGW14/byR4N4w6lKa1ZeDcgu5ZcUXx/GxB3a+ZwvlA+H1VXLeaqo+9N/j9U9+fMVbPjeVX9SkfVDfNi9fVH6WOvfL9fnXMvVfe/+yx8/PBqsbr46nvhvcj31X2fo9p3dgbKIPLOrmGuTtczxvJJ8p5/VRUv+111103luPq2+uHbV9X9d7KbfXxVnaffzuzK5cThcAbC0UbVbPZV93n14nA4ffBhf45sibnq3v1OOiLRNk77WP3uu++rYkQk8u1zh3Cd+VdqQcfH6qt5ih1mdimK4HTmc/Vo1dImtm3m89Fq1ULyNy+9VZQLFUzVMUPXqR/8vvp6db46N+OoTtK5Yml9rL7d8FXdm0fK33akl9j3++ruDKXT7K6+VKgc0xFHdfH1B+kz5enbl9X5eV91xiI797vd6rx7vqoIwbXAfObiaym/t4Pv931dtoNuSHaNfMXxfU8jWL5Kzthc73sI56XPnC8DaYeS00T2CkcAEGxHnBZPUzRTySMc2ILeZYfh/FgYOnxwkMcdveyiZbpP3gbFmrw3zSDyzq6BEZhrw1WE3ZWAceuE2MOfTyJcGIHFNozs1g7KMpmUM4d4M2SHt+ctfTmcL4uzZAD37gXQ46wwVU5iLkx5YlC6uApy6bTwhMzIqxeHw9GEtO5D8kT29JutCcTWvhmFo/Fpe8s4rYSE9z4ePXqIhZRk7M5S2GJbNo/OwKs21LicweGbIWE6DjdZWhCn546cJpDVGCSzKZtBNv3rYEu20HEZqe0EJrwOCLPaibPkOmIGH+acenzKpZFnM1TKORzs5FAZHu5uZFVPsa8BjgBbv6uAZzHZSIyTBLbOXZixSOPhKPbeWj+GMzAD00UBh8JOr3RaOoY3RT10Xca2bBdSi2W85eiU66eMfDrfsJlHJ25Gdo18zfE972DhfPGMuRcxfb6F7ZTGyZsN5ONsWosfYRYbnG7jCZtKpNgxoITk1jYsbnH9m94oI73ux877cxyy4aps6LT/CbayQ9SwqVkoauxsb+E86MKANsgdAIPIOzniYh6no5bL7RyLRWSGxmEflwZym2xwm84p/9vI2uTr1pwgsfUG40FfD1v6cjicGmMWJ+4UthCQ1kYR16+ZRWDnHJZF9y2yORwO5zZzlloX132IsUXHGWVql4Ww8mYIppnL9QvlqMdp52xXZwyNz2HORhEGNbJjCyvIjkxjM3o5LUvOSWILb8aD/a9l80NizI3F6XNsbadkcW07VBrf1PDelje86einIbaRAZCNFTBqd4o7aBZzwsM06wRbyaWCUi6BhNDz0o7eY9/mziCKtV8kFR1BKF9gxD2D8eIB9ijN7knWmK8tHm7Gj3JrCIZC8NqmEEp1mG5ZSpIc6RrSmky3gUpuG1vnQbi6FN4gZNfXg9evPb6XRrJwOF80n482qg7LavVtd2MSNcGG3k1vvOtyuGP3sDzY5/Zv1bDX68p7K759Pl213DKZcDhfKh+/3a+u+qark2z4t9lStc8sVl8eXQ4F5nA4nI58/rb6ct5dnZ52V91uek1PV93zG9VX37afNKEWp7HpB3Ps93Sd6emZ6uLLo2pLi/Tt8+q0ZY5PZ+yFz0fVDYeluqo5SK5NIZmp7n7/sfp6cbI690qlZNi0IfN0dfOdeF1hepdlsfq69K66u7lanXOYq3P77X1Mv7FvbUqTZfUt6RPpyPRmVUqODJYHOmfulahfH19XF+k308+T1Q23OH3q46t5ym+76fBsGtN0daP54jcHK1d773WiP9l1NZ+ria89vv8r7B+pr4XD+aIpJQPwHNoRH8RCcpwbp5IPw8M2I4p3v8glh8PhcDic20XPcRqbYi0GBFe38cXXDtv23nMIe1zbxheV3Bru+/cAkwkjFQuJvnlUUTHhwaOYGc93WZx2hmTgAVbKi9iPuah8xc+H9leIOK9yxAebavYQ68ejlNRzDM/sIiKsqC2jksHaN09wuiSlheJL62wajt/5TXz6rX+Coc0Ulk1pBB6swPj8iHRM+t1XTx+y2/x/wPjiJ9jJ62G0GGGZKGM7q4N12ATTnSQOjWuIe9SnLf0Q4ns+RYjz1cB2hEit2XraPYBzCzH6EE/wzhUOh8PhcL4Geo/TjPDFE7xzpR8MTkRSa7BpFL7O7BGmkFwUijD43KqxWLlUpBOGMcS+K2VxyDaHtI1f80NOAxw+NqXpPQoVF3xsulkj5bIwnW1ISGgFucM0LmCC+f/0f8baUQbLVj0qhTxyQ2126Pwq6UN2P/OnyI1bMXFxDqN3ER4S3EWugslFL+wTd1EontPZLfgBxPc/tUxI7zmcL56/qtPhr0rvOV82vCw5HA6Hw/m66Mm3/1UddDwg6J+u5PjX8bd/PIK/1P8PcLt+GXdVfvezf+tvo/S//z9xkC/h3279b8j+l78B+//sxa/+LdZy/gsU/s2/wP/3b//P+B/Hflr8wRXxVykdP74zhB//j2782s+r3Oun/xb+9p0/xva/yKD0x/8Sv/ev/hQX4x783/4v/524WG0pif/7T/5/8P2//gl+TaWP4WumZ9n5XHj001n8r//KiN/8X38VQ//uX+DFxf+Af/w/GfAnL9ZRNv9f4WxR7j+E+J6PYOFwOBwOh8PhcDgcTh3dmBOBwNTloqcKznByqod7M43YchDeSTo0Yr7czOBaMcDqCcBjVe8dqZQK+DSxhFQijNCcE2yQyrjdLIy0qRQTCG1dIPh8GRO5EOJXuiXpbaR32RULOVxYxjGKCgr5LBW/CXfLGSQPLTCXtxHO9Lb5yNcA72DhcDgcDofD4XA4HI4mzlIreOwPYCt3hkp+C2t7I3AEfbCKQ0KQjmzjsEiN8MNtRNIddue5UvLYfjQL/3IChUoJyfUwCuNzWGTbXVVyCHvWcXi4jkff3MPDlTL0fJ0BGW1khzKK+QLGbRO4i1MUc0OwTNDx8gU+DZVwmDXALmwt9cOEL3LL4XA4HA6Hw+FwOBxtnKWxvLADTAxTQxuwB+bhMd/G+TUVnMSfYD1ngukih1PjDOZ8Uxj74bb9u4DLrld4BwuHw+FwOBwOh8PhcDgcTp/wKUIcDofD4XA4HA6Hw+FwOH3CO1g4HA6Hw+FwOBwOh8PhcPqEd7BwOBwOh8PhcDgcDofD4fQJX4OFw+FwOBwO5yunlAxiYecUOC+icG7G6qsIpm7jmpQcDofD4XzB8BEsHA6Hw+FwfjCcJQO4d+8e7tlcCMZyOJOOf+0Y7MuILjqA8wtgxAwj71zhcDgcDmfgXG8HSz5MQU0AySuLZvIIU9AUUL3BCWKue7B6YzipSIfaUT5BcjlOV6xxhmSAArJA8osKxiokc9c9K6xWF8J5LRkfMGc5xMIpmczEMroXvpRsZ7osu0Ei6Ow9kp30uS9uiw5J6RhMpqiIYwinLnMkNl461/MSnWcl3VzLdCjUJh0SOYm5cM/qRUyjUmhN143TZHuuhhuXh8a6dXvLrYT0sods6xS8awnkiidIUL0KyOpCMy18VDmHMNm4e94EitKhW02DL7/qMmq0Mf1y1xnB0dER3oatON4KYGdQla1Lf6HZBg4KnR56nAo6NmQzY0w8qkIZJ8llxK/aCN0Q3fqO20G7OOgWxqfX5Mc4HA7nNvIVjGCRGuzCaxY7dCS78qDJ0ZSSW9iCG9GoF2M66WAbztJbWDk4lT59mVTyEcz6EzAs7SIVtSLjn0XkmjtZ8i/82CpeSJ96o9uy41wnebzwb6GXIjZQI2d3yYyD8DbaqaWqDpWS2NoC3NEovF+ZUnwNtucHQT6BUMGBaOo5AsYcIt7HiFzMY87Ww7AAvRnB+HO4y+GBdiR8HfRuY9qSD+Mb8o+wzMFuko5dM1pt4CApFnJgorSZjeIBNc7S2Fo5wFdphb5Q3/GlxUHcj3E4nB8yX0EHywTmXr/Ga+G1iWk6Yl58iddrdsjDXBbIHCWCmPgBNdB1EwHEMxlEnAboJ4JIZOIIfIEC+HrK7i6ckSMcRZwK3fwhw8o2kwh0X7YGJyJHCQR/SBV6wIhP8SNw3nJlvLXpJPuaiXswoTfA7FlDLH2EdNTTe+NHN4Fgguz1F7goxpeiSwrIJx4dZZCK9FFmA6BnG9gTZ8inC/TXDItJLx76ofGF+o72cRCPLTgcDuc2cXUdLJUikmteTFnv4Z51CoH4CVQf0JRPkAoH4bKJo1BsriDCqaL6uQoqKCbX4J2y4pv7U3gU2ka+rAPzPUNDw9Dra17oDLl4SDiPXd865UUo3n7OdT58Dw9WsvRuB7NsZEzDeN9z9uTSa6tfby3ZnN7ySRJr3ilY2e/ZEPJQHLmmm3afthqVYgrhoAs2dv17NriCYaSKylSc5eKUzjZpqA3zLsrKSrhWrDmtZznEQ17xfqw82bz1nHKYuBJxyOqsOKQID+h3ymHxFyhlwghIeWflHpPftNVQa9lxVk737oXrQ1C1yESNjnJiXJSQCQfayki8v0c6h142F/xrSVwmoXEYb226QLGuy6qyUKNWdrkUQux3lG5/oigN1b+USY1Wx+Vo01kZZ0kE5KPGGnXhPI+ETGe8ClkQrcq4TmsdUp+SoLE+dUqXgjLSITrPozJ1Q8j/PQRTZekAG1Z/WY4t70+2sZXNa2d7yied9LumTzmkQqwcrZjyt55yoibDzjosMhD7U6Ms2h/hWiprYjSnk2x/KoygR7o2vWwuf4Md7qNuEWxKSv36lHaPmk1k+hbrxXc1INhWf/06re+nQke7XJsOmEE+Jp5nc4WREVRWrC9+l+jL7jF98ajIR4MvV62PbGqfJn1tU0adbEwjberWpSyarKPKcY2yaUVHf9GDDgt5onQEpGuV84jX5GtTj0OaqBSQZ+ZlxAKTQTzUBLPLD1YgWKFZdk/Rb6jbXPnxRv/GbFajT0lQnCZ+J/ff4jXClC+ZzrDzVWyPaFdq8VdAKJMcu1bb6TGiLJvLXnZc5o+uNj19+pREno4y5Hlqlr2S2+PHNMelDbFNE1K62b3lLyFGkMqy6TiHw+FcE1fUwXKCmOcRVg4uYAluIroxB+ObJ1jYbjCSFXIQ3sd4mjiHlZ0XXYVv7BSJp4/gIYPcLlg4iXnwaOUAF5YgNqMbmDMWEHoUQEL6XqRETuch/M9OMDyzRNffxKJdh8wzPx6SIypJZzVidEWx6mZjhicxH40i6pINpc2tYzZwiGHXmpheYxF7Kx6Ec5epPUsF4Xy8jmPDDJbY75dmYChuwf+QnEb9pr2ljcHWVfE8eorE6Rh8q3T9VR/GThN46llAbXQ5m9v90P8MJ8NiGjYX7dBlnjWkgVGkAMKLnU92zEco3/NW6LKU1oXEZRpYOfn9eJbRwblE5UT50R8GqOGVkU5QQw+zL4r5SXprcmOV0uAzy56YJQLwbJ3DMh9BdHMRNl0WW/4FJNplvA1aZKJGTU4ZnR2LmzI5+SOKIduJgAdb5xZBRpuLtmYZFRPw0/2Tn8yY26D7k24s2vTI763As5KWAiJ1itRI8+58gp3JYnUeVs2yyGE9sI0h3waViQ/udkO+O6BNZxvQm+GLzlMtYUW8Snn24bKIKW2zARwOu7BG11v1GVFksgjnOjcC6nTQIQW1+pSBzr5INuGyPvkjclvSbbr0sDimgQJbY0M6JHGWPaRGiB1OK0vTGVJBJx6vH8Mg1OcolmYMKG411GdWl8g2Pk2cYszHZFazeR4skKK2sj1Mv72PSb/PrQiSntb1+xHZnoa5Bbn1ALaHfNiILsHnNkOzVmjU4cHaH6pbC5SH9zYs1spDkFnzmjs1igk/Hj1N4pN5jvLI7k/2Q58X7PBKWlnTeqlbLH+z/m2cm3z1ujAi1IU11M08lWPMQ/oW+yT5rk0ErZ+Q1OC7FFQyWHvIpsANw7XIZL6JJfc4Km/ofv4YedI2dGOXEwsIpM0kY0qn144JfQWZNUr/VpF82aKgr5tLboxX3pB8/IjVb6zRlzdQycfgoXzFPkn6uhmE9VNSVV/bllFbG9NAh7qlHa2yaU0nf9GTDpN+bC65MJKja60sY9kbwJsJH8KUz3lzuSkOUaWQxQH7azG1tgtGF6XHDcEKzTOddGm3ITJEm7WCveNzYUoSLs5xfEjxk3MZDVmUoLrgDyJr8JJtpnpAtq/RNrNr+gV/7cQS6dXSjB6HAT/ahiI9c1Xp0epTKsiHvXi8sodjtigxcXF+jMP1WTiX28cUzdwOP6bdL2iIbQTbQNfemMG4dAj0ThiZZbRjRjg4BMscs8+XsYPYeaZ9nSQOh8PpCbZN86D5+Gq+ajZPVzfefZaOML6v7s+Z6fhcdf+DeOTb5w7x8/fi5xrfvZyh4zPV3YbjdT6+qs6bzdXpjXdVxR325+h35uqcdAMxHY7qxpH8LDr+drVqMVuqqw3H5XwQrrVRfSd9piNS+ild30mHGJ+PqqsWOr5xpPg881J+EuO76u6MuWpZPRLS3HvavheuY57ZpSvK+Py2ujppr/pY4iT5OChNiqt8pHMobbU0VN9tCPJqPE/Me0M5WRrK6fO76sa0sjzVeLdB58ztk/Rq0O/onmbLavWt/Kbf71Zn6LivdhMpbVTEShTHqUwWn1e/1SITNaSysqy+VcrpO0rLJOnv24/1+zWe8/0u01FfXSbfvnRX7dOkL4oLfa4erVrovJoeSTpUl4ckC8dGVVHcH/arc3S8pseqSOlyN+hZs96KKI9L6agJV6POqiPmQZ5W8V50PWVFqctCqikNZdmaZh2q3eNS9z4fSfVGoVSsKGeqk1QurCg1p6sRST5uxe8kGUp6Id5/ptosQqbXl/VZ1JsGG0JXeLs6WbX7RP1tLsNvq88dogyUJvG76ktJ78Xjkj65XyrrQQsaZahNhwdvfxrr1mfJBtb0QpnOb6sv3fYm218ro7pO12TRQ90S9M3XIOvvXlbdZBM2JeEI5chsGOmVHDHtbXxXQ3358Hq1Oj3ZbENFPWlvW7XZ5ZrfWlLa2w+vq6vTk81ykOxw7bhWX64sI1FHWLkqxcP0nHSpUV87lpFSZq3oXLca7F6dhuMaZaOKJn/Rnw5/t+sW7jEnL3hW/9h9NxvzpqT228XXDYrbiFQGclE12osayuOU5sXXVO6SzbLMVJ+/q92Lju4vVadZOgUbwOS+Sb+oXaMhT8S7DbntEa9pabCDn0nm7JqNPkKJJMumslce/7C/WH3+7TWkR4NPoQpeddB1LDPPq5ci/La6vzRNaZB8Cisnocyl3/Z5zyv1Y136hcbYph0s9rcwmdOL1asPgh1ubiMwamXbpAocDoczQK5gBEsF+dwbwOSBSzFZ1AC7m62QUuME2cQpMO2GvWGoqtHpxiSOkciqPyWr5HN4AxM8rglhSlANg90trMEiUkbuDUuHFy6zctKq3uqCb+QCe6lunqZLmF2wyDvTdaOYMNPfYkl84nqcxt7FMIy6c+RyOdnrHJVh4GIvjUI/aTvLI30MWFyTyqdKOitC6ZTwpKBM8mfy8brMCvnQxeHyjVAaUpdPYgmbTXneXSO7chYFYX0yqZwcDeWkm4DbyzLeI64pWBWFZ8IE/ckVzsXPWii9Qc5kwZgGmahSyODgYggup1UpJ6MLsXQCQeGJjohrSnmOwSSkFrXkjnniSDXNj9ZhVFCOCsrtFM1mg0IN7hqFfGTFAmiLeaJF3rpBk852ixkuZUWRZFFEqZuHyRopZA5wMeSCU6FUrChjSFO5XBZlD+nSjWPKMYRCInc5vPosi8PsEKanxLpznN7DxbARunO5/Oh1XsEwqD4L6x6w9Q8ERcWkoth0sIbSSLV6UnyShWgq7WRF5RjhdE/SzRNQmErzhPp1OqBJhwduf0bgcynrls46BRfJLJFWe8Q4Bk88hURQafvrdrhSVtrNHurWsHGcqnYM24k8SrWLGT2Ik00Q17AqIXdIQpjQ46KgLO/jso6uf4y0cj5IS+7aQpTP5rVLRPtyjotP4udmurTLFjNMCjnYEEqkEWm+sWCHz4Uba/XlDZRyEMVzgYJMNrncMco6kj7ZG4V4+rB/l/RYt9TQJJv2tPcX/enwnSEyymTH7GZZwZNc2W8v2i4EfIYTwQ6ZYDZe+rZBUs4domI3Qy/ZrMmlCLxUT0T0GHMuIjQ9hIuDNI5LWWSNNmGkjEhDnogRExNIEUWmL9I1HQ12UDfhRj+hyCUlvMmZYKlvrXSF6dHgU06yCZxSJLwU8TJTI6Ifg3MxhOmhCxyQvpeyWRhtlxJsyw37sW7j0m5iG4NzCUuWIeH9+51ZPHiyR+lbQqSxjhG1HcToKw6Hw7kyrqCDpYxzFheNj1DorEQ3bJAduxDOM40Zmgwg9AbBYRWK6oMgy+INMNJ8Axjqx6hBwH6ukg4KoSmIpj+n510OsyTIhotmXJ2zEnNd5zhY98PvV76eUawqNuT6SNtpgcI0iveNrZcyq4gXb5YPMSxeHOfyi7fLED4J5cScXWM5GYwaHbsqbW/aETa/PXhoxJyXoiENMlHjrFQgLaSGh4qcmtCY3Er5DMV8DplkHOGQF4/X2TzkBnk30Z8s+kWbzrK/3UB5urZsnaFUoJaF2aRSnxrpJV06mJ0uDMmGVwvDqoccmBpntYLuL4jwAOsN8mPDx0URsg7YU2pw0nujsbuFCC/O6ZcmjBmaLCWZSsFSooWp7Im2Ojxw+2OkY9LbOqMwWSjbbe0z2dCzIvK5DJLxMELexxCT2fib7pXQ4FjEvJnVh1k8/EZcGyNEDeKTeh04F8sx9wILjeX9dEfojMwVmY/qAmpUl06oIZNKILIWhCvAVh1pV66Dssskx9IJNaKowR9ZQ9AVENY7EX2vVl/ewLmoI7kXC0rZ0OvpjiAdKMUzCEPRY91qSzvZdEBTlvrRYTqmONz4WYUKlQu7/pAFJu1tV40UsfM0gEjJhaBNX7dZ1rHGjhypw/ZiB8HwBXxz8gZwhzx8Ytc0Y8LYpPHoKxRhsPXggocwznllW1dfZXo6+RQmQqokJiuaRSh2xF3sBBG+8GFO2SPehpv1Y13HpV1xF1MbUbhHpY/kQ+bmnIqOLw6Hw7lOrncXIZ0ejb5isOigv9obaMSCpVdHQi958yuC/jaJuKD/rpFKhcLAW4SUeWswgrDXLDn4HmUySEGW0lj2sAWXH+DRLAU+Owco3bHD7eg38rsurlJnr54rrxMTDvhGCkjm2ETxM2QPsxhyTEGKhUUsS3ilKj96RaYEXW3/hPkqyIsLISpeLRY71qTD12h/7gyptm9K6WV4rN/g/oNHmA2GsXNQwh27GwOraroxeKJpvN1/idXFaZh1RaSfPcXjBy7l+iHu5+plTa9MQOPj0coJ4n4b7n1zHw8fBxB6kcDxJwM8TrbqSBv6tssVnMT9sN0jOT58jEDoBRLHn2DwOIX1TjqiwZe7n6vLhu3co1U83TC4utWnbDRw5TqsBrWKhfVXHGbZqJH+ES2CEe7VCELO5g4/dSwILrrQ1DfRhgrp/OCRlMYaRCTshbkLP9d3erT4lHZYglh0aZW3xBfrxzSgM8FStyvv8Wy99QLvHA6Hc9VcQQeLHsOsh/r4FI3P8CqlE9lUgyHhvMJJqTlQLJeExbTMpqZHmwJ68QY4bb4BTuo3kDpbVNLBnkCeM8trNHTVA68FMW1Z5AvtnG8faRsZp9AEKApjVOWcIRWwwRXO4L+KF2+WD3EuXhwGrRmXRgXl8s07FJwVr9B9jZCzpD/nDY80ikX26KQBDTJRezBy12giLcxJU6Hk5BGxtVi5XpUyUuEFHJQd2Nh/S4FIGok4e/rvge3ycdg1QjrUkOFTNblJaNPZ28xdGE3UFM8VmutTPgLblB+ai7IlY7C4RnCczKIkDat2OWtDnSWbl82jvQhHMC4qKmmmkrNUAJe7uzQwNEy/LOCkPl/lknJJsJRoYSq7QKMOD9z+FOmY9LbOexSydCvDcHPjoZxCeOEAZccG9t9SwJ9OIM6e/ntssifPg0FnGMOUK4RwPIXM6024R95jZydLktKLT6hJ3/pVq5OdBTzLTWD+5WuSeQYpknl0LQiHpUOB9muXT3aw8CyHifmXeE0Np0wqjnh0DUGHBZd31urLG9AbhQZ8rtB3peuCLuoWKZyymp1CYR41yaYPrlGH5RSpUrF2scVsgu4sg3h9NxptiFOHG+trRRjt1oRkszInjXeo4L1wvh71jR41Io6ayiHfuI0PlXhnlR8RRsU1lT39sLVnbE9/6WG08ylMhFT5Chk0i/A9RBHqm+1jR27Oj+kGGZeqUEouYOFgCCaTNIzleB3BbhYc53A4nAFyBR0sOkxYHRgqxJBQrGhfwuGO8PxEQjT02NvBIWsjyCgmd/AGo5icUB/gp5uwwjFUQCyhXKekdLgjPqER0MM8OUkOqjEdFN9kEtg+HYKDAo1BozNPYZraens7h5crrguwXU7uweZlvep9pO3uBGzj5AMTb5TBfSmLg+wnGEwmjJgnMUnBTaN86OJIbJ9iqKsnWFI5HTSWUxFvEmy88dVymEjWA4xyPoblsEpYr0EmzLU3YWJ6dIFEMqOQUyV3iMNPZXLUWsdRF3HMxs/apmBTTOMoIpNs2Qy5EsQgJs9G8l5SyeHwsPUjJ206e7sxMZtzkUAyoyhJ5A4P8alsGsiQ+DGLCyPHaey8OER2xAdH/WmZDuapaQxhDzuNxqzEtpK0wSv08NzFhKioeKNUVGQPsvhkoHSqKeqYBaKpbCyfIpI7pHijk2hhKokJBOVPIIVXUFhLQolGHR64/TlF4qDBjifJLlIQ77pcDOGS4rEwVN02ZYMymRkMpqqVkAq5YAumlA0xPTWm6mVjJJtIQlCx35VcGE7rFNZUe8oaOUMhR60Nsx02xTyAMnJpua9Uoz+7fFbIkeTNsNvGFLaxnEvLfKhWX96AkfRVEE9CsaaCUB/DTlin1tQ7EvtCS92SHmzki4p6JNh7mXnUJps+uHIdVuNy/RXb2F2cZXewUx5S94ttofqaSEsNa7bV9DrCe8IHJZLNerMSQKy2LzPp9UlyHWt7JGyLBePd3ly65kGjHSy+geZQ5JB8xGVAgdhyuHVHYScGkJ7WPkX6jjRlJRCrb22N8gmS62sQRTjeQ/m1u+fV+jH9QONSJWw3pwDbFnp6A8/jEdl6LCFsNdhoDofDuQ667mARtzgLoN2W8nqbD4uWc+wEZoW562wOc8zvwUpW2cgbc6/BPZrFyiMvwtTIZefFQx54nh1j1L2MVmuT0g3gW7TgfCeA2VAcqVwOqZgfnnXlswj9VJAMLaWD7h0U0kEBTNgPp7AA1iJ8bK5wC8SGKjmhBKWrmwUOdGZ4KW1D2RU88iwjkRHn1a8J+R+FM+ig8LyftBngCLoxerwOjzdMDUp2/Rj8nhVkR2fgs99lF0dwicmHZBIU5ZNJhuF3PiHXacGiz9aVYx6jspgeonLy+MVyyiSw7PEgXFAbwK9EeApDjvhFKoe8yhP4ltw1Cw05ZJ/h8X1xasP92SRsPrf4vQINMlFDKivsPbmUU2IZs4EdnFuWMNPcCm2BkdpIJIudIPwxVpaivANTHmwX70jnXA96aqzZh06xFQoiTjLPpeIIzQZRpEZPSzTqrDriSLRs4gXJT7Yo6ADRokM6s5dsDivKy/qUWJ5FYOcclqUZlQ6FHhAC6qwwimHEZaEm7iXi/YeQXXkEz3ICGWaTEmuSDjoRdIgSNDiCZPOOse65tHmibRzFjM8ujFprtj1jcK+RfrPyqes3lSvVwWfHo3Avu9qUj1a06vCg7c8IhjJByY6LNtBDgfII8w1qj/ON1PAVkulHjOm38JsApjzbGExVM8A8acDFmxX4QxExf5kkIsEgnhWojNwWIe1iOZ6S/Z6S5EXpiIRE22Geg1e2QHZr7sJkHgXb+n9B0hmhXL1OLByqT4+S049dvmsyYxQ5rC9I9V3wvV44Fw4xJPu5Vl+uRNKR0x34p6RyYjIMifXRPOeVLTqtBW02pnPd0pOO2zF0uoWQpJepOJVZsMj6hOpolU3PXLkOq6HH3RGWeD1J8wQHsTK87YZXSlPA0jtML4tiZ6PJJnTEn+4t4IEw1fAbPFq5gHNOzbdINuviGFuz96WpiffxeOUA74dMmJNsXXfQNZenBT/l8Yu2h/lrjyeMzip/F2YxoMCzx1J67s8iSfqtFlFoo5/0SLTxKVTBseYexcXxFmalGOje/cdYOXiPIdNc67imEzflxwYcl7IR63lmM3NJhEM7eI9xuJ1sTR8D7F6XNNqMbHRgATGhHot6zLdp5nA418EVrcFigDOyj6hvBCfbT+H3ryN5x4voaoMr000gGHuJVdcwMuEndN5TbJ+MwLe5j7jK6t9yDM4I9qM+jJxs46nfj/X0KDWsNuCSvheR0jE/hvMXFDD7n2D9sAL74nPsR9ovgKW3zGDecoH0OqUrnGkaCtkOMW3zsFHwG37ih/9phMI1O5ZexhCsL0jWe9p0E9R43l2FazgjXn9lBxX7EnbjgfoOILU0jJ2/wArJ58k6W91/Ec/3I3B2u/IXNcBDu1HMmc+QXCF5LGzj3B5BdLHz0v1j9iCmx9kCeJTORDfPigxwbdA9J0fBYs6hYQvmotGWq/NrkYkaTXKK5DHii1IZiHONtaGHbSmOpWkjioK+B7CyU4KZjiWjXnEY8ftreoqit2EpvoRpPQW2JPPAs0Pcccew4WvfBNems2qMwR6cxnhxR6iHXRWxRrTpUHN9iuTJlkT3ERnYAjJjsHnZMza10RW1+9so4A7jCcniaSQHkA6+jMl25mE2L74rs3kr2KmQnHfj0g416raH6XfspUy/n27jZMSHzf14h/LRinYdHqz9McIbjsJRSWCdymwlWYGVbGCslf2v6bexiG2mDwGSX8lMx5KIeqkVTg3wfqva3akIdjddGCkeYJ3l78k6Ds7pHlQXamVUL0e3GWcxJi+y3wdFyXZoX1xxzBtFlBqolfS6oDPB7Te4w2S3uwwbfZ8vNDxJltOHXaYbIxqdg6WSFvMY3MabO05E9nexLN5Yeiqv0Zc3UNMRN6UtxsqJybAo1ceuHZBGG6OlbtmWEF+ahp4arU9Jx58d3oE7tgGFedQsmx65Bh1uRgdz8DkW7cBO6BlKgbXWD7AYegtm5i24EPQyjIxghMwkX0r3+LDQ+XdnfFrIh6PFvCnRZl2ez6YNmSbnECWb5e3RZunMIexS2ZjPklihslnYPoc9EoUWlTe4NqiuTWJUDChgmaO61+f2Q/2kR6SdT9FhIhjDS9LX8WGxx2Zo2IRJSvd+3Ns2rmnPzfmxgcal5Ry26Rrs3nvCtKNjvDgUh9SUS0XUZ7JdZLHF6rGfr8nC4XCuj7/C9mqW3msmFw6gNNO8tSTnh0Up6cfDFROiR0H0F6ZwOJzrhj3Je7ACLL3itvxrgttlzg+LEpL+h1gxRXEUvA0af9vSw+FwOJzrpvsRLOUMUskRGLoay8f5cikjHbLBFUo1jOIpIXeYAywm1HfG43A4Xwy13T/6WViQc1Nwu8z5gVFOI2RzIZRSajxKOYgqf80af9vSw+FwOJxbw08tE9J7TZTT/x/877/mhecXeQ/LDwMdhn+qgN/7vRfIFv8a7vz1C/x5MYednyxg69+NwP1P/jF+7Wf/qnQuh8O59ZSLyB3/PhKRHfzJ33LC9z/9d93NfefcArhd5vzA0A3jpwq/h997kUXxr93BX7/4cxRzO/jJwhb+3Ygb/+Qf/xquVeVvW3o4HA6Hc2voaYoQ54fHWS6G9fAOsoVzXOAORiepYebzYUqx+wWHw7ntlDPLmHpyALB1jTY34BnreTI/54bhdpnzw+IMudg6wjtZFM4vgDujmHT6SOencDMqf9vSw+FwOJzbAO9g4XA4HA6Hw+FwOBwOh8PpkyvaRYjD4XA4HA6Hw+FwOBwO54cD72DhcDgcDofD4XA4HA6Hw+kT3sHC4XA4HA6Hw+FwOBwOh9MnfA0WDqctFeTW7sO/BwybjBimI+fFAs4v7mDUZABbHlT4PDyNzXgIVr6w3S2FlyOHw+FwOBwOh8O5WvgIFg6nHZUcUgcmzL18jVQ8jvjzOUxe0PHxACLsM732N6ap1T4GI2+U3154OXI4HA6Hw+FwOJwrhnewfMmU0lgLxJCvSJ+7pJKPIbCWRkn6zGmmcpzGsSsId20r20IOB/RnZMIkjIJg6PQ6xedbS+UE8WAIqV4LvJRCKBjHSY/6dpN8VeXI4XA4HA6Hw+FwbiXdTRGq5LB234899uS3ByxLrxBx3pU+taeSi2A2nKU3JRTeX2DmeQaBCenLa6GEhPch1o+lj10y4n6O3eCEMPXgSiglEXgUgzEaR3Ci17tUkA974C96sRtxwiAdvRGuUbe6oZSJIT/sxpTUMC8mPHi0Xsb0ZhwhaR4JOyerd8FSCOBh7wqD57tB9FyUnajkEfb4UfTukpx6L+lSMoBHMSOi8StMa1dQvu7NYkf61IwFS68iMBe0l6Nrgg9h4XA4HA6Hw+FwON3T9RosxYSXGiZiI/LOqAkGLY2s8yIKZQeir0Mwa22UVcool3MIP1jAAezYeL0G2zW3eyqZNdx/sgfW5h8aNsGo5dG20CFkxOJ+DK4r67EoIuF9hLjtJf0dk471yglirsdIOgdxrf64Nt3qmTMkAw+wkiN9TKnoYyWDtftPxE6ioWGYtCkMSoX3MC7uUzlclcJUkFm7j4VPa0it2dBfNSojHZpCCIO41iAoo5gr4Fx4f4K4/xneCO8Bk3sVQZsBI+MTDbrUoRw5HA6Hw+FwOBwOpwe6X+RW1ogc19QoFEeCJJ09NCDPkgg8WEHWsoRXEScGPz6hE2JHBmvzD01H8Tpk7jAiRVxIM4CIhnN75ywZwIP1EWy+DsE6gJuIHUkFBK+0U0gD16lbvVBOI3R/AYdt9LHeSTQ0ranTp5Ij2QeAyBV2EFXyYTyazcO7S+VrlA72QzEB76MwTNHXCF19r1YXKEeztBzVpKEcORwOh8PhcDgcDqdbul+DRWeFyzcqvD0Ox5DrsB5DJRdDuDANn6P7BnClkEeW/o6YTTfUCDLC7rVjiN5d7EVw0GntitIBInsmBD1X17nCpnq82M5ixOcaSOcKQ2d1wTdyjHAshxtdXuMadasnCjkc0p/RNvpotHthFxUGkc4Kg4PIHkxBzxWOvjnD4fYOTifdsA+ic4VhtMM9eYG9yMGXuX6PhnLkcDgcDofD4XA4nG7paZHbMVdAYyOSGncxsQHZS2dAIcuWoQRsEzc3dUVvm4HY5u/UAVFBfieGwrQPjkE1ZFWoHCeROB2C3TxImYzB4hrBxUEKxze8gOl16VYvnOTT9O8IrOY2Bay3YUZjJ1Elv4OY0EF0hQpTeoNEFrDYzQOczqOH1WmnDCaR/QJ7WDSVI4fD4XA4HA6Hw+F0SW+7CAmNyBHh7XFsp+UuNpX8C2zn7PD29Oi8iEKOLWZhh9kkHrkZxuDyTQrvLvZiODwT3jZzdojtnSH4XNarG71CFNIHuICjSSZs2tC9e/caXmHkxW+RDCi/C4tf1DGaLJTBA6QL0oGb4kp1q1kOwqsmDDYlTfFdTX6MIo4PT6ldboHF2L6Ex1w+CBpzsYdYa4URRpYMDXAkkhpnuTSOYYJtrGGsRj4sy2ftFUBSSm4+rPwuUPtCQm8001WPkc61yt9tpUM5NulAQ/4b5RZIUklyOBwOh8PhcDgcTh/bNI+55sRG5OkOtlUbkWWkqYE85JvpbRHJs7zY2DeZYbzhRSj1Uz7MCW3+LLZf5FVHsZwcbCNnD8DV58CSs1wcIe8UpjwuTE2FkMhlkIgkkC+zb6VOJ/MEGtuGerMP0eiiOPpDYBTTqy6I3Q96mH3zYnmNz2AjGm1ai0NnnIAZF8gVitKRm+PqdIvJIYroojjtS2B0Gqs1YejN8M2LnWnjMxskT5JfMQG/xwOPx48w08fTQ4T99DmQoNJogX4KPlFhkN1+od5JdHIgdBAF+lcYxENe0hUPXFNTCCVyyCQiSAgKU0EhzybZUR1q7Icyuih/G5gZlz4Tk/M+mCV5Gl2rmGYDcYbsWCR98dW+qEEXNNOfbL5ws9PKtKK1HJkOUH43lIK5zD/JbVUQzAiml0iXfIMcGcThcDgcDofD4XC+ZLpf5FbGScyJx1vsabDKFrMnMThnCwj2uEsHW3j1myd7GJl7iWSn3W2o8RQIJaSdRLpg2IW1SK0Toj3lVBD3n7L9ScRtXxVrZ5ZTCN7fxsTLBHrfiOcMmTU/nhzoMReNwDuhRyUXxiP/Dk6pMTf3MknXlhbxtG/gdYsdXOplQsgXihUWU/UfwLaRwppagdQW/nQ/x1Gw3X7YZWTCfmzlpI9dYJ6LIihtiduJq9QtugBizscQxTQu2/FJXKTYf2Drf3cZQSeeCjvaNC+2WkYqeB/bE/3t3HRGdcT/5AB6kmvEOwF9JYfwIz92mNiEejMs7pZTnMPLpBdqd7rU64aFnEukyw/XUabrqKdRkqGx00Kx16MvIhoXudWCrPyUCxZLC19jEfsx181ubc7hcDgcDofD4XBuF6yDpWc+vqrOm81VM73mX32UDjI+Vl/Nm6uO599Kn7vn3aZFuO7q28/SkZvm2+pzh5jXxnx9+9xRNc+/olz3zne7M8K1Z3a/k44wjqobgnxXq4IYPuxX59jnjXfi12p8v1udEX5DL8dG9Z0gPrE8zI7nlItWvBPvNbdf/SAduVGuULcY30vyFsqT5CmKSbxnv9euIegFu0ej3L99XnWY56uKbHXLd1I5z+xWFRqzIeZJrDcayvTzUXXVIv7GbJ6r7ksnimlvl8YP1f059hvSMenIzSPlV3rN1TLTE5+rR6uiDZJf6/PRatVitlRXj26LXeJwOBwOh8PhcDi3hZ6nCAnobfC6xakQb7YSOBHeEScJbL2ZxFzP0x+KKGTZ+isWmE0Nc2FujDE4fBbh3enWNlLClB2inML2FjDnm+p9qgBdI8K29sUk3PI1RU7yYMtxwm5VjuBoh4GtSyJNgDndQSxNCS0dYucNMO61q45iuJVcmW6JGGq7/RCnOzGIYtrBG4yT/AYjpTGHjzSYON3C9qXCICUqDKZ6VxikIusQNMZtl43AOoGwfivssGpVGJ25vnOTMAXugCRdySGxfYqhaU9/o3i+aHQwe4OkDSLZ7QOSbhnp+B4uRnxw3artqTkcDofD4XA4HM5toL8OFmqETMw0NiKpEfJiu78G5NmJtP6KDY1rc94kd+0+iG3+N9hKiE3+k8Q23kzO9bX2ylnmQJyKYLZhQiazUiELNovFZDZ20Xmjh43KROyaoJTuHCJ5GKPGOOu8+ZImNFyRbtWQLabLynPnMInD2DHrscDAxHTXDl9jJ9FJAtv9dhCdZXAgKgxsSoVBVlSYrtYtqi/KS5xuJ0hf4ti7GIHPdYXbjffNGU5yOeTyRdKKK8LAtqOW3p9uIxFLfHkdlRwOh8PhcDgcDufa6GsNFhFp3Yq9C2B0Di/XgNDjHLyN65QIsF1cHmCFrbspYd94CUvi8eUx+wZSjgymnuxhaOY5Mr4hpLZPMRGwtV7v4BrWYKlRSnjxkI02GbJjI27HoSeM4egugmojBtiOI7O1FSGIESafczyuHxPXVjEf3AM7pFxvpox06D4WDmvrr9ChSgZr3zzBnjuKoyBbYrQVJSS8DyEMipFQrK+hSg7he37sTG/ibajdTkjXuabG4HVLsXaNtM7IpZiGMB19jdAgRyfU7zFEt4/DfuhBeDiK3eBEs4wb9UVI7zjSsnzZN15jbXhbPI/pk2xtlXI6hPsLhzI9KiLheYR1/RL2o84264XI5FxjvNMaIyUk/Q+xUl7EbrxdHboKfWF1Y4rqhpje0fo6MQNcg0WiQmXyiGQtLNfDUKzHwuFwOBwOh8PhcDgyhIlC/VJf98NSnZy0XK5p0YoPr6pzwroPluriq3fV/TlL1TLzvPqt9CPF+ivvNqqWxdd9rW8yUGRrVkxOTmpYs+Qz5WdaON88/bx6dLRRnTZPV5defy99z5bTcAvfK9aM+Py2usR+Y5GvcfGuusnurWGdlI+v5sV7Ci9HteOyItL6LpbN27OihsCAdUuJtDZNTU5t16jpFdlaHqQvk7J1TlSRrT2zJK0/JKz74Viqvq1Vgu92q252jkIPPlffLrHfWaqXS/R8qL7Suk6KsC6MeF/2Uq57o0ZtfZdXHXVx8CjXWqnLgerMav34oNZJ+b66O3N5r0Gtz8PhcDgcDofD4XC+PvqcIiRhcCAwzRa0uMCnT2b4ZlSezsu5O4WNqBujdP7h01mslOxYW/NiTPrRsMEk/NXpykjtJOFwWHpf32TQ6MzwBsWVGT590sPts7fZQYWhw0QggiULyef9Fvz+BPRza1i0XY4NMFpcwloPxaL0nLycR8y/gAP23maWjQ4wYsJGf3LFyyfqLdDbPBCKhDHuRcdlRU6LYIMMbBPdjOe5BgasW0r0sHmm61s2X83UD9laHp8+Qe/2wd5OYfQ2eKSCOzjMocJGa8T3MGyxX04fM1rgEhVG0oMy8jE/FkSFgblehHdhNLMpSkWU1Ha7ljNmh7e24MjQNDydFl85KwnbG4/QzfobI9ILJtjqyg2Y7WZKQxm5rTD2pGN3JpfgG8gwEwPspBfi3fpf+4fD4XA4HA6Hw+F8vQymg0XWiBzp1ICU0E3MIeQelj4ZMSKbi2BwrWHTPYlc+AkOx9k0gUE0lAaHwREQOy8sPsxoWkzUAOfiImqTegxGg7KTwODCRnQOxoMApjwuuAI7KOrFBq7FMi7rXNLDZCYpXxRQ7NRgFhYvZY3rIUz7HG2meoicFQu4oBI0m25NV5bEYHWrEZ3ZBVFM0/A5OkmpR+qdRJbOHUQsvy5pDZ2DHaRzbIHiUdidZpkeGODaiGLOeIDAlAcuVwA7Rb34vcWCcVkRGicspAE5HHfqkWMdCdKCI+NBT+cpMKfHdNUhWG6kQ45kFErh5eoM7GYTiusPce/effiTbPkZO+Y3d5EMTw2s40dvm8fzaBTRl4v9r/3D4XA4HA6Hw+FwvloGsAZLj5SSCDyK4dx4ikLhQraOwtdIBfmwB/6cDiOFAt6z9VtSa212aKmtJ2LC4m4cLnkbVlrTY3j1NcKK1l4ZxXwBZb0JE8IKp2WkgvfxtKBcp0Md6dzzTutufCG0061yEflCGXrThLgQbDmF4P2nKCjWv7lpLtfQGRoawoVpDrsxT5t1TkhjkgE8WMnCtLiLuFxhKjms3fcj62vO39lJDu8xCrO0kvRJzInHWyasvg537EgQzt228PVIOBwOh8PhcDgcDkdiQCNYuqSSRziwgpIjiGh0Tdgu9/3WLEJsr9yvkFJyAf6EHsG1ONbmRoGLQyx4Y+KuMqUM4pEIkicV4VyBcg5ptqjpqEM23UNC2tnkzWEGcmmVEgE8mvVj9pEXcTZ3o9jF1szlDA7fDAlTIb74zpW2ulVCIvAIs/5ZPPLGhSkuxQFvzTwYDJh0iVuCX1wAFsVWzCVk4hFEkie41JgycqLCwNGoMNJIptNE9nKra6KSW8PDx374Hz/EMpNNJdPF1swnyCZOMepz8c4VDofD4XA4HA6Hw5G45g4WNjLjHu59M4ud99Tw/UStx0oZZWEzkAscLtzHvXshfDX9LGxXmHv38HAlSw3lc5SpRXxxThlnvN/CY/ru1+ae4NmLF4jlauuvnCARWsGbIRNmltV2Z9FjKrCI8TdbkHaKljGJ1VcJuIYyWAuuo2BZwpqrc5fJSWILb8aD8HVuWd9itOjWP0XhL+nj5CpeJVwYyqwhuF6AZWkNGsR0rdy1OcStk0fscFsvJ7ucpdbx5NkLvIjl6uuvnCRCWHkzBNPMsnK0k8SYexHT57WtruWMYOZ5BsvmEhILC9gbcSMa7Lw1czm1ja3zaQTdt6lTisPhcDgcDofD4XBulpubIsQRqJzEEVpJoEjNWtawrVQAo3UGPt8Uxtr0d5SSATxM2LAbkzphKkUkw8vYOjhGWT8O20wA8x62+GcHTmJwzebg3Y3A+cUPX+lMpZhEeHkLB8dl6MdtmAnMw2Me1Godg0TcBjk2/hzxgGzdlsoJ4qEVJIqA7lJhMOPzYaqNwlRyYTwKVLD4OgRxSaMz5GLrWIu9EaYJTTp9HXVOoJxGaCqC4WhcfWtyDofD4XA4HA6Hw/mBwjtYvljEdV2W6b94sNPCqS1g02k8y8AybyzfCkpJ+B+tIG/fQMp3jsCjJJzxmOqolF5gnXKeQzviEWePU8FKSAY8OLTHEfkh9MZxOBwOh8PhcDgcThfwDpYvnEq5DOj1PXawlFGGHnret3I7qLDtuZeRvNBBN2LuOCqlF/rSF7ZptPBzrjAcDofD4XA4HA6H0wjvYOFwOBwOh8PhcDgcDofD6ZOb2UWIw+FwOBwOh8PhcDgcDucrgnewcDgcDofD4XA4HA6Hw+H0Ce9g4XA4HA6Hw+FwOBwOh8PpE97BwuFwOBwOh8PhcDgcDofTJ7yDhcPhcDgcDofD4XA4HA6nT3gHC4fD4XA4HA6Hw+FwOBxOn/AOFg6Hw+FwOBwOh8PhcDicPuEdLBwOh8PhcDgcDofD4XA4fcI7WDgcDofD4XA4HA6Hw+Fw+oR3sHA4HA6Hw+FwOBwOh8Ph9AnvYOFwOBwOh8PhcDgcDofD6RPewcLhcDgcDofD4XA4HA6H0ye8g4XD4XA4HA6Hw+FwOBwOp094BwuHw+FwOBwOh8PhcDgcTp/wDhYOh8PhcDicHjiJuXDPGkCiWJGOcDgcDqcnSimEpqywTgUQy53RgRPEnPcQSLH3nH45y6zBdc+KULosHeFcFX+lSkjvORwOh8PhcDhaKCbg9aTh2o3AaZCOcTgcDqcHykiH7mNhOIqj4ChysRWEtrOomOYQiXoxoZNO4/RFOReGN1BB8HUIVi7TK4N3sHC+LM6SCDxYQRZ3MDrpRWjRC/Nd6TsOh8PhcDgcDofD4XBuiC6nCJ0hGbiHe/eaX9YpD4LhJPItR3FVkA+zobRWWF1h5K9rNG0+LKQvnJc+t6OcRsh6D67lNErSoc7kEWYy0HQDJWfJAKWNZCF9rlNKIkDpsK5lSGoDpK0sThBz0T29MZxouWn5BMnleHPam+hdPqrcdSJydISjt2FYj7cQ2BnQdYmzXAzhpmGIXcqlVkcCSXp3yznLIRZOXXE6b14eYj0LINk2Aben3FrahduEqu50W1dEtJVPCwahwz3Z/V4R7WGgp8z2SdeyquAk5oVV8NlryAwsyV36hHIOYdKre94EitKh28ENxTScHyhnyCXWEPRMwcrqzz0rpjxBillOoD7Y/xboZ6PN6SYer3Gt9rkNVxWXa6Ctj7wi+ajHw4NEirlUlKFyEoOX6a3VhbU+HE+rWKpEx61Uf9YyN2W0yzhJLiN+I0FeCelll+jXA+RTb8xv9RYvfkn0uAbLOOwzM5ipv9ywGSvI7axg9qHaXGQWqPnhTxiwtJtC1JrBrOe2BSSU/u0w0uYlRJZtuNHRvgYnIrtLMB+EsX1NQiolt7AFN6JRL8Y0DBk7S29h5eBU+nTdUID+jR8JWDBnN0nH+iWPF/4tFC+kjxLdyuVLIv/Cj63GDHNuBDEQYEHzPTxYydKRHcx2G4heI2q6cxN1pX8dvkV2/4rpVlal5AJmt/VYFHx2Dk/8YeRuYtq23oxg/Dnc5fAVB/zdQI3XyKwipvHPRngnC+dqoMZ90PYA/vAxdJY5bESjiG4uwmE8ReLpY0wFkg2N69uhn1+Vfb6BuLwzVyUf9Xj4WiBdX5jdhn5xF6moFbknfoQH7HgMzgh2l8w4CG/fUMdjGlsrB7j+FlQZuXAAC3kroqldLCIMz0Kj7bgevua2VR02RUg7H6r7c+aq2bxRfScdUfD9fnXOQt9Pb1bffZaO3TTvNii95uqGaoIHwbvqBl3f3MMNPuzPtZblLedLTrs6YjnO7X+QPveKVEfm9und7ebdxpeRzn4RdXWu2nfRXiWfP1Y/fhRf3+76KL2r1bf0/raY0UYGqTv9lM+Xp8ODsjPdc3tk1bvP5HB+cHw+qm44qL5Mb1SPPkrHZHx4u1p1UH2afv6tdOT20GRzrjwe5wyG6/BTUqx8hcpwa9spH6itzOvBV89gdxEyOLG2NAm8f4Gd7GWPY6WYQjjowZRVfEJ7z+aCfy1ZH5pUSnhbDH8rIuG5B2uHx7hnuThCXmnYpHUK3lAcwuLTci5KyIQDUhpscAVjDec0DluuDV/LCUPlgi6bkHbrlBdrySKaOz0vUMqEEZiyCufZXEFpBezu6CSr1lRQTMnu711DslhUDsFTG555lkM85IfLJt2P5Odpko2SfFj5lF28fk1eGeRjXthYGlxhZMpah4OfIRcPwSuln8k5FCfZ175tMdSv+bgoh8thtCwd/hZlJsHWdbk3S7kBsisP6Dc1XWwxbaRSRCocrMuMlXU41Xz983yC9LKT3tRgi3vR9Twqw+CF9N1DMFWrU2x44VpLWdUQdckllIWo82GkBEUS8zUrZhgP6Hv5lIWO9UnQI5JRTlztnZ3jT7QavK8mQ+1l1Llut9cbBac5xALitcTykA+tVkuneG2/VPdrQ7IV9bomC1bX1rxt7EsL2BBqVkbf3Md9ZwDrhyXohoboCx30ej3920IH5ccl/bgsQxX9SOSlvDbXx9Z6okYr3VFJZ7eyOc8jERJth1DWbe1eq3QwtOlEZ1sr5UmzD2iE9LxeDqQ7gXjzUNhWQ+Zlx5m9vbRxPdi3VrJqW48725ia7c3VdJilp2O5ydHgMzX4J0U6pPp9z3ZZRqWUvAw01EshPzW9UKnzAl3YnS+FP/pd/IHpH+FPPkifOb0jyPJ3BzKlrXQQwc7pCObWgjDrpYMy7loDmLMPQ5cvyp5Ed9bPbuqv6Idr9k/c3SXH7FKTX6rRzj4THeJxMW21OOySy+PN/qY7P0Z04Z86+Yr+2jCdY/dGedTKrvGqyuNK/yVen+wZu/5JmxEhLeNhQoM9boXch7I8pkvqw2PKJ0msdWrPqSHXY2b/0yXyMI1o8Z9ijBSgY5f+u4V/EtoCl3os1J2iGI+1LHKmd8I6ktSCmmW/Y+VVKyv19pOi7gjIjldyWKP7q+lYJbNG15frJdXbWLu2i1Jnuo95WDF0iNm16pDGdtZtZuDbNOvJ8EzT38NcQTxQTMD/6CmSn8yY24giGl3Fok2P/N4KPCtpIeg3TLpgIXU7zDZIuJhDojACn2NCOtAMm0v30P8MGZ0di5tRbC7aocs8g9+vHA6ZCHiwdW7BfISdY4MuuwX/QqLz0ChSUH8wCwMZhOjmElzGIvZWPAjnGoo5EYBn6xyW+YgwdNOmy2LLv4BEN2OvNMiqFWw4t+dpAufmOaxGNxGceI8wCwzbefhKBmsP2RDOYbgW2f02seQeR+UNycYfw4l0WiNGVxSrbjY1ZxLzbKiqyyh+wUgsIJA2Y5GlwWvHhEpA0EyJKvVD+J9loLMvYpN+u2jXIfPMD38k31WFKib8ePQ0iU8kB2EY7SqVhT4vlNlKq23J9Gb4ovOUG8DkXiU5+FQDGYEKGTbPIzxNnGLMx85dhW+MDdP1YEE+fD23jtnAIYZdpDfsnFZ6U0cPi4NqTiGBXEOZnWUPqXbY4bSyRJ0hFXTi8foxDDNLdO0olmYMKG758ZCCjZq6VciIe0iXEqdj8K0yOfgwdprAU88CUmd6mH1RzIsZJn2JwidluFafToZnsETH6/XpIRlphS7nsB7YxpBvA9ElH9xmmQ50QGsZda7bNb05wbAgi0u9kctChNLrD+Bw2Ef3ZOcBByuP4W2pXxWq+nTtrSKV4aIg580lN8Yrb6he+xFTVI4iOXYvdj7ZBfuyOm/VZl/Y3GlW/3J34WVlxBKVmIVnPSed0Ats3r0Xj1f2cHwuhhcX58c4XJ+Fc7nZhrTXE+kkBa11Rx2tsqHymWXl48IaXXPVZ0SR2T1y9Orl0yodGnWiG1ur1Qc0cBLz4NHKAS4sQbJpG5gzvsGThe2+Gl092be2ZaZWj7XZGBHyIf4gsgYKwEjWS+QL2pebjE4+syv/JKXDyOSyinlzmWQSwMoy3ePFBZxLEaq/LozkOtRLZt9n/dg+N8G3xO65hJmRIqXrIdbq5d2N3dHIABvkXw95vDP9Ot79kfTxB0kR2cQx1VtqdI1Jh5rQY2othXh4Spoi0o1+dq6/zEf4BT/sxBL54aUZPQ4D1CjNSCeo0t5P9ByPt6B7P1ZDg3+68jZMD7F7NzD/xWJRZuPJztpxgJXHXkRazY1pFQ/32F5glNMhiuW2kLvrFXRh0f4J2wvrODyXTpA4SwXhfLyOY4MYf0aXZmAo0vWb4s8GVGKpT9sLWG+4QTf+sxgLwrvzCXbmn1bnYW1q01E9W/BQW+Ac5jmS02YQE+9JD4Ox9nbc6KLruSG0oOaZHF2oR8+9tJ90ZjhdQ7hIHEodazUqyKX36CYO2NhGIOTbYh6yC7FPsAY3hfILWj8h+fQR1feGOLjHmKdjzK5Vh7S2s2470kgWjXSYIiTwbfU5G84oDQv89qW7ap+m8xVj3T9Xj1Ytsut8rL6abxhKSHy3666aHc/pii34fFRdtZirltW3yqH03+1WZyanqxtvP9aHJDae8/3uDB33Vfe/lw5IQ+Iuh6vV8jonO4dB57FpUPXzpN9ZVqtvlTeoztBxn/LHChqHr2mTlQofX1Xn6V7TlCZFEuj6FnmeGoZnfni9Wp2ebB6aL8qm/ZD95qF3NXktKeVQk09dXs18PlqldFqqq8ofUjHOVCdJHqwYWw31Ux7/tvrSbW+SQ01P2g9FVBsS2TzdR5TNTHX3O+mAwOfq29XJqt23W/2uLoeGc+ppOJIOqCCd41b8ULqepL+irGaqLxX3J5jOMxkesbO+r+7O0G9mWHpkfH5bXZ20V33S9ZuG70p65KA0KuT3kX4n1DPpuKRH7qZEqNEoQ41lpKFuf3w1T+lwVDeEPF/y8a2kT9JxUUfM1RlloQn6dannDen88Lq6Oj3ZPERWqtf145IsGmUm3rN9Hfr2uYPsRoN9oXwLw8HrOt2sgyINxykdi6+ponz7XBgubpl5Xn1XG07+8dvq/tI0XVOSCRueusmurk1P1GiebqKSTo2yUS+fS7vXpsY0pUOrTmiztVKeOvoAFdrYZJbXRv1pupTiOKVjkfnBfuxbs6xq92isx9pszGW5zTX4uHcbHfyVZGs7+Uyt/kk1HUyH2T0cpD+yewgxBf32VcM16wgykccFjO9I7pPVaaoz7FJadawr/vCfVbO/9M+U9fC6EdKwUP0P/1n6fOO8q/7xLz2s/vEfSh+/JAZWnuQPmB63ixsa6NYvtq+/YjxvIbshP+sz1ZNpli6FD2imlc3pFI83+ogayuNkRxZfU+uhRz8mpaWTf7rSNozG2L0xTeLnZhurPF7zXxQvKRL/XV1eypKX0xwP995eaKFDRxtCrNIY8800Ox4hvfX4UwVtsZRW/yn5pwbfQcIVpvXUZCLWs0bZfk8yZ3rRYfpP0xShWlmpt5+a4tDG40LcZ1HeU/KB86/EQFAoJ+Zza3GhxGfBLlB7RZBdHzGPJMd2MbtWHRI/t2tnfRloH8EiDBt7AGFmSG1qiPRSDl8axrDsYfaYJ45UItiwf7kOoxNm+ltBWegQ08NqnwTYk/r6pU6QjhUw4rKgZcd9IYODiyG4nFa6ogyjC7F0AkHhib+Ia0p5jsHEepRzKDT0oDZhtsOsWDlqBCaW9GIRin4015RyP3GDCcIdOt7gEm2yaqace4M3MMHjmlDm0emFS3qvxl1bCIl0BE7WuylDlM05Lj6Jn7vCYoZJkf7OFDIHuBhywdmwIbvRFUOa5CErxg6MwRNPIRFUygG6UYgiLCt7abvmDPn0MeXRhUnFgA0drKE0UvKeaLMLFvk5tTQUS0q9kaMbx5RjCIVE7rIH/Iw9FRnC9JRZyNNxeg8XVMF05znkcrLXeYVq3gX20gX6TR5iMicv08PQWRFKp5QjjmTU9MjrEu9VR2+FyzeCi70U5B3Y5gn167RHYxl1rNtUt968EZ7sucyKMyi5LvhGSBYp+VP0SbjtyvQaqRzN7KmT2vjTuzaEEmlEmiuHUK/PGyqHzaaU2V0ju1cWhZarmBVxfEhfOtywy+2LzgyXt9uFm8vIHVZgN+txkk3glPK6FPFePv3Qj8G5GML00AUOSDFK2SyMNrpHj3rSLdpkQ/lWVhjJ7hVRallhGiE5aNSJrmytVh8go5LPqdtku1sY4dkVpTfImZgfvBr71liPNdmYOmbSO+XSiiOicFDsVG4dfGZ3/qkhHTo2vY6w2SBXBaORpY1NTmoB5Xuc4oLYdgL5Uk2aRpJ7GokAk7t2HeNw+uasJMUCbNqoFrrVzw719ySLhOCm7IoFVHUTbnjFqtQTPcfjMsq5Q1TsZuj79GOd/NNVtmF6jd27wuLFjCLxRkxSmsjQt9n1tZme2wvFY4ihToMOUYysCHUoPXsXwzDqzpV+J3eOyjDZ7L005J7nEq2xVJf+s8F3kGII+pUVFKNWzzxwKWRrgNPbR8n10H4SGLPARXU7cXg5hqWcPcAexYJ2oQFVohiRKgkFhRcFuWxzOC7rKF/HSMvj4B5iHi3tcW061EU765ajvYPlrh1rr19iUTCq09h8/RqvpdeaXS6tUzYqrolK+QxFCjozyTjCIS8er7OemlOcS6Oy9FY7qYJsiJ1g2Eco6G7ZvUK+p0CBEinkiHSgHVr9UyP0O20/7fUGzXSSVSPlMvNKZgoexc+XjILi8s6QYSmdUGVLJRBZC8IVYLMvCyi2GnE+UM5QKlC4azZRFR4U5PTOisjnMkjGwwh5H0MU4TmZxX44BdkmFqWjwT40o1lv5OhgdrowJJsmJEwPGnJgapyZLJIVO35+gHW/H37F6xk5aoJ14JwWKFRhyeyYSgWVMpPOOEZUCmJY6DVtrYPd076MOtdt+r2Q3BEVvZE6eRXlbYChsaPOYBSGaRbpvNbQfUon5IjIMUfWEHQFhLnJhcbK0XVhl1GkaME0ZlA6I0KUtUaKO3gaiKDkCsJG+bs4J+dvsmKsMa9SEHGxE0T4woc5FhT0qCddo0k2PVWYBrrVCabzGmxtD0krs3JQq0u6YRha6nQzbJ2C4KERc165H7wq+8bQaGPYX4F+yk3jDzX5p1bpaDjY6ZYGBxbnzZT9dcw+/EZcayFEDayTWo6717F2nO39I/yB6dfxB7+Rok8p/Cf2Xnr9+70/E08S+DP8yT+4/K7p+w+v8O+l9VOKq62uwRCn3civ0zQF53t2rTbfa6Cer9prVTZ4XW2tF/kUKSEv7He/jb+gj3/xG7Lr/INXMt1T5rXpPoz6tVqcp1FubfMj0CBXoTwHgNSoa9Ml2EC3+tmq3kh8OidraMaEsdFLGWDs9jmAnE71sC1F7DwNIFJyIcicXr9+TGNarqIN03fsrgWVeLXWiXTM3FS3dNteKBfpWxPGDE2RjqiPEmei48HBeqPf8eOZ6HhaPGzpNpbS6j/bKUaZfDz9Mdfqp4xREwZVdNoZg8U1IpsmxB66HQJ2p/SA+lxsu+ReYKFBtv6nO0LHVa4oU4YOZkGNrtrjbXWoi3bWLaeLNVjYoovDENZfFN7rL19yrSatO2W+wGgQhVNKY9ljxTf3H+DRLAX3Owco3bHD7WiwznornHaq8umcoOTCk9gRF9rYJu0+50tBq6wauLhoZdk6UDlB3G/DvW/u4+HjAEIvEjj+ZIDHyWZfXh+DLMZSehke6ze4/+ARZoNh7ByUcMfuRgcRaubiqnVuwgHfSAHJHJvoeYbsYRZDjikI/Ss1LEt4dXSEI7VXZIrq3cX1Vw1podXaqDbhFVBfAE9TGV1jBvQKA1ajgpO4H7Z7lM6HjxEIvUDi+BMMHicFUVfL0NAd6V07SEBMRkY3ViMhOJsC4BZYglh0GaVA5Ab05LbQo63tH+Y7pbftkArGGowg7DXXA42rtm91OtqYa+BG/JMOY54o0m/38XJ1EdNmHYrpZ3j6+AFcjfPUB8Dd6X+Kv1v4V/i7/3KKPk3hb7L30uvvTP+seJLQueLDn//CT+rf/d23/xD4LV9DR0ABf/7Nr+PDj7fr1/zL39q47MgQOhN+G38xI7sOvX75V6TvBegav/Gn+JH03S/+jgl/EVF2anTkj34X32Hh8h6U1p968dsqnT0t+NED/B3htz/BT9PHn/6X0nXY658/qOse6xD5T3/6D/GLte/Y+XSfy86PPN5983vA70jyKGzjZ36VDrP8P2VPTGt0kFvH/LDOld9GpX4f8RqDYURsaOeKYudTC9jaEi7/GjJdFVRnKpXbNRZL9FhGuFcjCDmvyY9dYRum59h9IAx114geuD2m+zeFOhYsvVLxOcIrgqkuHU9jLDU4/0k6d5NFp8KYxYWRizRybCGTcg5C/wob4SV+LeJ+riJX8ZUJyG1iD2iphBp16MrbWdfEwBe5LWeSOKSKM20bZ5+QCi/goOzAxv5bKsQ0EnHW++tRWbBLWuTzzSEy5RNkE6cweW0th9Yx7hpNdKecyjD8PCK2djub3Ea6kZUSsZc2x0ZvNSD1BLbgZGcBz3ITmH/5mu6XQYruF10LwmEZls64Du7CaCIznytQahvIR2Cb8uOyGM+bRlCcyodLlVMILxyg7NjA/lsyGukE4qyH2tNej7QzgnEW7KgMkztLBaRVv6UDPSP2RB8nsyhJ04NcztoQVj2GWe9wNo9Cu7hnZFzoQS82jdE/Qypgo4ZCRggAGtEJLb9jnKo81Tg/Z4VghKHflpXGMupct/9MbKgenzbrDdMTIblSJ69As+6wR/Ws5944rKLvJztYeJbDxPxLvGbOJxVHPLqGoMOCwdQOvfAEsHBSamq0nZ4eS+8YVD9Y9S5S+sUDIhX2BEZ6L2OIKUghg6ZNAirvxfNJaPWumB715PYidV501Ineba1W9EJFValLlRJO5OOcR8SnXecNyllUGwZ65faNodHGXAM36p90BoxNuRAKx5HKvMamewTvd3aQLWvVsQHyRwn8+e+b8DM+WQD8owf4+d8x4S//9R8qfNFPUSO/3jHzK7+KnyYL91+/Fz8Wt38Pf/mr/xC/qOhcaITu8/Y3609l7/7CzwO//6foarbwr/ymrHOI+NF/jzusY2OQfHiFDy+Anw5cdrgAE/hl1rHx4velkTDfk2010b1raflZ/OjvkdH90++b/Hc7uXXKz9ne/xt/QXL9efk5A+MuzCyWLsSQbrmKaBG5ZA7vSwYM3x2sfuqGDRT15JBv2o3nTCXeHBziCIsi2UXxs0hFGEHSxJX6sattw/Qau4s0xzSKeLgGCbEx/2fCDW3oZpZ3z/ZYz0YKF3BSn3JZg3RUFuqIPjOLfNeOR2MsNVD/KY2+Uev4lEZUDZKisiJQAdamDsoYs8FrOkUieyJMnzvENJUNMwYMUUasnXVV1VZLe1ybDl1HO+t6GGwHSymJ0MobYNQnzf8s4pgN7SLh2hTDw4rIJOVRpojOPIXpoTd4s32Aw9Pxhjn5KpiscAxdIJHMKCpWhSnXpzJMpi6sx43Tnazk6M2TmCQDFk8on7BVMkkkWvYEnpEBp5pgtpOjqFVCRhm59IH0/nowWR0YukggmVGkXhji9qlsAitGsfGfZ6PTL6mwXlpZBovHwhB225QNShFm0EGEGrmLCRbsZBN4o7BSJWQPsvhkoLTKRdkjQk/0cRo7Lw6RHfHhcgF6HcxT02TE9rBzKBcEQXUvwLaJY71RdycgJvON0piWsjjIfoLBZCJz20xNj2KJhjUEyhkktk8x5DALU2pUuetEpKFH/CjibA7ktJZRx7r9f4R5clIIPBMNK5uXMwlsnw7BYZan9hCJtEJ5kN+JkTugPMt2N6hxRtENGxptpyhKUTtyaQymdhhhdowCeztQFGUlTwGcirKeJij9krth29eth0kLmhF0hyS8EoghX3NCFOwl19ewR1XFYhm/zE+PenJ70WvUid5trVZ0E0x/m+tS6XBHVX8OE8l6p1g5H8NyWCUdV27fGBptzJVzM/6plArBZQuiviO+gB6GkVoatOrYoPl5/LUfSW/lNHR+6H5B3sifwC8XGkao/MLPaW5c907jNCQf/vz3pa8Gign/zc9JbxV8h//CRp/86OdImwv49Pu1kSZ/hg//miqKigzay619fj79ifo1B4XB4aO4+BRboTByTQ2LCoqJMMLHQ7DMOaihOGD9FNZ2AA52DpU7/BTfUENOen9lUGMxkZYaWWx73XWE1Zzelfqxq23D9Ba70320xMM1DhNQhD44wUGMCo/0RCX0aUEf9thohhjqKHWokk9AHuqIsms+jwoSbOtgmzehLN86GmOpgfrPWj2LI6HYjalCepEY4IiqIeGBx2m+qOgkK2UP0Fz9jLC4xilUPMB25hBD01OyNWTE79TsQiUXhtM6hbV+ey06xux3NOrQ9bSzroMeO1jy2IlEEKm/2Dy2KVgfsr29LcICi2KPICm+nWrMThD+WEpYUCeTZPu9e7BdVBkGLy3ymU4kUBh3wqJce6sZnRneRQtVrCfwBONIsesnljEb2MG5ZQkzfY54ul66lJUc/RQCi2ac7vgxy+aL029TMT+mFtoZvrswmcko5daxsJxAhn6TS7H9y51YOOw8dFA08GnsJDLI9blYi87shViMHgTjLO/UoF+eRWDnHJalGWHhQz1VSrsQZAQRT0lpnQ2iaGRdnRJkyEUR+hFj57A5lmyPes82OomwZsiyiRckvzyaOtslDI4g3KPHWPd4ESZDwtbmiPk9WMmOYsZnH0yQJQQ1WezsZJsWSBNlNYTsyiN4pHJLJdbg91DdG3Ui6GAO3QBH0I3R43V4vGEkM0xeMemcGfikNZOE0Q5kxF6QrIQFHUmPgksWnJMe1esT6aDf+YSaWxYs+mx9BCoSWstIQ93WTwWxZDnHDsm/pjfJsB/OJxSFWRbhY/Oz64yiFPPAH06SzFKIh2bh3zkl/QpiSiVTd01m+kUO6wvLSDD5Cb/xwrlAjqtT5dCI0bVMupTFiscv6hIFwMuzfiQoCJZjsrEG7yn2Fh6IU6++eYSVCyfmZKpfZ8yNNfcoLo63MHtfmqp1/zFWDt5jyDRXL3sRbXqiRpPu3BCN6dCmE33YWq3obfCR/p7vBBQ22bOSVQZfd81C4wDZZ3gsldf92SRsPrf4vZy+7Jv2MtNmY66a/vxTrxiowWO4eIMVfwgRwb6TjCNBBJ8VMDrjBnsg2J3duWJ+9RcwII0dEGw6U+M0JGlqzrWh7Iz6y9/yXXaMsGlWbUfwNNI5P3d+bFIdFdOZPMJtptLW0VkRfD6H8dMd+MlGhSLMh7H6kMCafwqP1ilOcEexIc2fGKx+jsG9TP4nuwKPX/QRzA97PGEUNFTCnv2EySY0tk/3FvCAyejeN3i0cgGnqtPr3Y915orbMD3F7vQzLfFwnYYYwzOLrVNqpwWn2sRzjfFwP/bYCNcylU+DDs36d/BeOkNAivmYrj3ySHGXoONifO0MOuhK6rSKpXbkN+jTfzainwpg0XxK9WwWIaGesbbAFDoUnYhOL8g+vcNkqew8UcJGtJPc36wgIMSuYl32xKgqq/STGixOshMJJA6G4JgavxytTIhtF5beKUmXmW8LiTG1eQ5e7buJqNMxZteuQ9fSzroGeuxgOcbhixd4UX/tIH06DIt7FS9TETjrRkUP21IcS9NGFLefwu8PYGWnBDMdS0a94tDD93Kjq8P4lEOYgDXutJDZ7IzBGcF+dB5j5y8oKPLjSSSPEV8U+9c1T3xgdCsrJUbXJuJLDgzltvCU5LCeHiXnutF2JfIxbxRRcliV9Dqe0G+C229wh8lzdxk2+j5fUPYjy9FbZjBvuUB6/Qk1WjM9BBdyDHBG9hGdH8P5ixXK+xNE8iPwRfcRqU26pAbLUnwJ0/pjbD31I/DsEHfcMWz4ZCa3do6xiG06xx9YwU7JTMeSiHrJW5CjaC3CMdiD0xhni4aSLBKterR1EyTXXay6hpEJU979dI+KHUu7cQSUy8z3wRhswurnaguk1WRlI0cUFsrtaSQH2JfwMna50r1ughzv7ipcwxmEn5AsVnZQoXN244H6OWP2IKbH2YJx9L2U4ab6tM5W6l/E8315ve6DLsqoc91u1pt1tpvO4nM6x9lgP6wUmC5jNL+FBf9TbOWG4drcRaRVpsa8iEbnYKmksc7kF9zGmztORPZ3sSxWjoanLD3AdCn2Ekv2Cg5ZPVrYxrk9gqi4kngdnZnKcol0c5i5oDsYn14S6rr6wFwdJoIxvKyfz4JcEybnSG5xb8NOCNr0RA013bkJmtOhRSf6s7VaEfXXh5GTbdEmJ+/AG12FsuvEANdGFHOTo0JDeWjYgrloVH2Hjr7sWzdlps3GXDX9+KeeuTuFyO4mXCNFHLA6yfTn4Jx04yViwi5CjG7sjkZ+7hfwU0jho9qCssKUlRT+k3xh1Q+v8N1vFRqmyLTH+PfY9Jku1kJpQ33R14ZFZ9U429tQjmAR8iqbgsMWuFVdFPZv4L/5VeAv/nXjgrKEME2ngD//Lfn983hH1/mp3xF3mahN3blco4VeXXWuqNOYH3Ea1b/FB9maLQNb5FZCR/4olnpJcccIimmxTvqfRshSWTEffdWwM8pg9VNnDmGXfKH5LIkV8hEL2+ewR6LShhft6dlPUGMtyGzd+LDQ8LozPi3YPkeL2Si9+rHOXH0bppfYXVM8XIMat9HlUeS3FuB/EkF+xIdox3iuOR7uxx6z8om9XIK9cijEUwvbRYwvblIbQjpBohbz2YayYjkKOk7x9csYgu0KUiWWKo4vYlN+gz79ZzNGiiFJNxxDyG0x3VhHepT0cEPDLkJ6C2YobReCLMNt106qyb2cXKFzQ4iVLAhHF2FXqwsGC5zjbE2i2sYYMmptF7cZZzGWXubbilJM3aPfaqBTzK5Zh66lnXX1/BW2V7P0/naQD8M6W8Tiq+atnDjdkkP4nh+FJXK2A2kdczjdcoYkNQJWsIRXZMR5leZwOJxmWKfFf/yty0aoYl0QYZqKuKtODbb4a30aC1vA9pvfg05+TA3pvL+UPjLq1xE6Br7Dz7z9p/hxbQSIcAz4m4XfVDw9rqeVdWDIFp4VaOxgmPkJ/iZ+W1hEtpYfZV6n8Dff/gI+fMMW11Xepym9ivtJi//KOjuUMmv+XoQtJizdR4vcus0PS+PvAN+p5eeroYSk/yFWTFEcBTX0tPyQGEgbZhCxO4+9boRcGPf8BSztRwfzULIrxDJfNz5HJvhFTeH4OmEdLLeHz9W3q5aqef5V9aN0hKOBb59Xp+3u6vN30meJz0cbVYfZUt1oOH7dvNswV81z+9UP0mfOD4nvq/s+Kv+NI+kz5/p4V90wM9nfsAHgaEQsr7l9bik5nH757icPq9m//28a4o7/VP0Pf5+O/4TbRE18fF1dnJyuLr5qsEnf71fnuK1Socs2zJXG7h+q+3M89r4qvn0+XbW7n5PXlvO5erThqJotGw3Hr4nvdqszZkf1+bfSZ86NMvBdhHqjhHQkgnBoFgt7w3B7B7DWww+JMQucdwrYCkjzD9k8zrg0t86yCDfvyOTcAOViDrlkDLEcMG4ckY5yOBwOh3MDfPhDfPp94Kd+/DekA5y26M2wW09xuPJEWmdCXINEXN/E3ef6Jl8TPbZheOz+xTJmceJOYQsBaV0ZcZ0+ae3IRbewduR1Uc4nEImswe9dx7HFB0f32yJxroBbMkWoiLjHg2dFPezBKJZctf3tOZphO4VEniF2mMP7T2wu/zhsMwHMe8x8aCDnBigjszyFJwfAsGUOmxsejPFKzeFwOJxroXlaFUMxtYqjgTPkYusI72RROL8A7oxi0umDzzcFxWYgP2j6aMNcWezOpwhdNeWTJCLPYjjMvccntjDwuA0zgXl4zNcr7XJmGU4WbI+7sbYRhJUX9q3g9q3BwuFwOBwOh8PhcDgcDofzhXFLpghxOBwOh8PhcDgcDofD4Xy58A4WDofD4XA4HA6Hw+FwOJw+4R0sHA6Hw+FwOBwOh8PhcDh9wjtYOBzO10M+jHv37uGedQretTRK0mEOh8PhcDi3AbYAK/lp8tU2VxDxk4p0nMPhcL4OeAcLh8P5epgI4ujoCEe7Puj3FrCVLktffE2UkQ5Zcc+1hsyZdIjD4XA4xBkyay7cs4bwVZr/r4K7cEbITx+9Rdh6jGcLOziRvuFwOJyvAd7BwuFwvi7Okgg8XEd+fBr28a9vH8lKJoLQiQvRWIhvx8fhcDgK7sIaiiHqOkEokgEfG3F7yYe/gT8BWNwWGKVjHA6H8zXAt2nmcDgcDqdn8gjfm8UOhjA87sDcchBOo076jsPhcDgcDofzQ+ILGsEizdkM56XPLKiVfx4w5RMkl+N0l3Z0m4YKTmJeWK1WWL+i4f2lZADWe1asZdSeFQ24nEpJBKz3YF3jT6Z+uDTagksqJzF4Wf2yukgftVWws1wM4ZTKuVeha9IaMZ2qwxnVqXv3Akg2JauE9LJLtCGBBIpfRSUQbUSgllmNMuoZTba9GyYQZNPSjnbh0+9hJZwmDb0tlKiusPrA9CWpYU0iqW7Rue3zUEYu7KJy8iJRlA5ppLVua+Ash1g4JUvbFccBXwTXHBtR2Z8klxHvdPmmsrpGSmksu0S9D5CC3oSZbB8XXR1nuQTWgh5Mke9idtQ65UGQyuFkgNOlmnxm1za7Wz/G6/lAKacRIv1wLXe7Tl3r2KtbuvYD11ynxfSFBxYnnMTYtEUvYirrDfXlEzm3Fj5FqAVn6S2sHJxKnwZDKbmA2W09FndTiFpzeOIPI/cVzBE2OCPYXTLjILyN/FVbPYMTkd0lmA/C2L7ym3FuD5JjZ0HWvQdYydKhnVmlAywlsTC7Df3iLlJRK3JP/Ah3rGB5vPBvoXghfZRz63SNNWoDWMhbEU3tYhFheBa0NJo5cq7Ctov6+RDr+XFMu8y4HTO3SkhRQ2ul5JL0ZR2eYGpA+qKHORjHc3cZ4WtsROdf+LGlWlk518ZZGlsrB+hUg26srMo5hAMLyFujSO0uAmEPFpLXbyWvNS4SKCEZtOEBxZXHOgvmNqKIRjex6DDiNPEUj6eoATcQMbTxmZrgfuxmqSC3HUbavITIsg0G6eit5pbU6Z6h2HRrC3BHo/CO8dGtPxjYFKEvgw/V/Tlz1bzxTvp8tXzYn6uazRvV9nd7V90wX1+aOJzbyIfEQjX7k4Y68If/rJr9+/+Gau3g+PzxY/Wj8Pq2uuujerf6lt5/lr7tFbEOz+0PMqVteLdBdsVc5SZDzvWWgTbb/kNF8rNz+wOtu3JE+c9VeynudxuNaeM+uF5m1yWDD/vVOQ02rLmsOFfH5+rRhoPq1XR14+ijdEzGh7fVVQeVx/Tz6rfSod5RsddX7td4Pb8dDM7W9OMHrgMeJ3D6pYcRLBUUU2EEpqzC02Sbdw3JYlE5bEwYLhhAMpdCiJ1nnYJfGkdcKaYQlg1fvGdzwb+WbBoiyIYgBl22+j3SpcbucrUhg2zo6hq8UtqsU16E4jnF07XasK8cG74adMHGriFs6XqZhnz4Hh6Ij8gx23QPNcoosvvaWJ5scAVjdH3pqzqDSZs6tSH2RTEdtbJxBRFrTEiliFQ4IMnfJl67mESAzleK8oTOC8Il5Em8VjjVOCxP1IWgZwpWllbhPD/WKB2X53UY2smGKtL3HpVx5qI8gkhJgxC06k75hJ0nyU8ojzBSncegNvNHv4s/MP0j/MkH6fOVkcc706/j3R9JH28ZZ3v/CH/wD16pP6UmGf3H3wJ+xjchHZD4FRd+Br+H/7jaqe50pmYLvrl/H87AOg5LOgwN0Rc6PfT6y6cB5ZMk1rySLrJ6E4qr1EMZbDFcYe0MILvygHRFHKLZamio/Hgp4a2fr6SIhIfqdyebUSabueYVdZT0OBhTswWN1z9DLtauTtaG79K1ZPaT2RplnWyBBttQk0EmHxPtHaU9nGEVVIstYNB5dRtlxVQgjqYRs6rDzW/Gtp/l4gi10qman2vUAZXjWm2Xkga7LpQ7k5nkX8p5xGv5tKmUsSYb3przfILy3lqHmnS0lm8WD5Bu1/RI3R8S53kkQlId6OjnRN2eFSsrHghykV/0AqWMLC5R830adEigZ7nd5tiIZauDfdRSfuycBysQBxCy79WG0Lcqq5o+55AKsXSQLvsTKKrUFwH58VIC3vp1lBQTHsqPLB3y+q/q/7uIl+ScxOCk89Sm/OTDdA1nTNoJR6stZEltY1+6oXSAyM4pRubWEDSrLOx+14rAnB3DujyKwoP/mq9oLL1WxyVa+Mw6FyVkZD5Eve538mPt6LGeJ/J0lCGvG736S2kXv8a8S9NurAH5iL7ufLbSdrCzSkjV6iLpR6AhTlCgOZZWtw9qaLU1zfWy1XEVTqm+BsQ6IMr+RCorGVdVp2vIr898abpEmiZHKqemqbOy40LdUOa52eYmkJcyx2KRmv1Uj/c4Xzpdd7CwaS6epwmcm+ewGt1EcOI9wh5S4qY6ncN6YBtDvg1El3xwm43ME8L/6CmSn8zS8MVVLNr0yO+twLOSrleqcjqEh/4t5O566R5RLNo/YXuBGlbn0gmqnCEVdOLx+jEMM0t07SiWZgwobvnxkJRfOZgsgzV/EFkDVSTKw5LLiCJLAxk5VmWNrihW3SZ6N4l5uk6Uvm9LgmQSfg/bIp276oOxuAX/wwAup6gOLm3tKJIh9+58gn0+QumYh1WXxZZ/AYn6DUpILnjwNHEO89wqoptBTLwPw0NOUFF8FTJW3sfCedbgplBOvrFTJJ4+onTk6+koJvx49DSJT6QLG0xOq4uw6fPYW/FgRev+iHoLHNNAIZFTpoFklj2kMM7uhJXFCxp1p0JBmffxUyTOrQhuiuUxdprA00cearB1kiCnKz68wr//jRR++l/+U/z4R9KxOj+LH//zn+CnX/w2/v3en0nHuqfZFlB1m/VgPSedIHGWCsL5eB3HhhksMV1cmoFBqoctR5LqzfBF56mWAyY31YeoD2qxqRqGSRcs1Mw4zDZ4xGIOicIIfI6GDqcGElQPw+9tWKS0rvqojgu2oM1UC6qTMc9D+GOfpDpJttf6CcmGOimQWYM/mIWBAqLo5hJcxqJQJ8O5dvqv0TYIJLAQSMNM9m4z6IV9Qq/ZFpzEPHi0coALSxCb0Q3MGd/gycK2yj3k3IxtZ2soPPQ/Q0ZnxyLZkk1SPl3mGfz+SHdD/jXarlbU7TqT95ILIznS65VlLHsDeDPhQ5iuN28uK8tYow1vSW4ds4FDDLtIh9hvNekQo0iBqhc7n+yYj5Cs563QZSm9C4mGcqL4YDaAw2EXlZNUB9r6OT3Mvijmxcoq2AKfvLImAvBsncPCfN8m6V6T79OoQ33I7fbGRt3Yxw7lZ3RR3XZDqEHzLJ0uld1f2pdVbj2A7SEf2Ykl+NxmbbvHGCbhslCjnmICpY0sIpcoYMTnALO4lXwMnod+xD5J/p/smPVTUtX/d46XGhizwUsZ30s36mgeh4kLjFACx+iTVltYsy8nw2KZ1O1LO5/VgmI2gWMqFa+NpUAd/dQaUvEwpvqZE9LBZyYCHmydWwTd2Vy0Ndf9bvyYGh3reYUarl48XtnD8bnYRL44P8bh+iycyy1sbdf+Ug/b/BIsQ1msP6tds4z0egiHsGNtbUqcItqDzzbOkU0gXTSX97ASWMEyyfPFhRNLEebLRpAje7XQSkG1xtIa6dXWdAfZQj/zA8webArx3cHKY3gjl/K50jrNYB1TdP2t3F14V+n6lIhP2wtY7zOjYltkBXvH52JnzcU5jg/JrzqXO28fL3Qua+yg4txepJEs2vj4qjpvNlenN95V5QPzv9+fq1rkw/ek4YLul9+JnyW+femu2qc3qu8Uo/o/V49WLbKhWN9WnzvMVcvcfvV74bPI56ONqkMxRFA5ZPDz0SqlYabacMtq9bvd6ozZUl09Em8qDvsyV+f25VdnSZanQevwMCkNltXqW3mePr+trlooD1eUtmakdDg2qtKlRKShvLWhnB9fzdN1pqsbigL4vro/x65/Obzz2+dsqOlctSEZ1e9eztDxmequcPzb6ku3vUkXKLNC3luVkxqifNzVXbl8pLSvSoLtRnfYsGRl0r+rvpyh4zO7Dcc7wKa5/NJC9T/8Z+nzlfGu+se/9LD6x38ofbxlCFOAVKb7fPeThx2nAQm//aV/RiXQCxptgaRzM80VrLpL5W5ZPVLqqAJRP+XDnVvVfeXxj9VX86KuyfP/3a6b6mGbYdiSbbSsvlWk6fNbVgcs9Too3uty+Oz3u1T3mJ1pGP0t/q5WJ6Xhu011l/KoqJPNaLUNNRu1pDB4Gm1BG/8h2j0psw3DzW/Etktpbywn4Z6TJCdWEEI6VYY4NxzXZrvUULfrgo415pP5HDpm2RSvps2Gq1HTITpHLu96WR5JB2pylOVfKjcHnSPPauN5tXKaUd6gLo/LOzTTcopQow/+numGueqTBKBVh3qW2y2OjWpl19E+aiw/OtDjFCEpXe6XSn+gsR6JNqrhPCo/t9lRfS4Y3O+l/Lwl6yznc/Utk+NMzf+r16tavtpNVRTssLlB1yidl/FLd7awUdbVj1Ls2NZnNXPEZN2h7ihpNdVDyxQQUX5qU4Qa7aUoL1+9PmnzY2poq+dUgYW6YJl5Xn1Xu8fHb6v7S9OUDqmes3IW7GTv/pLx4RWr23RNStDH14v19zX68dnsnOa6SPXVTefOvZLVKSVaYum6LNvmrztb01xnWh2/RN0PsCrNdKZWz6++Tgs239KgA1RfN1hbom57pXJqiPeajlM9WHzNUiq1RSwz1eeXilj9dn+pOk3pEes3++2mcP1WvrRdujm3n65GsJRzb/AGJnhcE5Av02NweuGS3ssxTyifTYx54kglgphQrPGjw+iEmf5WUGadkcVjHJ4CDrddsfiSzuwSnh604ji9h4thI3TnOeRystd5BcO4wF66IJ3JMMNuVnbjj5hYGooo9tBhOOJzwSrPk86KKRLIRSItDP+6trTZbDDL03HXKDwdyhbYcnRl5N68AUweuBQFYIDTKy+9E2QTdP60G/aGJx1GpxuTOEYiy/rHx+CJp5AIKnUBulGIxVnu/DRCQjc+BcdQAYncZb/7WfYQ2aFpTEkZ0qQ7J1mISVfqDqUcTvckFUQCQtI5/fPhFT68AH468KDtgp53p/8X/DRS+NDLKBattuA4jb2LYRh158r6lTtHZZjq4V4a8ho2GPSw2kmnmJ7W6+UJ0rFC/Ulma0bgc1kV9UZnnSIbeoFEWm3Ybgm5w2NgQo+Lgjx/ORyXdaTdx0jLh8Ga7VCakBGIJqTYYoSMVttQwwKzSX6eNltQyefU/YfdjWnpvRo3YtsLGRxcDMHlVJYTe4IfSycQ7OJRoCbb1Y4Gu35niJS6MZ86oyDrC+FRmVYb3gaqYxa5+66VZbHUQocusdnMCpndNQpeCIIbqmOGS3kDSR5FlLoppxquKaUPNpiEEQ25gvgUUpsO9S632xwbdWsftZVfH5gntI1aaUBvtVMZKEcNnqRjKIyQrjKDW8pBNJMXKCjyeYwy1Q8mB8VsgbbxkjoGixPj2CN7e1lp84cJXIzX6os2W1jTF69LKWvKJFy+ESqTFDoOFqtzhpKklmzm7E3imlLaS4NJqIUQq2GXfkyNDvX8JJvAKWnJUsTLbiOiH4NzMYTpoQscpI9RymZhtMkqTNf+UuTu1BKWLMBeeBb+0CGG3RHyC7XE9eezddLUZ2VdJP1k6SJ71QotsbQmerU1XTMJt11pDYwWF3kHqudMPldep4s4FjOqtPk68k9dZ5TiqMMK+WVSPKktMrkUgfdSETHmXERoeggXB2kcl7LIGm1kBVSYCOLo6AgR5+1YLp/TG911sJSZETND8LcKRmEiQ6OVSvkMRQq2M8k4wiEvHq+zGb2nOGfDpspFcvYmjBkajcEwKD5qgeRgzg+w7vfDr3g9I0dGKAJDckMD9ETGYRbwKhllArlgebrOtLX7YRli8YkGR8GoiZpMNS5wTobBNGZQOn6G3iAY20JRPr6Ngr+zIvK5DJLxMELexxCL85zuqBEyZk7XkGxoozikccgxhfGGRLTVnYtzeqemOyzpQsqhSLomfh5/Da/w702/jj+QXk1rpbCpMrLv/8D0u1I+5IjrrFye027NlT/Dn/wD8Rxheo1wfbVrkqQa1kcRPsvvo1gD5XKtF8V5jeukNOTnP/6WSvfE93+Kv8QU/ttfkT63ZAL/7Qzwl3/yn6XPXaDRFpyJFQwH6431y49nYgXrrdHWgaaAX3CqI9RwbN+9wgKlZpMh2tAL1XpzTsEF/cm9wEJD/vxPd4TGUa4oCyC6NiFabUMn2tuCMjMs1DwZGWHnytANw9B4rM7N2PazUoEsoRmmlunqnra2qy1qGWrMp/xztzZchcbLd4OmH/ZzAzXaXUyrDvUut9sbG/VgHwdaLgNEb4XYp12bJiR2iNU7tM8L1JRnZnKhKZ9PdwQrCbmZ7Cmj0lSly2lC4vSgcadF0RDtZAsrZfavii0khoXC1GIXatyt613rpvc10VakXfoxVdqX2YVQga0Ya+z/ljq4LnaCCF/4MCfvyaRL9qbydzG1tAjL+wIK+mksz8k7QwbksxsOdkxnF7F0W3q0Nd1DdrWxrAxGujNZJaorV1+nyyjSZdRsvlgPNVLcwdNABCVXEDaWH6ktYm1WRLHT/GIHwfAFfHMNHbGcr4quOlguLjRbfHXYPuYeK765/wCPZsnQ7RygdMcOt0NLT+EQhu5Ib1thWcKroyOh56/pFZHmRV4rd8TFOBk3nrYL9Ft8jZTSy/BYv8H9B48wGwxj56CEO3Y3NBVnAxMOH0YKSeTYXMkz1mgdgmNq/NL49KU7/ZDCf/rm3+LO23+Fv1v4V/jF3zHhL35D3tmRx7vfAn6evmPf/93CNn7mV+k38kVhhQ6L38ZfzPxEOkd8/bJa54Rwrg9//gviuX9n+meBH/0cyeE7/BeVxXY//Ql5h1/4OVF//uh36ayFy3u8/Yf4KZU1UP7iN34d//FP/hfFOfXOHnb/b34Pun95mU6W50bO/vQ74Fd/gTS8M3d+TL//0+8v5dE3arbAgqVXKnVLeEUwdRUVjAJ+p50Cfgq2WdUSnp7Vnqb2yh3Km/S2CfdzlbyJr0yg/Zov7enfNvRnC3TQN8YhjVy3/RxkS+XGbBdHwRXq0K2PjW7CPg4cPayiwYWw+36LDm33c7U8slcGfZlJgbuwOSYB9gSa9bDkD5G4GIfTctm9Msi4SCsjQi8eNTYvA5Nm2Do/bLHdzOA8cU9cmR/TgCWIRZdxYI3aSiEvdACwztuU2pCjG8hrx1i6L7TYmsEg38Dgauu0OkOaMkqBAosVjG6sRkJwGrVK2YLgoguaT+d8kXTVwSL26KkZ8VOxt7YtZaTCCzgoO7Cx/5YqRhqJOHtK44FiXS49670s4KTUaKxOcXosvW1Cj2H2JCCbR0HzsMrBUTxnT6+UvC9kyesZMKy72bRdIvU854rNIyFOxV5ikSEhvYWTkvSERka5JCxWZjYN0/sUwgsHKDs2sP+WDF06gTh7UuOxdZge0YIxC1wjx0hmS9KQRhec9bF+GnVnaBgjqrrDki6kHCzp3WHCz7y9XMS1NuXlY330yQR++Z/Lp8n8LH7095SRVHH79/CXv/oP8YtP23sC1vHxB7XOjaZzC/iv37O/4ugWeafJT/34b4hvfuU3xQ6ZGj/673HnV///7d1PaCNZnifwbzOMxQypvTh3p+052F0sNsPKsCDPQWoGqy5SQUt1sJIBqWAtXyRmsHywvLBWNsg+2J6DlYeUWZAvqTykBE2GD5YbUoKhZYqS5pCil5ah2z50Rx5K6tmyD1tOektaGu/vRYRshf7YIVvOsrN+HzApRYYUL96/iPf03gvtdSvR0dP8fm2f+u/V71PCSv/ftfOnhdKx048vf4/32kvDDNYFZrWAoTLQAnba8QtiTW6v5MywiVXlDvIonqm/pk4EjOR/GZ1VxjuoVcZwlxshM8ZFliofd5bdgTBaN/RgsC5Q0+kQtfYfKetVHPXMTt9P/fmYInyIzrxzZHEFCcflk1+6paU6YqDJYN01UAbr8B8Mo3no5vF2f++NmuVu0PXjoF1XjlRmmxuzOEC+eKZ2aE8ELuNIiR9RTXZ+bpCUkYsNalAf1tXpQTYvZpr9KwbrQpPSo9ylLiSnpyL84xjto9PrsdUBC+WNVEF9jlE3cpka3e+qGB1u+WKKdP1lribWab8jd30dE7eAogAXcdTe31l/h4o4L4r3gbVp60VK611gdh3rdBuwuxzH5QOm7v5ce7ryXtqgPuuajjbQSdXgeXfeZ4nhhuJ2QJkZcOdlWk2nbnV+TXei2igxmcKrblDVxSg17XUrrS1S7MyIeKdmRLT0H7GPVF8dLGbrDGYo06Ql/QrY9WIW0rW/+Mk4FMNR6ebUoRt2JqOYbbm7HrfCPUaVVSav3NA01St0oep5E26C1TVLt0e7yORbP0Wq4tFZDgS6PLpsUGrSvn6+LB0zJVFjSRm6+v2G7ZIZ1pkZqknSkHQrb9cp/ukmQXsn5hDbvHSR2s2gPbhyNkO3NmOYmaK7CflQGVrtcDmgT84iWpPTOPW4h4UMXuZLF08FUBnMO8qFpTPviP2yGfqCsRmIoA9Cs0NCkNcvp9P0nFLTHGVyhb/+l3/CX9C/f/pl+zoc/wl/2ewE+ebXeC8uOb/8NU7w7/i/v6fc/0mzU6V9GlIQ/+dL7b9aXHTIKMTTfrSRMtr36f+/O2VUSj/+wdhoFx2DdYHJ6sLsULd0ryqP0HMEJMoBxqk3v83HWWrqZeTznZWceuwDHOzsI1+ztK0r0UsN0r7+SRTVbAoSXZK7Ty8ap7JhobJL+7T9SlYvx+Gxu7ChPCr5pozWDT0YrAtMU3ZlfnhKajv3fAb72utO31P9OSHC2oCULeqvdeU88u/PMDFB6azcRNVQ0U0bqaK0L+YCNBmsuwbKYB3+g2E0D9083u7vvVGzjhpc/ThwhsqRxmSFi07m4GAH+/kaLHSPdVHjjtP1X6kmpbb1S+ooxz2wuzZwq2qySRm5KNbz2FamB824HZfXdoN1YTO/tNeFOCtC2qlhyG1VGpaGjboRpHipbUcRV4b36NVlCfH4IYZsC3Arlxht1GBF1uclUb9dm19v6q6vY+IW0Et56QBr4dTF43DFY9ezmxvYpfOy2Sx0tRsEujbGl6lGcWIj7IIrvEGvdrEcb14v7v5ce7vqXtogw3WN2ildo3zUejbV0j66lN4u8pAKuiOgkkmhTKVjRqxlcudlehxW9UT1dX69AqlbpVqTKLzaCLC6jNxmnFK9C60tcrAWRuoyI+Iou4kNNSPCMpiMyO6xvjpYYHYhvGJFLRPCfDSNXLmMXCoE13Lv2+NLlJGddJXPRBBK5ZSFiopZ8Tx7P3bk1qbXOLyrPoyV1uAPxZEt0n7SKuZDGbzT9ujGZA1gxTaE0toT+FclFEXYpA2E/GsojXkQcRtp+FxSG1kFZKQiytfMVx8ZKiIyH0U6p56TcswRHzZ8amNp0GG7KbMrjBVrDZnQPKJpkQY5pEIutCffpG8DvrES1p4EEKcGhtgvHfXD/+wQY75VKE82pQpYTc4QUnTeZTHXOB6Gy78DXXL2Qbk4ljLIlNobmkbzziR8G2reeRJQ8045l0bU78ezwzH4Vr30TYPR7NQQa5n88aULP25Oy+kxpcaQTz7D33ed1vM3+KtP1FcnX/4rTOFlPMK/4ptv/jf+35cT+Mu/Ff8jRra0T0MS05WUjxmkHsfIeimPP/mJ4VEpumlMfelVF0ioUXa4QDfdgRUbhkS6+1chKekuYSPkx1ppDJ6I+4p0V28QStJLqs8qED/YmK1Oyts1bEcjSplW8tB8BDJd7DuYLHC5h1CQJBxbPGgZKX6FEQwVI1odKspNCP41uhES5a5b/woZdUeoTIqy69LKAH0uEcV8OKM8FjbQz/MXuzBaN3RltC4wOxCkdDrNhHXXD3HuV93Tfy91u5ansLsIf0QNq5L3RHzbYpgTd6ziJoruzcRNlFJPUmM6TnkuBVtL48ho3TVYhurwB0j5hbok4SXls0qXkYq9GM1DN463e3xvdLv6sQuTWWmkFjIiHvUNq1aG08pQOWoyweJyY6hADZ1j/dQcsZ6DO0LxU8sg5NLqIvquRHQe4Yx4/Hygr8fU9mam9HKikaF7lcYMnK1fargudCESE3Uh1X/N+kXcO3oWqcFmw0rQoXUEnCidYNPTcXRb/vySCfbICyxY1GuEP5pQ738o/0oblA+fbCr3pMmt5lQ49RyGatuIasfPpel6EpFFm/YanddMo+76OkYFmO67x9A43Mb8pyLe6O/TL7C2/w5DEwsIOvu/C+mmXoxDDF6xxZbUNTfo2rZEZayxu4y4Nozlzs/1Cr3vpY0yWteIzhyl8CIcz1J9IPI75ekUxY2h2+AxVFN+hJTPirp2HqFMjeI1ApcSPXdfpse9q2qd7w9p9Y+E1fkQMm2V6oRDdNLXsLv8mZqvfvoEaw0PFrqWF60t0jjE9vyn6v7Tn+KLtX28G5rAQtB59f0wP6b5o9BfBwsZ9z5HOkYXuPI2noZC2CyMIZLe6rpSvp4ZjlgasdlxyDtPEQqFsZapwkrbsskANTnoIvxOrZhMUxGkXsXgrOexuRjC8o4My8pzLF1Z8Y/Ck9hDcslBNxJxLIpFkBJlwBnDq1T76vzXM9vm6HgNFDYXqfAXr1w/Ypwa80l3HdJmCItrWdTtK3ihO+Zgw3ZzVGk+pzSgBmF5W6TBJgpj1Ijcaks90xQiqVdY9w6jGKfzDz3FztEIgs/3kG6ujk8XlFg6htlxGTtPQwiF15CpWmlbFskAXX3pwqslp3GTDnWF8o51LPrNO+vwDhcRp7wTerqDo5Egnu+lERlARMvrP8ef/uGfMNprCs03b/CHthEs4z9zAV3WQunqP36Gv/+FC3/+H0Hd/mLEyJ9/+2t888uf4D/817/B34V/gvdfijlDP8FfadOX2p3sbnUdwXIVZWTKyy8vftEUHUhdR+T87Sf4C91UqV4q+FY8behnff+GouisC07hTCRBbRmdUU8Ce0m62RkqaemeoFzhROxV6pp0n4QzMguLWKSMyqUkTrWZt810caS8HX6WxyNfClvBbs0Q9YZfPL6lc6HDXsYRiCfhrkvYDC1iLVuHfeUFUu1PnmglymT6NdZ9VpykRBlYxOa+jJFgEnsJj8HjXsVg3dBNH3WBmk5BjBztqNeP7CMEkuvwqf/dw/dTtzfz1OTpS6zRMRcTFS2+m42USQp7km6wzpBdo++KplC10bVgxYnLiSTG666BMlKHP0CTzghmLTIyIp8phdUog3noFvF2f++NblM/dmG2YY4O2ChsUjzG0WtJD+NpZaQcXVKelIIGGl06tEX8pF9TfWI9QUocd3ET+zKlX3IPCc/ta8kmdaoScXr0Dby+68KW+mUzj7qT7h33ErhRUE0Uj9SQf7VOjWu5oKYz5V+Rze1LSbxpe0qV2RGj/DoL86HIr2E8yz+CL7WFrpc5nS7XTKPu/DpmwlQkhVd0XpZh9VeYoeEJzCzQ96cDg7nXrpexvbmLhm0FKy2LFz32RLBiaWB3c1sdbXHn53qFnvfSxhmtayYDSSQXbDjLrlF9EEWqakM8uQKnoVmodkQTqxirbGOZ8up2eZjuQ17ryuqdl2mtzo8568iLe4LlHciWFTxvO1GTlcJxka8ewTIryo+7ax0lNONv1jIMJScODWNiZgFJaosEBpIR2X33I/GsZu31LZQRnw7hOEY3MAO8iLEPpBzHdOgYsb3kzS7sHyttwdc/a28VreuXKMS0nJ/jT9o7wIUf/wL4Y+IT/OfWtVm6fNdf/6K50K36Hbh439Kx0Tze//qf+Ld/zOEv/mVHm86jHVes7dI8jrbPBfrsj/FzfPN3+s/UL76jOzHl6Y8vtTfi+D/7Ev/Wfj5E2e/3LcfvRgkT8OPjf+7vV9KHpBKHfV7Gyhu6Me4ZEQ8U1w2M3QLfGw1eBXH7POSVN/wYU8YYY/dSfx0sRyl4F/PwbIkeOG0bEXMKn4QkOF4UEbnZD9XsAzhKebGY92BL9ORr2yj1qA31BCHJgRfFSP9zNdkPV8sTh7ovimusQ+dhq6O48SkWT2P4VdyFuxv0e7e4bmDsFvje6IOpFzfw6eIpYr+Ka9MI2G1V4tOYz/jw4i3X8+ymxHS2z7CGGN4kPL1/dGPsB6K/KUKTNngeHWM7rM1Va87bVOalr8DHNfO9Nmnz4NHxNsLanEp1frk6l9G24uMLK+uPNp3pT//43/HbjkdIX64J83F2rlRRSCQQp/KzvDsMX6A5Z/5h4rqBsVvge6M7Vy0kkIhTnC7vYtgXUNe+YIwxxu6h/qcIiRW5E8+Qypfx7r2YVmaBYy6MJb+VeywfgLOjLBLPUsiX3+G9WKzM4sBceAl+K6ceuxllOtNv/5t+6pSYGtRlWtHHQ0ZaLJ4sm+GMJBHzjj/YdS2auG5g7Bb43uhOyWmx2LAMszOCZMyLcV7GgDHG2D01oDVYGGOMMcYYY4wxxn64+n6KEGOMMcYYY4wxxhjT4w4WxhhjjDHGGGOMsVviDhbGGGOMMcYYY4yxW+IOFsYYY4wxxhhjjLFb4g4WxhhjjDHGGGOMsVviDhbGGGOMMcYYY4yxW+IOFsYYY4wxxhhjjLFb4g4WxhhjjDHGGGOMsVviDhbGGGOMMcYYY4yxW+IOFsYYY4wxxhhjjLFb4g4WxhhjjDHGGGOMsVviDhbGGGOMMcYYY4yxW+IOFsYYY4wxxhhjjLFb4g4WxhhjjDHGGGOMsVviDhbGGGOMMcYYY4yxW+IOFsYYY4wxxhhjjLFb4g4WxhhjjDHGGGOMsVviDhbGfujqMqSwHdPeFI60TYwxxhhjjDHG+vOjc6K9Zoz9YFWRDT+B5Egj5R3XtjHGGGOMMcYYM4o7WBhjjDHGGGOMMcZuqc8pQifIhqcxPd355/CGEE2XaY9u6qjEvZi222H3xlGpa5tvpYK4OHa8or0fJO08w9ke59PdUUqcYwCpo4GcYH9OykjFc32FdxCq2TDs03ZsFL+Hc76Bq9LopJxCPDeYGDwrRClevFgtVLUtRqn5Opz9sClZP0ohIMqn3UtpaezYXePrrICofRre1QKMnfnNytr34oOUse87Powe/y7rX8YYY4wxxh6mm63BMmLD7Nwc5i7+fLCbZRSehfB5tIAzbTdVnRq1IYSkUcRe55C0FzHvH1Qnyz1SzWJ7G/AlkwhMmrSNH07lZQjbckN79+GMehJ4HbNiP75z/9P0yjSq4GVoGwOJwnoZO/ECrLEEVh2j2sZ7jOJleX4H5pXXyCXtKC+GEC/rS3GnbvFVR3knjoI1hsSqAw/gzPvyfZUxxhhjjDHG2MNwsw6WcSeC4TDCF38RbKT2kPCNoJGXoP8B3ITJQArFYgKeUTOmIhLeShFMffg+iLs16kHirYTIR3di1xOdLEUpfP/T9EOlkcmKSLaIhOeBdDGIeCmq4TVPRSCJOLKatf/shwnWSBbFhOej61z5cB7Dk3iLtxSHj7Ut99MUIm8pnJEp7T1jjDHGGGNsgE8RMmFsQiyO2UCj5UfeupxDPOKHyz6tTidyeBHayELWRjtUpQBtD6NzRoQMyT8N+7VD0BuoFuMIu+zaVKUIUmUDg+vrMnLxCLwONVzic/GcjPZBGKcVCdGAQ9nH7gpgI9u6T6/pHG3bK3H1HGUZ2Y2AFhcOeCMpdAT1pIx0NAAHfX7a7kI4VaZN2ue7npY6pH8+Qy9La/hMF54TlNNRhLxq+Ken7XD5BxE/2jSCjrRp396MBxlydgOBq9JIOV74Im4CIo/IWYRp/55Z4CgFL/2/h3ZoTTdlGtC0F4mWITVnR1lsBFyw0/4iXgPR9GXcn4jjzEONws/osz3imo7noc93mw5VidO5ebSn8CjpfUW4L9Rb4oXSJpxGx8ylZt5pD0+v7ZqjlIf+fwOdQaU0oTj2pC6fF3Rl3HTTM756TBsZSFlrI6Yi0X5+SdY2XDrJhuk7IshdDMKhcpC6/vhqXeVVy55SPuPIKRXVVWWM/recpnD3jj81PHEUKykERBioDowXe40Q6jZFh/JJLo6IXzuGcg6hrvFzXVjE94s6oVkWRTz3mtpZK6e0epXyZmAD2aPWMHdLawP1TT91IWOMMcYYYw/MwDpY6tUyXkolDNlmYWv+fC1LCD15iux7Kxa2kkgm17HiMKOyuwb/mjqVaHTGCxtKyJfa7q7lMqTjEQTd1/xCKoXh3z6FbSmB5PMVOEwlbIeWIV21AESdGgf+J3gq1TAZXFfCFZysQXrqx3LrmhLlTcyH8xj2bqj7jMvYXfMjXu7Z7LuCjFQkgMx7J5YSSawv2WEqbSO0LF2uVSHCFQrhWdEET+w5krE5mPNhhDaK2g7dmGENJrE0Qy8nfFhPJhFURh/UUdz4HKFtmcK/QuFP4nnMB0v9gOInhJb2dSej8WOQTI3bQOY9nCKN1pdg70ijKrLLfjreKawLdLznEUy9i8NPja7O5nOLSR9W58ZQy6wi0zyfoxSi2+8wtrCBsDZS5SQXgeeLTRyOziFG8SDidVSmuP+cGnoiDGYrgsklqFEozjeIrgM4Jh0ITAC7hXJbw7aCvNTAiNeGSW2LEUcpP56s7aNhi+B5cgsL4wdYXN65+pwNmnQEMIFdFNrzaiUPqTECr00N6bVx043R+BLuqqyZbXDPAsdSuS2+TlDKlwCnB3alGFSQ8lM5SL2HPUJlKvkcEft7ZJ8+gb+lY65ODX8/1VVSbRLBdYqH9SAmaxKe+peRO+lVxsTsqjA+Dz3D0bAaf89XnDAVn3WJPwnL4QKsK7QP1QPOqV4R1kmWQnjyNIv31gVsiTRap3rOXFHiZ61w2enRDEvR5MTK85awhBLa9D3xpCiKi2dHGJ6LKXGx4jShKKZ2hrP6NXMoPUIiPYJbSr3qxD7WvgjoOi31+qlvDNSFjDHGGGOMPUTiKULGfXO+t2A9t1p7/C28Pv/6O21X8rtXvnPn7Nb5b1q2nZ9/d/523Ub703bl/bfnb5bEZ/fo2y/94bXv3Op+cf477X2n35xviWPa1s+/av3+r1+fz9H24N7X2oZOX7+eo+PPnb/+g7ZB8d35V+sz587g6/M/XJxn2z7fvT1ft9H2rbfaBjUMC3utIRfatv9mS4kfN32uNajf7C3Q9oXz5m6/e+Gm86H3rUH/jr5rVoTlcr9ufrPVFoff/Op8fXamM2xa/HSG+ZLh+NlSU/BS+3Ytjdxb52/1J36+0BKGb98s0fFmz7d0GeVr+i6RT6y0XdvUDcXPcxE/cyJcvzt/cfFao6XZ3CvdyZA/nL+es57b1ptp0ist9dS4actzlL42q+8yvrT0vjLc3745X6J9Zmkn3VkreaI973RJ+17bL3ytnJ91/Svd9/9mi+LUp8WP4bjpplt8aendcuKDK2udvnu7ro93Qctb61oCKccXdcS3ytsL330lPkvHVMqaFlet+Ub47qvz9RnneVA7QEcZ09KwvVyff0ufo7A3408t59bzmC7T9KLFx8Vxfnf+yufsyCeX8aPFtfbe1pbeVJGez81Q2aIIUMuZ+3xLVxhFcEVc2M7Xle090kPLE5fhaktro/WNwbqQMcYYY4yxh2hgi9w6LcMYKm3iSSh1Mc1h0p9GrmO9FRPGpqz0bx1nyn5m2J0zQCmPy0EsRyikjo2NCPC6YG/9/tEJiDEv5eNT9X2HE1QKh4DNixkxo+mCCfZoAbmkFxebrV7YWvcxjUEJulztOqT+Og6HlY5y6fG4+PISjmvi3RFKEr1wU1y2LmBhmoIvIA7ap8cORKUCEp62lRy0+DltvFffd+gjfoxyOGDVn7jyHSXlxM9QPjgAJvzw6jLKKDwBr/b6ChQ/wdU5jB3GEfVHsf3OhthGSxgPC9htDGPcdIpyudzyd4r6MNDYLeBY29WIUZsHlraRIZW8hIalLa9co14p4wAT8HundHli1OnDrPb6dkZh81jEcBtcBlUdaWOhcqUEdcBx0+luy5rJ4oJ76BhS+XIMy4moR4Zm4VIyXBXlPB1/yozGcev5lXF4ZqJjH1I60refVKAGc+YyPILJjmghh6RXt/XCWflAScOAV1+uYbbDGxyh+Mu1xL0N1gndXgZNwp/OQYro88lF/NTP1FE4x0XsN4bg9dj1+417kSpIiNipTlTKWQBeXWEUwfUiONLAbq5lZNYM1UO60x6n+KEDUvx2ncrTZ31zdV3IGGOMMcbYwzTARW5z1GDyYfhwm2609YP262cnkKlBWcymEY8G8MVmibbWcKqNbjfbnZhpnSZ0VIJUu5zGcLUh7V+jaqC2Fp3D+PWLSNJX9/vtV7ryy97jlBoX1qlxfQOJjI5PaK9uoo6z6hE1KqmRlthAxBtW1s44lnutAdFH/Bh21Ymf4Uz0hVnVThedsQlqll7PNBXEqm8Yx8fvYF1ZQevasidVkRdPsb8ZQiik/3tG7U0xXaHaT2/Z6Azly9ZpQlqnhcfW18KuZyKxYcHIiPr+gmkYo+3bbkidftfSGaRMD7LAo83hG3jcdLjjsmaywuMdapkmpE4PGnK7YFEK0al6/PJLLLedX+hpRuk8KsuUDrVjqMHsL8fXz0QZ6pKGZHhY5ObLOu72qByfyKiUi8im44gGvoBajZ4qUy1PqsdowIqJnnmHPq8EdwSduwxDDa76XYrRUbRPYlLrIVnsdgWD9c1AK1bGGGOMMcbuhwEucguYrW546e79Xami/upcLWDVb8dPP/0MT+YjiGf2UX3khM/d1mFgtsPjBErUaBW34UclCbURahz2s6BFH1oX4b036nWtwT4odRylQ3BM/xSffv4FwtGXkA7fY9TvUdbOuMqHjZ8GGm1tr/5RQ76i/vRdzpa0xnYrG2Jv3uKteOpJx18Crr7a1Y/hcFMM7hdwKBKsrdPi9kwwG1+e42qPHVCDeqjkLXWkjedyjSTFIOOm013npSl3ECPHWZTF4h0nopN2CG6XRd9J6XvR5dzUv2JYjK+gPKju+eEoCwWrC9Ze/IVbF7a9VC2swm+ncvzZE8xH4sjsV/HI6YOuGv1gJ2CGub0HWHHz+oYxxhhjjLGPxUA7WPTOkIsvY//Mja29r6gxU4CUFiNY/HB0dJyYYRMrVh7kUTxTp8pMBBx9LRhq3AgsYliELHc0Zk5yYTi8cQqDtsEg+bTtJ92TapdG/jW0kQvlSpcng1BY+3aUwfKzMqaWXuFXoiGZSyOd3EDEbcOwtkt3fcQPnbc+qmpibeI+ab+el+XOONNGFlxHllaxeWjB0voSLIebWG0ZQWUeFr/Xl1A5Hlz3lTLiqrGP3GFd7bQQU2D67F9Rw3WIWvuUiHoVRx3zcmQR1Trq6JPrqNPvGvs5HNbVkTZiGkwzqHcRN3qDL2sdJm3wjhwiW6pq04O88FxMgTFDGXRRPr66PI5YlJFSstwRSuTCDnjjxbZ8rjIpPWFd0pCcnoojjmP0tsPAznKIL+/jzL2Fva/e4m1BQlqMYPHr68fHdKJDVFo6p9hUkHC4EJL+Xe24O6xRKW13CjW4o5cjjTrKNlCVRcYcx3C3CuTG9Q1jjDHGGGMfj4F2sNTL+xDLiIxYJ+hGXcahmGZAN/eO0dafPGUUs50rO5isLswOHeBgZx/5mgXefha06MtjTDks1K6UcKBrdVVR2i/h/egEJgyPIBiCaKPWKrKuMVIt7VOztV+T1PilL9vPIK97lIaMA6n/bzs5LlNDygqnY1I31P+sXMC+9ro7I/GjjbKg824Nar2cR77vX9LNsM7MAMdpSLonlNQpn0jX/zAvS1jdPMTYwgr8Lj9WFsZwuLmKZh+Lmq+A3Uy+7Qkl4okq03AEpKsb390oI64a2C9sK50WM27HZcPUINOUXVk/JCXpn0hUzWf06TM0jBFKyYpuioWaFkaY7R44G/sobIuRNjNwOy5DeidxozPIstaLWm4OCxm8zJcwEnQra36oxLohdPzjFKS2pxHVy3F47C5siB6ex1NQg3mgP99qCful9xidmNCVoSazdQYz6ExDnBUh7dQw5Lai5+S+xx4kWkbSKH8JT2c+kg+hVqMO6KvRInTV6ITITw1I2aIuLEqZfH+GiYn/opWzzrg4K0rYqQ3BTfX2hbyEgq5wV5BJlQH6jm5PjLp5fcMYY4wxxtjH42YdLHIeO4kEEi1/GxEvXKEMakNORLzit9VxWJ3UestEEErllIUli9k4wtQI3pEfqd/TymSByz2EgiThuGMaw2CNuiPwjR1i0x9AnBokYr2AVMiPtdIY5oLOPhrLonE3BhysIRzPoijWR4iH4E8Btp4tq94mfavU4C1hzR9Sw0UNn1W/H/Hj6xcsGBI9PdSQfZkro1Kt4/GEFWMoY3N5FVJRLOyZQzoagGc5j6Frvu76+DFT2joxVNtGNJJGjtI2l45iPiJjXAwF6JPZFcaKtYZMaB7RtMgr4nguLF/bMpMhrW7icGwOqz7193wRh74RCvuq1jlgsiKwYsNQaQ1P/Fpc5CRsaOfjibi1tV/UzrKS9JLOpwKKwiuo59/IZJBpzMCpPA+4T2YHghSu00wY81EtDlOUd9ZK+k4lMUJDyWJhLU9kEaewp2Dr3XhvZaZGr7OBDIW1MeNUH13cZDhuujEWX4Mra71N2rwYKVFalDrXbVKPL/KWS6uHqIwmKK+GMzi1LiCgRMgo3BEfxg434Q/EkVXiIYWQfw0lyltBpxrK9jJGGReRmEhDSjetHIg6LuRZxC6lz0rQ0bVjpi/jlH5KNRpCio6rhD8ehsu/A101qqUldhcvwyKtqudpi2FuSgQ3gpjtlOLCj4hSztT6yrO4SxXWCoKOltCOVZFq1kO5NKLzIWRqNsQirq7ndJv6prsK4ldMm2KMMcYYY+w+ulkHS62E3Zcv8bLlb//QBKtvHa9yG1Dv081wxNKIzY5D3nmKUCiMtUwVVtqWTQYwQjfjlXetrTITLC63smhDvwuG9s00RQ2M11j3DqMYX6SwrSFTdyL2Oo2w/pFH15oMJJFcsOEsu4bFUBSpqg3x5AqcNxkXT42k6OskFqwnyK5RuJZ3cOpMILly/VOEJp0RzFpkZJ6GEJKORcCQTC7AVi9gc5G2RXZw8MiDxN5rrDroA5XjtlELLQzEj9kRQzo2C/PhNp5S2j7LP4IvtYXgjQYejcP7nPKKewjlbZFXNlEYiyC9dfVThKrUmN08HIEvGrx8UhWFfWFlFkPUWI5n1TMc9SSwl1yCY6iEuIiLpwnKfXQ+r1KIXHxwEs7ILCxyhs4nBBGFVzHb3OrTfpwefadFH9RwBTFytKMcczP7CIHkOnza/6smaRvlCduZmieiKVRtccoTToNTL7Tpd8TpsXc0jo3FTTcG42uAZa2nSQcCorep27pNzeP7rDhJiby1iM19GSPBJPYSnot6xjRF+e31OrzDRTUe1jKoO2N4nQ5f5K2OMkaa8Td5+hJrFA+Lm3n63Ape7CV0iy3fmNmBWDqG2XEZO+K4YYq/qpW2ZZEMjIg5hWhWox1hSVS083RpHVmj8CT2kFyaxOnLNTUu8nU4V17o4kJhjyKxOobK9jLliW2Uh714/vqKc7pNfcMYY4wxxthH4kfiWc3a6+9fJQ77vIyVN3QjP4iftj8S1WwIn69NIPk2ghs8sPnhKscxHTpGbC85mMYqY/feCbLhz7CGGN50mzLEGGOMMcYYu7fucJHbfmlrbsy40bJMxA/IGQpRB7zRXNuQ+CrK+bIy52hM2/KxOUp54fKnUNHeq+ooFwrA0IRYe5MJ2pNnwlmeNPHxaqhPBGpdcJYxxhhjjDH2INyDDpYqCokE4tF5LO8OwxcYwLoFD5JY18OOWn4Ni9qaHM31NsR6Fb4BrVdxH03aPHh0vI1wSFv/Qlm/YR7hzClsK76WRUsZ+3idyZT3symItWQt4yPaVsYYY4wxxthDcQ+mCMlI+/14JpvhjCQR845jQCszPEgn5RQ24xmUjk/RwCOMzXgQDAbhmvy4u53OjrJIPEshX36H92IBVYsDc+El+K38Oz77IThDcdWFxX1g2LaA51t+TP6QK0LGGGOMMcYeoPu1BgtjjDHGGGOMMcbYA3SP1mBhjDHGGGOMMcYYe5i4g4UxxhhjjDHGGGPslriDhTHGGGOMMcYYY+xWgP8PnXwXorb/j2oAAAAASUVORK5CYII=)"
      ],
      "metadata": {
        "id": "pViIywaoZxBm"
      }
    },
    {
      "cell_type": "code",
      "source": [
        "import torch\n",
        "\n",
        "x = torch.randn(3, requires_grad = True)\n",
        "yhat = torch.randn(3, requires_grad = True)*2\n",
        "y = x*2\n",
        "l = ((y-yhat)**2).mean()\n",
        "print(l)"
      ],
      "metadata": {
        "colab": {
          "base_uri": "https://localhost:8080/"
        },
        "id": "H6qf0pc7XxdJ",
        "outputId": "6d6aaba6-6cc7-4067-8e83-b27d6b7a2933"
      },
      "execution_count": null,
      "outputs": [
        {
          "output_type": "stream",
          "name": "stdout",
          "text": [
            "tensor(10.1347, grad_fn=<MeanBackward0>)\n"
          ]
        }
      ]
    },
    {
      "cell_type": "code",
      "source": [
        "x, yhat, y, l"
      ],
      "metadata": {
        "colab": {
          "base_uri": "https://localhost:8080/"
        },
        "id": "jRjJ7rUhbEbz",
        "outputId": "149b23a3-7742-406d-8c51-009ddff9e858"
      },
      "execution_count": null,
      "outputs": [
        {
          "output_type": "execute_result",
          "data": {
            "text/plain": [
              "(tensor([-1.0458, -1.3357, -0.2641], requires_grad=True),\n",
              " tensor([-2.7929,  2.2440,  1.8701], grad_fn=<MulBackward0>),\n",
              " tensor([-2.0916, -2.6713, -0.5281], grad_fn=<MulBackward0>),\n",
              " tensor(10.1347, grad_fn=<MeanBackward0>))"
            ]
          },
          "metadata": {},
          "execution_count": 20
        }
      ]
    },
    {
      "cell_type": "markdown",
      "source": [
        "Trong TH này y sẽ không còn là 1 scalar. Hàm torch.autograd sẽ không tính toán ma trận jacobian trực tiếp mà thay vào đó sẽ tính tích vector-jacobian theo vector v truyền vào đối số .backward()."
      ],
      "metadata": {
        "id": "69ii3vcvanN3"
      }
    },
    {
      "cell_type": "code",
      "source": [
        "# Khởi tạo một vector gradient tự do v\n",
        "v = torch.tensor([0.1, 1.0, 0.001], dtype = torch.float)"
      ],
      "metadata": {
        "id": "tHrcw496Xxav"
      },
      "execution_count": null,
      "outputs": []
    },
    {
      "cell_type": "code",
      "source": [
        "v"
      ],
      "metadata": {
        "colab": {
          "base_uri": "https://localhost:8080/"
        },
        "id": "Wj5Xa-V0dNgb",
        "outputId": "b297783f-b191-467f-cce7-a96e453d6de8"
      },
      "execution_count": null,
      "outputs": [
        {
          "output_type": "execute_result",
          "data": {
            "text/plain": [
              "tensor([0.1000, 1.0000, 0.0010])"
            ]
          },
          "metadata": {},
          "execution_count": 15
        }
      ]
    },
    {
      "cell_type": "code",
      "source": [
        "# Tính ma trận Jacobian (đạo hàm của y theo v)\n",
        "l.backward(v)\n",
        "# Tính tích vector-jacobian chính là đạo hàm của \n",
        "print(x.grad)"
      ],
      "metadata": {
        "colab": {
          "base_uri": "https://localhost:8080/"
        },
        "id": "LytmL0FwdLqZ",
        "outputId": "50b2df87-7954-4124-a7c4-92838120dd71"
      },
      "execution_count": null,
      "outputs": [
        {
          "output_type": "stream",
          "name": "stdout",
          "text": [
            "tensor([0.2000, 2.0000, 0.0020])\n"
          ]
        }
      ]
    },
    {
      "cell_type": "markdown",
      "source": [
        "Để dừng autograd theo dõi các thay đổi lịch sử trên tensor, chúng ta có thể thiết lập .requires_grad = True hoặc đặt các biến đổi tensor trong block code torch.no_grad()."
      ],
      "metadata": {
        "id": "hazgsqz3d96t"
      }
    },
    {
      "cell_type": "code",
      "source": [
        "print(x.requires_grad)\n",
        "print((x*x).requires_grad)\n",
        "with torch.no_grad():\n",
        "  print((x*x).requires_grad)"
      ],
      "metadata": {
        "colab": {
          "base_uri": "https://localhost:8080/"
        },
        "id": "sgJ3ndDBXxYZ",
        "outputId": "3d5221fd-c5d3-412f-d91a-5a3395a5a2ad"
      },
      "execution_count": null,
      "outputs": [
        {
          "output_type": "stream",
          "name": "stdout",
          "text": [
            "True\n",
            "True\n",
            "False\n"
          ]
        }
      ]
    },
    {
      "cell_type": "markdown",
      "source": [
        "#Building a neural network"
      ],
      "metadata": {
        "id": "RWzDoXcBeHW4"
      }
    },
    {
      "cell_type": "markdown",
      "source": [
        "##CNN Network Architecture\n",
        "Các mạng neural sẽ được xây dựng dựa trên package torch.nn. Dựa trên autograd model sẽ xác định đạo hàm bậc 1 theo các chiều dữ liệu. Một nn.Module sẽ bao gồm các layers và một phương thức forward(input) để trả ra kết quả output.\n",
        "\n",
        "Xây dựng mạng neural network sẽ trả qua các bước sau:\n",
        "\n",
        "* Xây dựng kiến trúc mạng nơ ron.\n",
        "* Phân chia dữ liệu train, test.\n",
        "* Xác định phương pháp optimization để cập nhật gradient descent và hàm loss function.\n",
        "* Huấn luyện model.\n",
        "* Hậu kiểm model.\n",
        "\n",
        "Về convolution layer xem tại: [Convolution layer](https://www.kaggle.com/code/phamdinhkhanh/convolutional-neural-network-p1/notebook)\n",
        "\n",
        "Tiếp theo chúng ta sẽ xây dựng kiến trúc mạng Lenet để phân biệt hình ảnh các đồ vật và loài vật. Sơ đồ kích thước các layers của mạng như bên dưới:\n",
        "\n",
        "![image.png](data:image/png;base64,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)"
      ],
      "metadata": {
        "id": "k84nT39deI9u"
      }
    },
    {
      "cell_type": "code",
      "source": [
        "import torch\n",
        "import torch.nn as nn\n",
        "import torch.nn.functional as F\n",
        "\n",
        "class Net(nn.Module):\n",
        "  def __init__(self):\n",
        "    super(Net, self).__init__()\n",
        "    # 1 input image channel, 6 output channels, 3x3 square convolution\n",
        "    # kernel \n",
        "    # conv2d (input chanels, output chanels, kernel size)\n",
        "    self.conv1 = nn.Conv2d(1, 6, 3)\n",
        "    self.conv2 = nn.Conv2d(6, 16, 3)\n",
        "    # an affine operation: y = Wx + b\n",
        "    self.fc1 = nn.Linear(16 * 6 * 6, 120)  # 6*6 from image dimension\n",
        "    self.fc2 = nn.Linear(120, 84)\n",
        "    self.fc3 = nn.Linear(84, 10)\n",
        "\n",
        "  def forward(self, x):\n",
        "    # Max pooling over a (2, 2) window\n",
        "    x = F.max_pool2d(F.relu(self.conv1(x)), (2, 2))\n",
        "    # If the size is a square you can only specify a single number\n",
        "    x = F.max_pool2d(F.relu(self.conv2(x)), 2)\n",
        "    x = x.view(-1, self.num_flat_features(x))\n",
        "    x = F.relu(self.fc1(x))\n",
        "    x = F.relu(self.fc2(x))\n",
        "    x = self.fc3(x)\n",
        "    return x\n",
        "\n",
        "  def num_flat_features(self, x):\n",
        "    size = x.size()[1:]  # all dimensions except the batch dimension\n",
        "    num_features = 1\n",
        "    for s in size:\n",
        "        num_features *= s\n",
        "    return num_features\n",
        "\n",
        "\n",
        "net = Net()\n",
        "print(net)"
      ],
      "metadata": {
        "colab": {
          "base_uri": "https://localhost:8080/"
        },
        "id": "abGsTnZ8XxV3",
        "outputId": "a6ec74d7-439a-4d6e-f7f5-af22f7cd6623"
      },
      "execution_count": null,
      "outputs": [
        {
          "output_type": "stream",
          "name": "stdout",
          "text": [
            "Net(\n",
            "  (conv1): Conv2d(1, 6, kernel_size=(3, 3), stride=(1, 1))\n",
            "  (conv2): Conv2d(6, 16, kernel_size=(3, 3), stride=(1, 1))\n",
            "  (fc1): Linear(in_features=576, out_features=120, bias=True)\n",
            "  (fc2): Linear(in_features=120, out_features=84, bias=True)\n",
            "  (fc3): Linear(in_features=84, out_features=10, bias=True)\n",
            ")\n"
          ]
        }
      ]
    },
    {
      "cell_type": "markdown",
      "source": [
        "Chúng ta phải xác định trước forward function để trả ra kết quả của model ở đầu ra. Dựa trên forward function, hàm backward function (là nơi mà gradients tại mỗi layers được tính toán) sẽ được tự động xác định khi bạn sử dụng autograd. Chúng ta cũng có thể sử dụng bất kì một phép biến đổi toán tử Tensor nào trên hàm forward function.\n",
        "\n",
        "Các tham số huấn luyện (tham số mà có thể thay đổi được trong huấn luyện) của mô hình được trả về bằng hàm net.parameters()."
      ],
      "metadata": {
        "id": "K-uuNxOue0Hv"
      }
    },
    {
      "cell_type": "code",
      "source": [
        "params = list(net.parameters())\n",
        "print(len(params))\n",
        "print(params[0].size())  # conv1's .weight"
      ],
      "metadata": {
        "colab": {
          "base_uri": "https://localhost:8080/"
        },
        "id": "PMsAOoC2XxTe",
        "outputId": "5945084d-fe92-4472-a218-d47f597866aa"
      },
      "execution_count": null,
      "outputs": [
        {
          "output_type": "stream",
          "name": "stdout",
          "text": [
            "10\n",
            "torch.Size([6, 1, 3, 3])\n"
          ]
        }
      ]
    },
    {
      "cell_type": "markdown",
      "source": [
        "Chúng ta thử nghiệm khởi tạo một đầu vào ngẫu nhiên 32x32. Chú ý rằng: Kì vọng đầu vào của mạng lenet là 32x32. Để sử dụng mạng này trên MNIST dataset chúng ta sẽ phải resize kích thước ảnh về 32x32."
      ],
      "metadata": {
        "id": "27BYQXyQe7P9"
      }
    },
    {
      "cell_type": "code",
      "source": [
        "input = torch.randn(1, 1, 32, 32)\n",
        "out = net(input)\n",
        "print(out)"
      ],
      "metadata": {
        "colab": {
          "base_uri": "https://localhost:8080/"
        },
        "id": "ek2dfsQbXxRA",
        "outputId": "abce56c4-d688-4bfc-e1fd-11efe91c7913"
      },
      "execution_count": null,
      "outputs": [
        {
          "output_type": "stream",
          "name": "stdout",
          "text": [
            "tensor([[ 0.0719,  0.0516,  0.0255, -0.0861, -0.1000, -0.0468,  0.0725,  0.0962,\n",
            "          0.0954,  0.0810]], grad_fn=<AddmmBackward0>)\n"
          ]
        }
      ]
    },
    {
      "cell_type": "markdown",
      "source": [
        "Khi đó kết quả đầu ra thu được là một tensor có 10 phần tử, mỗi phần tử tương ứng với điểm số được phân bố cho class mà nó thuộc về. Bên dưới chúng ta chuyển toàn bộ các gradients trong bộ nhớ đệm về 0 bằng hàm .zero_grad() và lan truyền ngược với gradients ngẫu nhiên."
      ],
      "metadata": {
        "id": "E4fUAxcYfMKm"
      }
    },
    {
      "cell_type": "code",
      "source": [
        "net.zero_grad()\n",
        "out.backward(torch.randn(1, 10))"
      ],
      "metadata": {
        "id": "zb6nkKK2XxOl"
      },
      "execution_count": null,
      "outputs": []
    },
    {
      "cell_type": "markdown",
      "source": [
        "Lưu ý: torch.nn chỉ hỗ trợ các mini-batches. Toàn bộ torch.nn packages chỉ hỗ trợ đầu vào là mini-batch của mẫu (tức là luôn có 1 chiều trong shape qui định batch size), và không tiếp nhận 1 mẫu đơn lẻ.\n",
        "\n",
        "Chẳng hạn, nn.Conv2d sẽ nhận đầu vào là 4D Tensor của nSamples x nChannels x Height x Width. Trong đó chiều đầu tiên là kích thước mẫu (batch size).\n",
        "\n",
        "Nếu bạn có một mẫu đơn lẻ, chỉ cần sử dụng input.unsqueeze(0) để thêm vào một chiều batch size giả mạo.\n",
        "\n",
        "Tổng kết:\n",
        "\n",
        "* torch.Tensor: là một mảng nhiều chiều hỗ trợ các biến đổi autograd như backward(). Và cũng lưu trữ các gradients của tensor.\n",
        "* nn.Module: Neural network module. Thuận tiện trong đóng gói các tham số với sự hỗ trợ để đẩy chúng lên GPU, export và loading tham số,….\n",
        "* nn.Parameter: Là một dạng tensor lưu trữ tham số huấn luyện và được phân bố như một thuộc tính của Module.\n",
        "* autograd.Function: Kế thừa quá trình lan truyền thuận và lan truyền ngược của một biến đổi autograd. Mọi triển khai Tensor tạo ra ít nhất Function node kết nối đến function được tạo bởi tensor và mã hóa lịch sử của chúng."
      ],
      "metadata": {
        "id": "22ZrszhZfSV9"
      }
    },
    {
      "cell_type": "markdown",
      "source": [
        "##Loss function\n",
        "Một hàm loss sẽ nhận 1 cặp (output, target) và tính toán giá trị khoảng cách giữa output và giá trị target.\n",
        "\n",
        "Có một số dạng loss function khác nhau mà chúng ta có thể tham khảo được hỗ trợ trong nn package: Loss function trong nn. Dạng đơn giản nhất là nn.MSELoss (trung bình bình phương sai số) tính toán trung bình bình phương sai số giữa giá trị output và giá trị target.\n",
        "\n",
        "Chúng ta có thể xem ví dụ như bên dưới:"
      ],
      "metadata": {
        "id": "BL_2vU9JfiYy"
      }
    },
    {
      "cell_type": "code",
      "source": [
        "output = net(input)\n",
        "target = torch.randn(10) # a dummy target, for example\n",
        "target = target.view(1, -1) # make it same shape as output\n",
        "criterion = nn.MSELoss()\n",
        "\n",
        "loss = criterion(output, target)\n",
        "print(loss)"
      ],
      "metadata": {
        "colab": {
          "base_uri": "https://localhost:8080/"
        },
        "id": "Fw9hGvEiXxMO",
        "outputId": "a0bebe6e-d912-4d7e-90d8-290386bc9b85"
      },
      "execution_count": null,
      "outputs": [
        {
          "output_type": "stream",
          "name": "stdout",
          "text": [
            "tensor(0.8672, grad_fn=<MseLossBackward0>)\n"
          ]
        }
      ]
    },
    {
      "cell_type": "markdown",
      "source": [
        "Tiến trình backward của hàm loss function sẽ sử dụng thuộc tính .grad_fn của nó để lần tìm trên đồ thị tính toán quá trình biến đổi tensor như bên dưới:\n",
        "\n",
        "input -> conv2d -> relu -> maxpool2d -> conv2d -> relu -> maxpool2d -> view -> linear -> relu -> linear -> relu -> linear -> MSELoss -> loss\n",
        "\n",
        "Khi ta gọi vào hàm loss.backward(), toàn bộ graph sẽ tính toán đạo hàm của loss function, các tensors trong graph có thuộc tính requires_grad = True thì sẽ có tensor .grad được cập nhật gradient theo trình tự lũy tiến.\n",
        "\n",
        "Để minh họa chúng ta có thể sử dụng một vài bước backward:"
      ],
      "metadata": {
        "id": "Z_TFB8HCfrna"
      }
    },
    {
      "cell_type": "code",
      "source": [
        "print(loss.grad_fn) # MSELoss\n",
        "print(loss.grad_fn.next_functions[0][0]) # Linear\n",
        "print(loss.grad_fn.next_functions[0][0].next_functions[0][0]) # Relu\n"
      ],
      "metadata": {
        "colab": {
          "base_uri": "https://localhost:8080/"
        },
        "id": "qjJwip9TXxJy",
        "outputId": "e10a6c26-0ba2-4b5f-9c48-6a39e01e6917"
      },
      "execution_count": null,
      "outputs": [
        {
          "output_type": "stream",
          "name": "stdout",
          "text": [
            "<MseLossBackward0 object at 0x7efd0cea45d0>\n",
            "<AddmmBackward0 object at 0x7efd0cea49d0>\n",
            "<AccumulateGrad object at 0x7efd0ceace90>\n"
          ]
        }
      ]
    },
    {
      "cell_type": "markdown",
      "source": [
        "##Backpropagation\n",
        "Để lan truyền ngược chúng ta sử dụng hàm loss.backward(). Nhưng trước đó chúng ta cần xóa nhưng gradients đang có và các gradient khác sẽ tích lũy vào gradient hiện có.\n",
        "\n",
        "Bên dưới chúng ta sẽ cùng gọi vào hàm loss.backward(), và chúng ta phải nhìn vào hệ số chệch của conv1 gradient trước và sau khi backward."
      ],
      "metadata": {
        "id": "TAtN5AE4f0x9"
      }
    },
    {
      "cell_type": "code",
      "source": [
        "net.zero_grad() # chuyển về 0 toàn bộ các gradient trong bộ nhớ đệm của toàn bộ các parameters.\n",
        "print('conv1.bias.grad before backward')\n",
        "print(net.conv1.bias.grad)\n",
        "\n",
        "loss.backward()\n",
        "\n",
        "print('conv1.bias.grad after backward')\n",
        "print(net.conv1.bias.grad)"
      ],
      "metadata": {
        "colab": {
          "base_uri": "https://localhost:8080/"
        },
        "id": "S_VmoFNZXxHP",
        "outputId": "1fa7b87c-8921-4345-e8de-5d09de4d4184"
      },
      "execution_count": null,
      "outputs": [
        {
          "output_type": "stream",
          "name": "stdout",
          "text": [
            "conv1.bias.grad before backward\n",
            "tensor([0., 0., 0., 0., 0., 0.])\n",
            "conv1.bias.grad after backward\n",
            "tensor([-0.0067,  0.0043, -0.0187,  0.0029, -0.0009, -0.0034])\n"
          ]
        }
      ]
    },
    {
      "cell_type": "markdown",
      "source": [
        "##Update weights.\n",
        "Công thức đơn giản để cập nhật trọng số là:\n",
        "\n",
        "weight = weight - learning_rate * gradient\n",
        "\n",
        "Chúng ta có thể triển khai bằng sử dụng python code đơn giản như sau:"
      ],
      "metadata": {
        "id": "IzozqfDQgQB1"
      }
    },
    {
      "cell_type": "code",
      "source": [
        "learning_rate = 0.01\n",
        "for f in net.parameters():\n",
        "  f.data.sub_(f.grad.data * learning_rate)\n"
      ],
      "metadata": {
        "id": "EbC48NHcXxE5"
      },
      "execution_count": null,
      "outputs": []
    },
    {
      "cell_type": "markdown",
      "source": [
        "Trong đó _sub() là một hàm inplace của phép trừ.\n",
        "\n",
        "Tuy nhiên khi sử dụng mạng neural networks, bạn muốn sử dụng đa dạng các phương pháp cập nhật gradient descent khác nhau như SGD, Nesterov-SGD, Adam, RMSProp,…. Do đó sử dụng package torch.optim chúng ta có thể thực hiện được toàn bộ nhữn phương pháp gradient descent này một cách đơn giản."
      ],
      "metadata": {
        "id": "JdujU0FugqW5"
      }
    },
    {
      "cell_type": "code",
      "source": [
        "import torch.optim as optim\n",
        "\n",
        "# Create your optimizer\n",
        "optimizer = optim.SGD(net.parameters(), lr = 0.001)\n",
        "\n",
        "# in your training loop\n",
        "optimizer.zero_grad() # zero gradients buffers\n",
        "output = net(input)\n",
        "loss = criterion(output, target)\n",
        "loss.backward()\n",
        "optimizer.step() #Does update"
      ],
      "metadata": {
        "id": "GesDnWcsXxCq"
      },
      "execution_count": null,
      "outputs": []
    },
    {
      "cell_type": "markdown",
      "source": [
        "Hàm criterion() được sử dụng để tính loss function. loss.backward() sẽ thực hiện quá trình lan truyền ngược và optimizer.step() được dùng để cập nhật gradients theo phương pháp optimization."
      ],
      "metadata": {
        "id": "4b7ALE9Cg4X6"
      }
    },
    {
      "cell_type": "markdown",
      "source": [
        "##Train a classification model\n",
        "Phần này được tham khảo từ code của bài viết gốc: [Hướng dẫn phân loại ảnh pytorch](https://pytorch.org/tutorials/beginner/blitz/cifar10_tutorial.html)\n",
        "\n",
        "Như vậy chúng ta đã hình dung cơ bản được cách nào để xây dựng một mạng neural và làm thế nào để tính toán loss function và cập nhật trọng số.\n",
        "\n",
        "Nhưng bước quan trọng nhất của mô hình đó là chuyển hóa dữ liệu từ raw data sang numpy array của python để model có thể đọc hiểu được.\n",
        "\n",
        "Các định dạng dữ liệu thông thường bạn làm việc sẽ là hình ảnh, âm thanh, đoạn text, đoạn video. Bạn có thể sử dụng các packages của python để đọc những dữ liệu này dưới dạng numpy và sau đó convert những array này sang torch tensor.\n",
        "\n",
        "* Đối với hình ảnh, packages có thể sử dụng là pillow, opencv.\n",
        "* Đối với âm thanh chúng ta có thể sử dụng scipy hoặc librosa.\n",
        "* Đối với định dạng text NLTK và Spacy có thể hữu ích.\n",
        "\n",
        "Để sử dụng chuyên biệt cho đọc và xử lý ảnh trên pytorch chúng ta có thể sử dụng một packages là torchvision. Package này có thể load được các bộ ảnh lớn như CIFAR10, MNIST, … và biến đổi dữ liệu ảnh thông qua các module torchvision.datasets, torchvision.utils.data.DataLoader hay visualization."
      ],
      "metadata": {
        "id": "a06lehlng8Q2"
      }
    },
    {
      "cell_type": "markdown",
      "source": [
        "##Training an image classification model\n",
        "Chúng ta sẽ đi qua các step sau đây:\n",
        "\n",
        "* Load hình ảnh và chuẩn hóa tập dữ liệu hình ảnh CIFAR10 sử dụng torchvision.\n",
        "* Xác định kiến trúc mạng neural.\n",
        "* Xác định hàm loss function.\n",
        "* Huấn luyện model trên tập training.\n",
        "* Đánh giá model trên tập testing."
      ],
      "metadata": {
        "id": "x67p2gMKhe2_"
      }
    },
    {
      "cell_type": "markdown",
      "source": [
        "###Loading and normalizing CIFAR10\n",
        "Sử dụng torchvision chúng ta có thể dễ dàng load các hình ảnh trong CIFAR10. Đầu ra của torchvision dataset là các hình ảnh PILImage nằm trong khoảng [0, 1]. Chúng ta sẽ biến đổi chúng thành các Tensors chuẩn hóa về khoảng [-1, 1]."
      ],
      "metadata": {
        "id": "uk47YLrJh44C"
      }
    },
    {
      "cell_type": "code",
      "source": [
        "import torch\n",
        "import torchvision\n",
        "import torchvision.transforms as transforms\n",
        "\n",
        "# Xây dựng một chuẩn hóa đầu vào cho ảnh\n",
        "\n",
        "transform = transforms.Compose(\n",
        "  [transforms.ToTensor(),\n",
        "  transforms.Normalize((0.5, 0.5, 0.5), (0.5, 0.5, 0.5))]\n",
        ")\n",
        "\n",
        "# Khởi tạo dữ trainset qui định dữ liệu training\n",
        "trainset = torchvision.datasets.CIFAR10(root = './CIFAR10', train = True, \n",
        "                                       download = True, transform = transform)\n",
        "\n",
        "# Khởi tạo trainloader qui định cách truyền dữ liệu vào model theo batch. \n",
        "trainloader = torch.utils.data.DataLoader(trainset, batch_size = 4, \n",
        "                                         shuffle = True, num_workers = 2)\n",
        "\n",
        "# Tương tự nhưng đối với test\n",
        "testset = torchvision.datasets.CIFAR10(root = './CIFAR10', train = False, \n",
        "                                      download = True, transform = transform)\n",
        "\n",
        "testloader = torch.utils.data.DataLoader(testset, batch_size = 4,\n",
        "                                              shuffle = False, num_workers = 2)\n",
        "\n",
        "# Nhãn cho các class\n",
        "classes = ('plane', 'car', 'bird', 'cat',\n",
        "           'deer', 'dog', 'frog', 'horse', 'ship', 'truck')"
      ],
      "metadata": {
        "id": "lVzn9elAWpxb",
        "colab": {
          "base_uri": "https://localhost:8080/",
          "height": 101,
          "referenced_widgets": [
            "10df340153294c11ab83185e25c3a16f",
            "9c7d67e0f59942cda14bbc1b4c279f9a",
            "55b65c27e1824e65bf55b7739bcb1618",
            "42adeef1f78e4c7db70c7ffe2f3b79fe",
            "b2d88d2c52b94b308c09f69b71d6a620",
            "36a309f9e13c46529ebfcddc458d47cf",
            "ae70f1d576b4406ebebc5d0a9019e55a",
            "73bfd4a3d0cc41599ff1fbf5202d007a",
            "b6e62a3d65274e9887382089f4f81533",
            "10d6e706090a478c9ccbacccfa68b375",
            "5e3641e9868b4c50bde93a830884886d"
          ]
        },
        "outputId": "714d4040-af83-4ab2-9564-a0eb773caf85"
      },
      "execution_count": null,
      "outputs": [
        {
          "output_type": "stream",
          "name": "stdout",
          "text": [
            "Downloading https://www.cs.toronto.edu/~kriz/cifar-10-python.tar.gz to ./CIFAR10/cifar-10-python.tar.gz\n"
          ]
        },
        {
          "output_type": "display_data",
          "data": {
            "text/plain": [
              "  0%|          | 0/170498071 [00:00<?, ?it/s]"
            ],
            "application/vnd.jupyter.widget-view+json": {
              "version_major": 2,
              "version_minor": 0,
              "model_id": "10df340153294c11ab83185e25c3a16f"
            }
          },
          "metadata": {}
        },
        {
          "output_type": "stream",
          "name": "stdout",
          "text": [
            "Extracting ./CIFAR10/cifar-10-python.tar.gz to ./CIFAR10\n",
            "Files already downloaded and verified\n"
          ]
        }
      ]
    },
    {
      "cell_type": "code",
      "source": [
        "print(type(trainset[0][0]))\n",
        "print(trainset[0][0].size())\n"
      ],
      "metadata": {
        "colab": {
          "base_uri": "https://localhost:8080/"
        },
        "id": "_Iy3y0M0gB1z",
        "outputId": "99370844-64e1-4b2b-8d2f-949783b0210b"
      },
      "execution_count": null,
      "outputs": [
        {
          "output_type": "stream",
          "name": "stdout",
          "text": [
            "<class 'torch.Tensor'>\n",
            "torch.Size([3, 32, 32])\n"
          ]
        }
      ]
    },
    {
      "cell_type": "markdown",
      "source": [
        "Các object trainset và testset là dữ liệu mà chúng ta sử dụng để huấn luyện model (chính là list các tensor đại diện cho các bức ảnh). Những object còn lại bao gồm trainLoader và testLoader qui định dữ liệu chúng ta lấy từ đâu và cách thức chúng ta truyền dữ liệu vào mô hình theo batch với kích thước bao nhiêu, có thực hiện shuffle các batch sau khi hết một epoch hay không?\n",
        "\n",
        "Hiển thị một số hình ảnh bằng matplotlib"
      ],
      "metadata": {
        "id": "nBpBloqliSKa"
      }
    },
    {
      "cell_type": "code",
      "source": [
        "import matplotlib.pyplot as plt\n",
        "import numpy as np\n",
        "\n",
        "# functions to show an image\n",
        "\n",
        "\n",
        "def imshow(img):\n",
        "    img = img / 2 + 0.5     # unnormalize\n",
        "    npimg = img.numpy()\n",
        "    plt.imshow(np.transpose(npimg, (1, 2, 0)))\n",
        "    plt.show()\n",
        "\n",
        "\n",
        "# get some random training images\n",
        "dataiter = iter(trainloader)\n",
        "images, labels = dataiter.next()\n",
        "\n",
        "# show images\n",
        "imshow(torchvision.utils.make_grid(images))\n",
        "# print labels\n",
        "print(' '.join('%5s' % classes[labels[j]] for j in range(4)))\n"
      ],
      "metadata": {
        "colab": {
          "base_uri": "https://localhost:8080/",
          "height": 155
        },
        "id": "NXM3VS7-iTLg",
        "outputId": "dedf9054-adf5-4071-9baa-4d2e262e247a"
      },
      "execution_count": null,
      "outputs": [
        {
          "output_type": "display_data",
          "data": {
            "text/plain": [
              "<Figure size 432x288 with 1 Axes>"
            ],
            "image/png": "[encoded data removed]"
          },
          "metadata": {
            "needs_background": "light"
          }
        },
        {
          "output_type": "stream",
          "name": "stdout",
          "text": [
            "  dog   dog  frog  ship\n"
          ]
        }
      ]
    },
    {
      "cell_type": "code",
      "source": [
        "print(type(trainloader))\n",
        "print(images.shape)"
      ],
      "metadata": {
        "colab": {
          "base_uri": "https://localhost:8080/"
        },
        "id": "ZJoMIreviTJM",
        "outputId": "c9bb4af9-efff-4b58-92c4-4a8d7aac2d97"
      },
      "execution_count": null,
      "outputs": [
        {
          "output_type": "stream",
          "name": "stdout",
          "text": [
            "<class 'torch.utils.data.dataloader.DataLoader'>\n",
            "torch.Size([4, 3, 32, 32])\n"
          ]
        }
      ]
    },
    {
      "cell_type": "markdown",
      "source": [
        "###Define a neural network\n",
        "Khởi tạo một mạng neural network thông qua class net như bên dưới. Hàm tạo __init__() sẽ chứa những layers của class và hàm forward() được sử dụng để ráp nối các layer và trả về một module hoàn chỉnh.\n",
        "\n",
        "Để hiểu về các layer trong pytorch chúng ta tham khảo tại pytorch layer."
      ],
      "metadata": {
        "id": "ucRaTi32idvM"
      }
    },
    {
      "cell_type": "code",
      "source": [
        "import torch.nn as nn\n",
        "import torch.nn.functional as F\n",
        "\n",
        "\n",
        "class Net(nn.Module):\n",
        "  def __init__(self):\n",
        "    super(Net, self).__init__()\n",
        "    # Conv2d: input nodes, output nodes, kernel size\n",
        "    self.conv1 = nn.Conv2d(3, 6, 5)\n",
        "    self.pool = nn.MaxPool2d(2, 2)\n",
        "    self.conv2 = nn.Conv2d(6, 16, 5)\n",
        "    self.fc1 = nn.Linear(16 * 5 * 5, 120)\n",
        "    self.fc2 = nn.Linear(120, 84)\n",
        "    self.fc3 = nn.Linear(84, 10)\n",
        "\n",
        "  def forward(self, x):\n",
        "    x = self.pool(F.relu(self.conv1(x)))\n",
        "    x = self.pool(F.relu(self.conv2(x)))\n",
        "    x = x.view(-1, 16 * 5 * 5)\n",
        "    x = F.relu(self.fc1(x))\n",
        "    x = F.relu(self.fc2(x))\n",
        "    x = self.fc3(x)\n",
        "    return x\n",
        "\n",
        "\n",
        "net = Net()"
      ],
      "metadata": {
        "id": "8Rm1Uv2PiTHL"
      },
      "execution_count": null,
      "outputs": []
    },
    {
      "cell_type": "code",
      "source": [
        "net"
      ],
      "metadata": {
        "colab": {
          "base_uri": "https://localhost:8080/"
        },
        "id": "itGD-nAPiTEm",
        "outputId": "99ec353f-127a-4a12-dbcc-a25ce5a57550"
      },
      "execution_count": null,
      "outputs": [
        {
          "output_type": "execute_result",
          "data": {
            "text/plain": [
              "Net(\n",
              "  (conv1): Conv2d(3, 6, kernel_size=(5, 5), stride=(1, 1))\n",
              "  (pool): MaxPool2d(kernel_size=2, stride=2, padding=0, dilation=1, ceil_mode=False)\n",
              "  (conv2): Conv2d(6, 16, kernel_size=(5, 5), stride=(1, 1))\n",
              "  (fc1): Linear(in_features=400, out_features=120, bias=True)\n",
              "  (fc2): Linear(in_features=120, out_features=84, bias=True)\n",
              "  (fc3): Linear(in_features=84, out_features=10, bias=True)\n",
              ")"
            ]
          },
          "metadata": {},
          "execution_count": 38
        }
      ]
    },
    {
      "cell_type": "markdown",
      "source": [
        "##Define optimizer function and loss function\n",
        "Hàm loss function được sử dụng là cross-entropy thông qua class nn.CrossEntropyLoss() và phương pháp optimizer là stochastic gradient descent của module torch.optim. Chi tiết về hàm loss function và phương pháp optimize đã quá quen thuộc, các bạn có thể lên google search một vài bài báo để hiểu rõ."
      ],
      "metadata": {
        "id": "wb_Z0hREiuHR"
      }
    },
    {
      "cell_type": "code",
      "source": [
        "import torch.optim as optim\n",
        "\n",
        "criterion = nn.CrossEntropyLoss()\n",
        "optimizer = optim.SGD(net.parameters(), lr = 0.001, momentum = 0.1)\n"
      ],
      "metadata": {
        "id": "c7wRDhDdiTCK"
      },
      "execution_count": null,
      "outputs": []
    },
    {
      "cell_type": "markdown",
      "source": [
        "##Model training\n",
        "Chúng ta sẽ khởi tạo một vòng loop bao gồm 2 epochs trong đó mỗi một epochs sẽ truyền toàn bộ các data iterator như đầu vào của mạng nơ ron. Bên trong mỗi epoch chúng ta xác định:\n",
        "\n",
        "* output của mô hình.\n",
        "* hàm loss function.\n",
        "* phương pháp optimize.\n",
        "* thực hiện quá trình feed forward.\n",
        "\n",
        "Mọi thứ diễn ra khá đơn giản theo như code bên dưới"
      ],
      "metadata": {
        "id": "aRZ8L0EZi6pn"
      }
    },
    {
      "cell_type": "code",
      "source": [
        "for epoch in range(2): # loop over the dataset multiple times\n",
        "  running_loss = 0.0\n",
        "  for i, data in enumerate(trainloader, 0):\n",
        "    # get the inputs, data is a list of [inputs, labels]\n",
        "    inputs, labels = data\n",
        "    \n",
        "    # zero the parameter gradients\n",
        "    optimizer.zero_grad()\n",
        "    \n",
        "    # forward + backward + optimize\n",
        "    outputs = net(inputs)\n",
        "    loss = criterion(outputs, labels)\n",
        "    loss.backward()\n",
        "    optimizer.step()\n",
        "    \n",
        "    # print statistics\n",
        "    running_loss += loss.item()\n",
        "    if i % 2000 == 1999: # print every 2000 mini-batches\n",
        "      print('[%d, %5d] loss: %.3f' %\n",
        "           (epoch + 1, i + 1, running_loss/2000))\n",
        "      running_loss = 0.0\n",
        "      \n",
        "print('Finished Training')"
      ],
      "metadata": {
        "colab": {
          "base_uri": "https://localhost:8080/"
        },
        "id": "HQhwYTJuiS_3",
        "outputId": "526df288-6e65-494a-cfcd-850ced588df2"
      },
      "execution_count": null,
      "outputs": [
        {
          "output_type": "stream",
          "name": "stdout",
          "text": [
            "[1,  2000] loss: 2.305\n",
            "[1,  4000] loss: 2.302\n",
            "[1,  6000] loss: 2.301\n",
            "[1,  8000] loss: 2.299\n",
            "[1, 10000] loss: 2.294\n",
            "[1, 12000] loss: 2.279\n",
            "[2,  2000] loss: 2.208\n",
            "[2,  4000] loss: 2.105\n",
            "[2,  6000] loss: 2.012\n",
            "[2,  8000] loss: 1.955\n",
            "[2, 10000] loss: 1.888\n",
            "[2, 12000] loss: 1.826\n",
            "Finished Training\n"
          ]
        }
      ]
    },
    {
      "cell_type": "markdown",
      "source": [
        "##Test the network on the test data set\n",
        "Như vậy chúng ta đã hoàn thành 2 lượt huấn luyện dữ liệu trên toàn bộ tập training dataset. Sau đây chúng ta cần kiểm tra xem kết quả mô hình sau huấn luyện như thế nào trên dữ liệu test dataset.\n",
        "\n"
      ],
      "metadata": {
        "id": "DCUSjxNajdwm"
      }
    },
    {
      "cell_type": "code",
      "source": [
        "# Hiển thị một vài dữ liệu\n",
        "# Sử dụng hàm iter để biến testloader thành 1 iterator, từ đó có thể lấy các giá trị tiếp theo.\n",
        "dataiter = iter(testloader)\n",
        "images, labels = dataiter.next()\n",
        "\n",
        "# print image\n",
        "imshow(torchvision.utils.make_grid(images))\n",
        "print('GroundTruth: {}'.format(' '.join('%5s' % classes[labels[j]] for j in range(4))))"
      ],
      "metadata": {
        "colab": {
          "base_uri": "https://localhost:8080/",
          "height": 155
        },
        "id": "H4o8qlp1iS9Q",
        "outputId": "82a28869-9c68-46fa-fc4e-0085001eeaa7"
      },
      "execution_count": null,
      "outputs": [
        {
          "output_type": "display_data",
          "data": {
            "text/plain": [
              "<Figure size 432x288 with 1 Axes>"
            ],
            "image/png": "[encoded data removed]"
          },
          "metadata": {
            "needs_background": "light"
          }
        },
        {
          "output_type": "stream",
          "name": "stdout",
          "text": [
            "GroundTruth:   cat  ship  ship plane\n"
          ]
        }
      ]
    },
    {
      "cell_type": "markdown",
      "source": [
        "Khác với tensorflow khi dự báo chúng ta cần phải sử dụng hàm predict. Để dự báo nhãn cho tập data test chúng ta chỉ cần truyền raw data vào object net. Mô hình sẽ tự động thực hiện một quá trình lan truyền thuận và tính ra phân phối xác xuất ở đầu ra.\n",
        "\n"
      ],
      "metadata": {
        "id": "Q4A6XW4Hjkkl"
      }
    },
    {
      "cell_type": "code",
      "source": [
        "outputs = net(images)\n",
        "print(type(outputs))\n",
        "print(outputs.shape)\n"
      ],
      "metadata": {
        "colab": {
          "base_uri": "https://localhost:8080/"
        },
        "id": "LUqHl4YAjlxo",
        "outputId": "0cd69d40-f213-472f-c7db-e4e55cfb1275"
      },
      "execution_count": null,
      "outputs": [
        {
          "output_type": "stream",
          "name": "stdout",
          "text": [
            "<class 'torch.Tensor'>\n",
            "torch.Size([4, 10])\n"
          ]
        }
      ]
    },
    {
      "cell_type": "markdown",
      "source": [
        "Lấy ra nhãn dự báo dựa vào xác xuất lớn nhất của phân phối xác xuất đầu ra.\n",
        "\n"
      ],
      "metadata": {
        "id": "c5A9V9nUjqEv"
      }
    },
    {
      "cell_type": "code",
      "source": [
        "_,  predicted = torch.max(outputs, 1)\n",
        "print('Predicted: ', ' '.join('%5s' % classes[predicted[j]]\n",
        "                              for j in range(4)))"
      ],
      "metadata": {
        "colab": {
          "base_uri": "https://localhost:8080/"
        },
        "id": "4bAX6w-WjpI8",
        "outputId": "428d125f-b931-4232-ab42-396c72a282dd"
      },
      "execution_count": null,
      "outputs": [
        {
          "output_type": "stream",
          "name": "stdout",
          "text": [
            "Predicted:    cat  ship  ship  ship\n"
          ]
        }
      ]
    },
    {
      "cell_type": "markdown",
      "source": [
        "Dự báo trên 4 quan sát đầu tiên cho thấy đúng 3 sai 1. Kiểm tra trên toàn bộ các quan sát.\n",
        "\n"
      ],
      "metadata": {
        "id": "QKlqtxNVjv5Q"
      }
    },
    {
      "cell_type": "code",
      "source": [
        "print(type(labels))\n",
        "print(type(images))\n",
        "\n",
        "print(labels.shape)\n",
        "print(images.shape)\n"
      ],
      "metadata": {
        "colab": {
          "base_uri": "https://localhost:8080/"
        },
        "id": "N9VoO7tujlvt",
        "outputId": "fe70387e-c891-4d4c-b507-e43561cbd7f1"
      },
      "execution_count": null,
      "outputs": [
        {
          "output_type": "stream",
          "name": "stdout",
          "text": [
            "<class 'torch.Tensor'>\n",
            "<class 'torch.Tensor'>\n",
            "torch.Size([4])\n",
            "torch.Size([4, 3, 32, 32])\n"
          ]
        }
      ]
    },
    {
      "cell_type": "code",
      "source": [
        "correct = 0\n",
        "total = 0\n",
        "with torch.no_grad():\n",
        "    for data in testloader:\n",
        "        images, labels = data\n",
        "        outputs = net(images)\n",
        "        _, predicted = torch.max(outputs.data, 1)\n",
        "        total += labels.size(0)\n",
        "        correct += (predicted == labels).sum().item()\n",
        "\n",
        "print('Accuracy of the network on the 10000 test images: %d %%' % (\n",
        "    100 * correct / total))"
      ],
      "metadata": {
        "colab": {
          "base_uri": "https://localhost:8080/"
        },
        "id": "h8WuSWfrjlt9",
        "outputId": "a92b9e67-4e70-4f83-aa69-a92c2dd0607f"
      },
      "execution_count": null,
      "outputs": [
        {
          "output_type": "stream",
          "name": "stdout",
          "text": [
            "Accuracy of the network on the 10000 test images: 35 %\n"
          ]
        }
      ]
    },
    {
      "cell_type": "markdown",
      "source": [
        "Kiểm tra mức độ chính xác trên từng class một.\n",
        "\n"
      ],
      "metadata": {
        "id": "8ld59Q2hj5QH"
      }
    },
    {
      "cell_type": "code",
      "source": [
        "class_correct = list(0. for i in range(10))\n",
        "class_total = list(0. for i in range(10))\n",
        "with torch.no_grad():\n",
        "    for data in testloader:\n",
        "        images, labels = data\n",
        "        outputs = net(images)\n",
        "        _, predicted = torch.max(outputs, 1)\n",
        "        c = (predicted == labels).squeeze()\n",
        "        for i in range(4):\n",
        "            label = labels[i]\n",
        "            class_correct[label] += c[i].item()\n",
        "            class_total[label] += 1\n",
        "\n",
        "\n",
        "for i in range(10):\n",
        "    print('Accuracy of %5s : %2d %%' % (\n",
        "        classes[i], 100 * class_correct[i] / class_total[i]))\n"
      ],
      "metadata": {
        "colab": {
          "base_uri": "https://localhost:8080/"
        },
        "id": "6ux2trxOjlrW",
        "outputId": "cddac23f-2c44-4607-e57c-d4c91af73fc8"
      },
      "execution_count": null,
      "outputs": [
        {
          "output_type": "stream",
          "name": "stdout",
          "text": [
            "Accuracy of plane : 48 %\n",
            "Accuracy of   car : 48 %\n",
            "Accuracy of  bird :  7 %\n",
            "Accuracy of   cat : 12 %\n",
            "Accuracy of  deer :  8 %\n",
            "Accuracy of   dog : 33 %\n",
            "Accuracy of  frog : 66 %\n",
            "Accuracy of horse : 50 %\n",
            "Accuracy of  ship : 27 %\n",
            "Accuracy of truck : 49 %\n"
          ]
        }
      ]
    },
    {
      "cell_type": "markdown",
      "source": [
        "## Train model on GPU"
      ],
      "metadata": {
        "id": "CKkRFZ0Qj_ed"
      }
    },
    {
      "cell_type": "code",
      "source": [
        "device = torch.device(\"cuda:0\" if torch.cuda.is_available() else \"cpu\")\n",
        "print(device)"
      ],
      "metadata": {
        "colab": {
          "base_uri": "https://localhost:8080/"
        },
        "id": "7sFewGzJjlpD",
        "outputId": "1c5a52c6-cb84-4290-c960-480b624147d5"
      },
      "execution_count": null,
      "outputs": [
        {
          "output_type": "stream",
          "name": "stdout",
          "text": [
            "cuda:0\n"
          ]
        }
      ]
    },
    {
      "cell_type": "markdown",
      "source": [
        "Để đưa model lên device chúng ta sẽ convert chúng thành parameters và lưu trữ chúng lên buffer của CUDA.\n",
        "\n"
      ],
      "metadata": {
        "id": "hyvmCk9mkEoJ"
      }
    },
    {
      "cell_type": "code",
      "source": [
        "net.to(device)"
      ],
      "metadata": {
        "colab": {
          "base_uri": "https://localhost:8080/"
        },
        "id": "KQjm7hGYkFk4",
        "outputId": "c84444c3-a103-451c-8728-754f79946706"
      },
      "execution_count": null,
      "outputs": [
        {
          "output_type": "execute_result",
          "data": {
            "text/plain": [
              "Net(\n",
              "  (conv1): Conv2d(3, 6, kernel_size=(5, 5), stride=(1, 1))\n",
              "  (pool): MaxPool2d(kernel_size=2, stride=2, padding=0, dilation=1, ceil_mode=False)\n",
              "  (conv2): Conv2d(6, 16, kernel_size=(5, 5), stride=(1, 1))\n",
              "  (fc1): Linear(in_features=400, out_features=120, bias=True)\n",
              "  (fc2): Linear(in_features=120, out_features=84, bias=True)\n",
              "  (fc3): Linear(in_features=84, out_features=10, bias=True)\n",
              ")"
            ]
          },
          "metadata": {},
          "execution_count": 49
        }
      ]
    },
    {
      "cell_type": "code",
      "source": [
        "print(data[0].shape)\n",
        "print(data[1].shape)"
      ],
      "metadata": {
        "colab": {
          "base_uri": "https://localhost:8080/"
        },
        "id": "M4IZ46zzkFiY",
        "outputId": "ae6aa359-f6c4-4761-a3dc-9c31d63cee3b"
      },
      "execution_count": null,
      "outputs": [
        {
          "output_type": "stream",
          "name": "stdout",
          "text": [
            "torch.Size([4, 3, 32, 32])\n",
            "torch.Size([4])\n"
          ]
        }
      ]
    },
    {
      "cell_type": "code",
      "source": [
        "inputs, labels = data[0].to(device), data[1].to(device)\n"
      ],
      "metadata": {
        "id": "UsCuwJyykFgC"
      },
      "execution_count": null,
      "outputs": []
    },
    {
      "cell_type": "markdown",
      "source": [
        "#Documentation\n",
        "* [Pytorch layer](https://pytorch.org/docs/stable/nn.html)\n",
        "* [Xây dựng mạng convolutional neural network trên pytorch](https://pytorch.org/tutorials/beginner/blitz/cifar10_tutorial.html)\n",
        "* [Dataset pytorch](https://pytorch.org/docs/stable/data.html)\n",
        "* [Xử lý trên GPU - pytorch](https://pytorch.org/tutorials/beginner/blitz/data_parallel_tutorial.html)\n",
        "* [Pytorch - Buổi 1 - Làm quen với pytorch](https://phamdinhkhanh.github.io/2019/08/10/PytorchTurtorial1.html#39-hu%E1%BA%A5n-luy%E1%BB%87n-model-tr%C3%AAn-gpu)"
      ],
      "metadata": {
        "id": "V2Skm4Zal1Wj"
      }
    },
    {
      "cell_type": "code",
      "source": [],
      "metadata": {
        "id": "WR8fQ0YgjlmT"
      },
      "execution_count": null,
      "outputs": []
    },
    {
      "cell_type": "code",
      "source": [],
      "metadata": {
        "id": "5Fbs8KT9O0JL"
      },
      "execution_count": null,
      "outputs": []
    },
    {
      "cell_type": "code",
      "source": [],
      "metadata": {
        "id": "HabW9K-ZO0Gm"
      },
      "execution_count": null,
      "outputs": []
    }
  ]
}